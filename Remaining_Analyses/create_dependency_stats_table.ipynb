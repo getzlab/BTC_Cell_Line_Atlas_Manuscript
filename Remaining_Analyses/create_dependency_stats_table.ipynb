{
 "cells": [
  {
   "cell_type": "code",
   "id": "initial_id",
   "metadata": {
    "collapsed": true,
    "ExecuteTime": {
     "end_time": "2024-07-04T20:29:50.392314Z",
     "start_time": "2024-07-04T20:29:48.798198Z"
    }
   },
   "source": [
    "import numpy as np\n",
    "import pandas as pd\n",
    "import random\n",
    "import os\n",
    "working_dir = \"/Users/nkarisan/PycharmProjects/BTC_Cell_Line_Atlas_Manuscript\"\n",
    "os.chdir(working_dir)\n",
    "\n",
    "import BTC_Cell_Line_Atlas_Manuscript.scripts.io_library as io_library\n",
    "io_library.input_dir = 'input_data/'\n",
    "io_library.output_dir = 'Remaining_Analyses/'\n",
    "\n",
    "from BTC_Cell_Line_Atlas_Manuscript.scripts.io_library import MyLib\n",
    "from BTC_Cell_Line_Atlas_Manuscript.scripts.utils import Utils\n",
    "from BTC_Cell_Line_Atlas_Manuscript.scripts.visualization import MyVisualization"
   ],
   "outputs": [],
   "execution_count": 1
  },
  {
   "cell_type": "code",
   "source": [
    "import matplotlib\n",
    "seed = 2023\n",
    "random.seed(seed)\n",
    "np.random.seed(seed)\n",
    "\n",
    "matplotlib.use(\"nbagg\")\n",
    "\n",
    "\n",
    "%matplotlib inline\n",
    "%config InlineBackend.figure_format = \"retina\"\n",
    "\n",
    "\n",
    "%load_ext autoreload\n",
    "%autoreload 2"
   ],
   "metadata": {
    "collapsed": false,
    "ExecuteTime": {
     "end_time": "2024-07-04T20:29:55.696174Z",
     "start_time": "2024-07-04T20:29:55.667566Z"
    }
   },
   "id": "7735607525b2bc0b",
   "outputs": [],
   "execution_count": 2
  },
  {
   "cell_type": "code",
   "source": [
    "target_genes_1 = sorted(['MDM4', 'BRAF', 'ERBB2', 'PPCDC', 'TP63', 'FDFT1',\n",
    "                'STAMBP', 'PRKCI', 'KIF18B', 'ITGB5', 'CTNNB1', 'SREBF1',\n",
    "                'ELMO2', 'PRKRA', 'MAPK1', 'MAP2K1', 'TGFBR1', 'SQLE',\n",
    "                'TYMS', 'DPM2', 'SLC7A1', 'MBTD1', 'FPGS', 'IPPK',\n",
    "                'HNF1B','NXT1', 'GRHL2', 'UXS1', 'ITGAV', 'TEAD1', 'STX4',\n",
    "                'PARD6B', 'NAMPT', 'FADD', 'FERMT2', 'EGFR', 'SOX9', 'STXBP3',\n",
    "                 'BRK1', 'MARK2', 'WWTR1', 'CRKL', 'RAB10',\n",
    "                'SLC7A5', 'SLC2A1', 'RFK', 'ARHGEF7', 'ITGB1',\n",
    "                'TUBB4B', 'CRK', 'HDAC7', 'ITGA3',\n",
    "                'CDK4', 'IDH3A', 'DHODH', 'NMNAT1', 'ABI1', 'CDH1'])\n",
    "target_genes_2 = sorted(['NCKAP1', 'KRAS', 'PIK3CA', 'AHCYL1'])\n",
    "target_genes_3 = sorted(['PTPN11', 'PRMT5', 'SNAP23', 'SLC3A2', 'RIC1', 'RAB6A'])\n",
    "target_genes = target_genes_1+target_genes_2+target_genes_3\n",
    "genes_table_df = pd.DataFrame(index=target_genes, dtype=float)"
   ],
   "metadata": {
    "collapsed": false,
    "ExecuteTime": {
     "end_time": "2024-07-04T20:29:56.388219Z",
     "start_time": "2024-07-04T20:29:56.372892Z"
    }
   },
   "id": "4d3a23a6726d8073",
   "outputs": [],
   "execution_count": 3
  },
  {
   "cell_type": "code",
   "source": [
    "gene_effect_thr_dic = {gene:-0.5 for gene in target_genes_1}\n",
    "gene_effect_thr_dic.update({gene:-0.8 for gene in target_genes_2})\n",
    "gene_effect_thr_dic.update({gene:-1 for gene in target_genes_3})\n",
    "len(gene_effect_thr_dic)"
   ],
   "metadata": {
    "collapsed": false,
    "ExecuteTime": {
     "end_time": "2024-07-04T20:29:57.681350Z",
     "start_time": "2024-07-04T20:29:57.656522Z"
    }
   },
   "id": "252927182d3082fa",
   "outputs": [
    {
     "data": {
      "text/plain": [
       "68"
      ]
     },
     "execution_count": 4,
     "metadata": {},
     "output_type": "execute_result"
    }
   ],
   "execution_count": 4
  },
  {
   "cell_type": "code",
   "source": [
    "gene_effect_thr_dic"
   ],
   "metadata": {
    "collapsed": false,
    "ExecuteTime": {
     "end_time": "2024-07-04T20:29:58.501435Z",
     "start_time": "2024-07-04T20:29:58.466759Z"
    }
   },
   "id": "9b4e91067d7b6b04",
   "outputs": [
    {
     "data": {
      "text/plain": [
       "{'ABI1': -0.5,\n",
       " 'ARHGEF7': -0.5,\n",
       " 'BRAF': -0.5,\n",
       " 'BRK1': -0.5,\n",
       " 'CDH1': -0.5,\n",
       " 'CDK4': -0.5,\n",
       " 'CRK': -0.5,\n",
       " 'CRKL': -0.5,\n",
       " 'CTNNB1': -0.5,\n",
       " 'DHODH': -0.5,\n",
       " 'DPM2': -0.5,\n",
       " 'EGFR': -0.5,\n",
       " 'ELMO2': -0.5,\n",
       " 'ERBB2': -0.5,\n",
       " 'FADD': -0.5,\n",
       " 'FDFT1': -0.5,\n",
       " 'FERMT2': -0.5,\n",
       " 'FPGS': -0.5,\n",
       " 'GRHL2': -0.5,\n",
       " 'HDAC7': -0.5,\n",
       " 'HNF1B': -0.5,\n",
       " 'IDH3A': -0.5,\n",
       " 'IPPK': -0.5,\n",
       " 'ITGA3': -0.5,\n",
       " 'ITGAV': -0.5,\n",
       " 'ITGB1': -0.5,\n",
       " 'ITGB5': -0.5,\n",
       " 'KIF18B': -0.5,\n",
       " 'MAP2K1': -0.5,\n",
       " 'MAPK1': -0.5,\n",
       " 'MARK2': -0.5,\n",
       " 'MBTD1': -0.5,\n",
       " 'MDM4': -0.5,\n",
       " 'NAMPT': -0.5,\n",
       " 'NMNAT1': -0.5,\n",
       " 'NXT1': -0.5,\n",
       " 'PARD6B': -0.5,\n",
       " 'PPCDC': -0.5,\n",
       " 'PRKCI': -0.5,\n",
       " 'PRKRA': -0.5,\n",
       " 'RAB10': -0.5,\n",
       " 'RFK': -0.5,\n",
       " 'SLC2A1': -0.5,\n",
       " 'SLC7A1': -0.5,\n",
       " 'SLC7A5': -0.5,\n",
       " 'SOX9': -0.5,\n",
       " 'SQLE': -0.5,\n",
       " 'SREBF1': -0.5,\n",
       " 'STAMBP': -0.5,\n",
       " 'STX4': -0.5,\n",
       " 'STXBP3': -0.5,\n",
       " 'TEAD1': -0.5,\n",
       " 'TGFBR1': -0.5,\n",
       " 'TP63': -0.5,\n",
       " 'TUBB4B': -0.5,\n",
       " 'TYMS': -0.5,\n",
       " 'UXS1': -0.5,\n",
       " 'WWTR1': -0.5,\n",
       " 'AHCYL1': -0.8,\n",
       " 'KRAS': -0.8,\n",
       " 'NCKAP1': -0.8,\n",
       " 'PIK3CA': -0.8,\n",
       " 'PRMT5': -1,\n",
       " 'PTPN11': -1,\n",
       " 'RAB6A': -1,\n",
       " 'RIC1': -1,\n",
       " 'SLC3A2': -1,\n",
       " 'SNAP23': -1}"
      ]
     },
     "execution_count": 5,
     "metadata": {},
     "output_type": "execute_result"
    }
   ],
   "execution_count": 5
  },
  {
   "cell_type": "code",
   "source": [
    "gene_effect_file = 'Main_Data/CRISPR/CRISPR.csv'\n",
    "gene_effect_df = MyLib.load_csv(gene_effect_file, index_col=0)\n",
    "gene_effect_df = gene_effect_df.T\n",
    "gene_effect_df = gene_effect_df.rename(columns={c:c.split(' (')[0] for c in gene_effect_df.columns})\n",
    "\n",
    "upset_file = 'cell_lines_master_upset_2024-4-13.csv'\n",
    "raw_upset_df = MyLib.load_csv(upset_file, index_col=0)\n",
    "upset_df = raw_upset_df[(raw_upset_df['CRISPR']==1) & (raw_upset_df['Subtype']!='HCC')]\n",
    "gene_effect_df =  gene_effect_df.loc[upset_df.index, :]\n",
    "\n",
    "gene_effect_df.shape"
   ],
   "metadata": {
    "collapsed": false,
    "ExecuteTime": {
     "end_time": "2024-07-04T20:30:04.092833Z",
     "start_time": "2024-07-04T20:30:03.820220Z"
    }
   },
   "id": "dab1319147c1bfb5",
   "outputs": [
    {
     "name": "stdout",
     "output_type": "stream",
     "text": [
      "input_data/Main_Data/CRISPR/CRISPR.csv  is loaded, shape:  (18443, 60)\n",
      "\n",
      "input_data/cell_lines_master_upset_2024-4-13.csv  is loaded, shape:  (87, 10)\n",
      "\n"
     ]
    },
    {
     "data": {
      "text/plain": [
       "(39, 18443)"
      ]
     },
     "execution_count": 6,
     "metadata": {},
     "output_type": "execute_result"
    }
   ],
   "execution_count": 6
  },
  {
   "cell_type": "markdown",
   "source": [
    "# BTC Common Essential"
   ],
   "metadata": {
    "collapsed": false
   },
   "id": "f28ab3cf1cde250e"
  },
  {
   "cell_type": "code",
   "source": [
    "count_thr = 20\n",
    "for gene in target_genes:\n",
    "    total = (gene_effect_df[gene] < -0.5).sum()\n",
    "    if total >= count_thr:\n",
    "        genes_table_df.loc[gene, 'BTC common essential'] ='Yes'"
   ],
   "metadata": {
    "collapsed": false,
    "ExecuteTime": {
     "end_time": "2024-07-04T20:30:06.140192Z",
     "start_time": "2024-07-04T20:30:06.115Z"
    }
   },
   "id": "c34bd9f279b42f83",
   "outputs": [],
   "execution_count": 7
  },
  {
   "cell_type": "markdown",
   "source": [
    "# Dependent Cell Lines"
   ],
   "metadata": {
    "collapsed": false
   },
   "id": "f207a8548e4f7129"
  },
  {
   "cell_type": "code",
   "source": [
    "for gene in target_genes:\n",
    "    total = (gene_effect_df[gene] < gene_effect_thr_dic[gene]).sum()\n",
    "    percentage = (gene_effect_df[gene] < gene_effect_thr_dic[gene]).mean() * 100\n",
    "    average = gene_effect_df.loc[(gene_effect_df[gene] < gene_effect_thr_dic[gene]), gene].median()\n",
    "\n",
    "    genes_table_df.loc[gene, 'Dependent Cell Lines'] = int(total)\n",
    "    genes_table_df.loc[gene, 'Dependent Cell Lines (%)'] = round(percentage)\n",
    "    genes_table_df.loc[gene, 'Dependent Cell Lines Median Gene Effect'] = average"
   ],
   "metadata": {
    "collapsed": false,
    "ExecuteTime": {
     "end_time": "2024-07-04T20:31:33.741650Z",
     "start_time": "2024-07-04T20:30:13.308766Z"
    }
   },
   "id": "c0495e5ceb125496",
   "outputs": [],
   "execution_count": 8
  },
  {
   "cell_type": "markdown",
   "source": [],
   "metadata": {
    "collapsed": false
   },
   "id": "1f4f9b3c60de6572"
  },
  {
   "cell_type": "markdown",
   "source": [
    "## LRT columns"
   ],
   "metadata": {
    "collapsed": false
   },
   "id": "a09f6f5e7e7d8b3c"
  },
  {
   "cell_type": "code",
   "outputs": [
    {
     "data": {
      "text/plain": "         Dependent Cell Lines  Dependent Cell Lines (%)  \\\nGene                                                      \nAAAS                      4.0                      10.0   \nAARS2                     8.0                      21.0   \nABCA4                     2.0                       5.0   \nABHD11                    4.0                      10.0   \nABI1                      8.0                      21.0   \n...                       ...                       ...   \nZSCAN18                   2.0                       5.0   \nZSWIM8                    3.0                       8.0   \nZW10                      3.0                       8.0   \nZWILCH                    3.0                       8.0   \nZWINT                    22.0                      56.0   \n\n         Dependent Cell Lines (fractions)  \\\nGene                                        \nAAAS                             0.102564   \nAARS2                            0.205128   \nABCA4                            0.051282   \nABHD11                           0.102564   \nABI1                             0.205128   \n...                                   ...   \nZSCAN18                          0.051282   \nZSWIM8                           0.076923   \nZW10                             0.076923   \nZWILCH                           0.076923   \nZWINT                            0.564103   \n\n         Dependent Cell Lines Median Gene Effect    NormLRT  \nGene                                                         \nAAAS                                   -0.759003  12.887380  \nAARS2                                  -0.568605   0.465015  \nABCA4                                  -0.642254   3.948314  \nABHD11                                 -0.732569   7.270102  \nABI1                                   -0.587920  22.288772  \n...                                          ...        ...  \nZSCAN18                                -0.514467  10.360088  \nZSWIM8                                 -0.508441   2.022947  \nZW10                                   -0.629180   0.074405  \nZWILCH                                 -0.632416  17.889750  \nZWINT                                  -0.717821   0.004872  \n\n[1248 rows x 5 columns]",
      "text/html": "<div>\n<style scoped>\n    .dataframe tbody tr th:only-of-type {\n        vertical-align: middle;\n    }\n\n    .dataframe tbody tr th {\n        vertical-align: top;\n    }\n\n    .dataframe thead th {\n        text-align: right;\n    }\n</style>\n<table border=\"1\" class=\"dataframe\">\n  <thead>\n    <tr style=\"text-align: right;\">\n      <th></th>\n      <th>Dependent Cell Lines</th>\n      <th>Dependent Cell Lines (%)</th>\n      <th>Dependent Cell Lines (fractions)</th>\n      <th>Dependent Cell Lines Median Gene Effect</th>\n      <th>NormLRT</th>\n    </tr>\n    <tr>\n      <th>Gene</th>\n      <th></th>\n      <th></th>\n      <th></th>\n      <th></th>\n      <th></th>\n    </tr>\n  </thead>\n  <tbody>\n    <tr>\n      <th>AAAS</th>\n      <td>4.0</td>\n      <td>10.0</td>\n      <td>0.102564</td>\n      <td>-0.759003</td>\n      <td>12.887380</td>\n    </tr>\n    <tr>\n      <th>AARS2</th>\n      <td>8.0</td>\n      <td>21.0</td>\n      <td>0.205128</td>\n      <td>-0.568605</td>\n      <td>0.465015</td>\n    </tr>\n    <tr>\n      <th>ABCA4</th>\n      <td>2.0</td>\n      <td>5.0</td>\n      <td>0.051282</td>\n      <td>-0.642254</td>\n      <td>3.948314</td>\n    </tr>\n    <tr>\n      <th>ABHD11</th>\n      <td>4.0</td>\n      <td>10.0</td>\n      <td>0.102564</td>\n      <td>-0.732569</td>\n      <td>7.270102</td>\n    </tr>\n    <tr>\n      <th>ABI1</th>\n      <td>8.0</td>\n      <td>21.0</td>\n      <td>0.205128</td>\n      <td>-0.587920</td>\n      <td>22.288772</td>\n    </tr>\n    <tr>\n      <th>...</th>\n      <td>...</td>\n      <td>...</td>\n      <td>...</td>\n      <td>...</td>\n      <td>...</td>\n    </tr>\n    <tr>\n      <th>ZSCAN18</th>\n      <td>2.0</td>\n      <td>5.0</td>\n      <td>0.051282</td>\n      <td>-0.514467</td>\n      <td>10.360088</td>\n    </tr>\n    <tr>\n      <th>ZSWIM8</th>\n      <td>3.0</td>\n      <td>8.0</td>\n      <td>0.076923</td>\n      <td>-0.508441</td>\n      <td>2.022947</td>\n    </tr>\n    <tr>\n      <th>ZW10</th>\n      <td>3.0</td>\n      <td>8.0</td>\n      <td>0.076923</td>\n      <td>-0.629180</td>\n      <td>0.074405</td>\n    </tr>\n    <tr>\n      <th>ZWILCH</th>\n      <td>3.0</td>\n      <td>8.0</td>\n      <td>0.076923</td>\n      <td>-0.632416</td>\n      <td>17.889750</td>\n    </tr>\n    <tr>\n      <th>ZWINT</th>\n      <td>22.0</td>\n      <td>56.0</td>\n      <td>0.564103</td>\n      <td>-0.717821</td>\n      <td>0.004872</td>\n    </tr>\n  </tbody>\n</table>\n<p>1248 rows × 5 columns</p>\n</div>"
     },
     "execution_count": 174,
     "metadata": {},
     "output_type": "execute_result"
    }
   ],
   "source": [
    "lrt_output_file = 'Figure7/output_fig7/lrt_plot_genes.csv'\n",
    "lrt_df = pd.read_csv(lrt_output_file, index_col=0)\n",
    "lrt_df"
   ],
   "metadata": {
    "collapsed": false,
    "ExecuteTime": {
     "end_time": "2024-07-01T17:16:36.310320Z",
     "start_time": "2024-07-01T17:16:36.284357Z"
    }
   },
   "id": "92d9da1a5a506f23",
   "execution_count": 174
  },
  {
   "cell_type": "code",
   "outputs": [],
   "source": [
    "selected_cols = ['NormLRT']\n",
    "shared_genes = set(target_genes).intersection(lrt_df.index)\n",
    "genes_table_df[selected_cols] = lrt_df.loc[shared_genes, selected_cols].copy()"
   ],
   "metadata": {
    "collapsed": false,
    "ExecuteTime": {
     "end_time": "2024-07-01T17:16:36.328663Z",
     "start_time": "2024-07-01T17:16:36.311794Z"
    }
   },
   "id": "f397d84c2308c48a",
   "execution_count": 175
  },
  {
   "cell_type": "markdown",
   "source": [
    "Genes Not Selective Using NormLRT Scores"
   ],
   "metadata": {
    "collapsed": false
   },
   "id": "8a39b720ca13e6fe"
  },
  {
   "cell_type": "code",
   "outputs": [
    {
     "data": {
      "text/plain": "['PIK3CA', 'PRMT5', 'PTPN11']"
     },
     "execution_count": 176,
     "metadata": {},
     "output_type": "execute_result"
    }
   ],
   "source": [
    "diff_genes = sorted(set(target_genes).difference(lrt_df.index))\n",
    "diff_genes"
   ],
   "metadata": {
    "collapsed": false,
    "ExecuteTime": {
     "end_time": "2024-07-01T17:16:36.344424Z",
     "start_time": "2024-07-01T17:16:36.329842Z"
    }
   },
   "id": "4a9602424dbc208a",
   "execution_count": 176
  },
  {
   "cell_type": "markdown",
   "source": [
    "# 3p"
   ],
   "metadata": {
    "collapsed": false
   },
   "id": "fb5260b0ab4e2f2b"
  },
  {
   "cell_type": "code",
   "outputs": [
    {
     "data": {
      "text/plain": "             ssGSEA            Status\nCell_line                            \nSNU869     1.047410  High 3p13 ssGSEA\nSNU478     0.491806  High 3p13 ssGSEA\nTGBC52TKB  0.998703  High 3p13 ssGSEA\nAOVC1      1.052649  High 3p13 ssGSEA\nSNU245     1.039064  High 3p13 ssGSEA\nSNU1196    1.245941  High 3p13 ssGSEA\nEGI1      -0.095676   Low 3p13 ssGSEA\nKKU100     0.943710  High 3p13 ssGSEA\nTFK1       0.117248  High 3p13 ssGSEA\nECC3      -1.300166   Low 3p13 ssGSEA\nECC4       0.300873  High 3p13 ssGSEA\nSNU308     1.960618  High 3p13 ssGSEA\nNOZ        1.385716  High 3p13 ssGSEA\nOCUG1     -0.802314   Low 3p13 ssGSEA\nG415       1.433158  High 3p13 ssGSEA\nTGBC1TKB  -0.780127   Low 3p13 ssGSEA\nGB2        0.371054  High 3p13 ssGSEA\nGB3        0.243258  High 3p13 ssGSEA\nSNU1079   -0.153040   Low 3p13 ssGSEA\nHUH28      1.657274  High 3p13 ssGSEA\nHUCCT1    -0.474519   Low 3p13 ssGSEA\nKKU055     1.707585  High 3p13 ssGSEA\nKKU213     0.810239  High 3p13 ssGSEA\nICC10     -0.678774   Low 3p13 ssGSEA\nICC10-6   -1.211682   Low 3p13 ssGSEA\nICC10-8   -0.917530   Low 3p13 ssGSEA\nICC12     -0.020691   Low 3p13 ssGSEA\nICC13-7   -1.083921   Low 3p13 ssGSEA\nICC2      -0.978742   Low 3p13 ssGSEA\nICC4      -1.690134   Low 3p13 ssGSEA\nICC5      -1.603296   Low 3p13 ssGSEA\nICC6       0.622689  High 3p13 ssGSEA\nICC8      -1.149179   Low 3p13 ssGSEA\nICC9       0.426930  High 3p13 ssGSEA\nHKGZCC    -2.329687   Low 3p13 ssGSEA\nKMCH1     -0.625908   Low 3p13 ssGSEA\nOZ         0.738852  High 3p13 ssGSEA\nRBE        0.227834  High 3p13 ssGSEA\nSG231      0.207487  High 3p13 ssGSEA\nSSP25     -0.374439   Low 3p13 ssGSEA\nTKKK      -0.726430   Low 3p13 ssGSEA\nYSCCC     -1.040456   Low 3p13 ssGSEA\nCCLP1      0.398801  High 3p13 ssGSEA\nCCSW1     -1.176814   Low 3p13 ssGSEA\nICC18      1.745075  High 3p13 ssGSEA\nICC11     -0.553772   Low 3p13 ssGSEA\nICC14      0.253321  High 3p13 ssGSEA\nICC16     -1.200487   Low 3p13 ssGSEA\nICC17     -0.259433   Low 3p13 ssGSEA\nICC19     -0.395769   Low 3p13 ssGSEA\nICC20     -0.486884   Low 3p13 ssGSEA\nICC21      0.175617  High 3p13 ssGSEA\nICC24     -1.304117   Low 3p13 ssGSEA\nICC25     -0.189304   Low 3p13 ssGSEA\nICC26      0.592971  High 3p13 ssGSEA\nICC7       1.407406  High 3p13 ssGSEA",
      "text/html": "<div>\n<style scoped>\n    .dataframe tbody tr th:only-of-type {\n        vertical-align: middle;\n    }\n\n    .dataframe tbody tr th {\n        vertical-align: top;\n    }\n\n    .dataframe thead th {\n        text-align: right;\n    }\n</style>\n<table border=\"1\" class=\"dataframe\">\n  <thead>\n    <tr style=\"text-align: right;\">\n      <th></th>\n      <th>ssGSEA</th>\n      <th>Status</th>\n    </tr>\n    <tr>\n      <th>Cell_line</th>\n      <th></th>\n      <th></th>\n    </tr>\n  </thead>\n  <tbody>\n    <tr>\n      <th>SNU869</th>\n      <td>1.047410</td>\n      <td>High 3p13 ssGSEA</td>\n    </tr>\n    <tr>\n      <th>SNU478</th>\n      <td>0.491806</td>\n      <td>High 3p13 ssGSEA</td>\n    </tr>\n    <tr>\n      <th>TGBC52TKB</th>\n      <td>0.998703</td>\n      <td>High 3p13 ssGSEA</td>\n    </tr>\n    <tr>\n      <th>AOVC1</th>\n      <td>1.052649</td>\n      <td>High 3p13 ssGSEA</td>\n    </tr>\n    <tr>\n      <th>SNU245</th>\n      <td>1.039064</td>\n      <td>High 3p13 ssGSEA</td>\n    </tr>\n    <tr>\n      <th>SNU1196</th>\n      <td>1.245941</td>\n      <td>High 3p13 ssGSEA</td>\n    </tr>\n    <tr>\n      <th>EGI1</th>\n      <td>-0.095676</td>\n      <td>Low 3p13 ssGSEA</td>\n    </tr>\n    <tr>\n      <th>KKU100</th>\n      <td>0.943710</td>\n      <td>High 3p13 ssGSEA</td>\n    </tr>\n    <tr>\n      <th>TFK1</th>\n      <td>0.117248</td>\n      <td>High 3p13 ssGSEA</td>\n    </tr>\n    <tr>\n      <th>ECC3</th>\n      <td>-1.300166</td>\n      <td>Low 3p13 ssGSEA</td>\n    </tr>\n    <tr>\n      <th>ECC4</th>\n      <td>0.300873</td>\n      <td>High 3p13 ssGSEA</td>\n    </tr>\n    <tr>\n      <th>SNU308</th>\n      <td>1.960618</td>\n      <td>High 3p13 ssGSEA</td>\n    </tr>\n    <tr>\n      <th>NOZ</th>\n      <td>1.385716</td>\n      <td>High 3p13 ssGSEA</td>\n    </tr>\n    <tr>\n      <th>OCUG1</th>\n      <td>-0.802314</td>\n      <td>Low 3p13 ssGSEA</td>\n    </tr>\n    <tr>\n      <th>G415</th>\n      <td>1.433158</td>\n      <td>High 3p13 ssGSEA</td>\n    </tr>\n    <tr>\n      <th>TGBC1TKB</th>\n      <td>-0.780127</td>\n      <td>Low 3p13 ssGSEA</td>\n    </tr>\n    <tr>\n      <th>GB2</th>\n      <td>0.371054</td>\n      <td>High 3p13 ssGSEA</td>\n    </tr>\n    <tr>\n      <th>GB3</th>\n      <td>0.243258</td>\n      <td>High 3p13 ssGSEA</td>\n    </tr>\n    <tr>\n      <th>SNU1079</th>\n      <td>-0.153040</td>\n      <td>Low 3p13 ssGSEA</td>\n    </tr>\n    <tr>\n      <th>HUH28</th>\n      <td>1.657274</td>\n      <td>High 3p13 ssGSEA</td>\n    </tr>\n    <tr>\n      <th>HUCCT1</th>\n      <td>-0.474519</td>\n      <td>Low 3p13 ssGSEA</td>\n    </tr>\n    <tr>\n      <th>KKU055</th>\n      <td>1.707585</td>\n      <td>High 3p13 ssGSEA</td>\n    </tr>\n    <tr>\n      <th>KKU213</th>\n      <td>0.810239</td>\n      <td>High 3p13 ssGSEA</td>\n    </tr>\n    <tr>\n      <th>ICC10</th>\n      <td>-0.678774</td>\n      <td>Low 3p13 ssGSEA</td>\n    </tr>\n    <tr>\n      <th>ICC10-6</th>\n      <td>-1.211682</td>\n      <td>Low 3p13 ssGSEA</td>\n    </tr>\n    <tr>\n      <th>ICC10-8</th>\n      <td>-0.917530</td>\n      <td>Low 3p13 ssGSEA</td>\n    </tr>\n    <tr>\n      <th>ICC12</th>\n      <td>-0.020691</td>\n      <td>Low 3p13 ssGSEA</td>\n    </tr>\n    <tr>\n      <th>ICC13-7</th>\n      <td>-1.083921</td>\n      <td>Low 3p13 ssGSEA</td>\n    </tr>\n    <tr>\n      <th>ICC2</th>\n      <td>-0.978742</td>\n      <td>Low 3p13 ssGSEA</td>\n    </tr>\n    <tr>\n      <th>ICC4</th>\n      <td>-1.690134</td>\n      <td>Low 3p13 ssGSEA</td>\n    </tr>\n    <tr>\n      <th>ICC5</th>\n      <td>-1.603296</td>\n      <td>Low 3p13 ssGSEA</td>\n    </tr>\n    <tr>\n      <th>ICC6</th>\n      <td>0.622689</td>\n      <td>High 3p13 ssGSEA</td>\n    </tr>\n    <tr>\n      <th>ICC8</th>\n      <td>-1.149179</td>\n      <td>Low 3p13 ssGSEA</td>\n    </tr>\n    <tr>\n      <th>ICC9</th>\n      <td>0.426930</td>\n      <td>High 3p13 ssGSEA</td>\n    </tr>\n    <tr>\n      <th>HKGZCC</th>\n      <td>-2.329687</td>\n      <td>Low 3p13 ssGSEA</td>\n    </tr>\n    <tr>\n      <th>KMCH1</th>\n      <td>-0.625908</td>\n      <td>Low 3p13 ssGSEA</td>\n    </tr>\n    <tr>\n      <th>OZ</th>\n      <td>0.738852</td>\n      <td>High 3p13 ssGSEA</td>\n    </tr>\n    <tr>\n      <th>RBE</th>\n      <td>0.227834</td>\n      <td>High 3p13 ssGSEA</td>\n    </tr>\n    <tr>\n      <th>SG231</th>\n      <td>0.207487</td>\n      <td>High 3p13 ssGSEA</td>\n    </tr>\n    <tr>\n      <th>SSP25</th>\n      <td>-0.374439</td>\n      <td>Low 3p13 ssGSEA</td>\n    </tr>\n    <tr>\n      <th>TKKK</th>\n      <td>-0.726430</td>\n      <td>Low 3p13 ssGSEA</td>\n    </tr>\n    <tr>\n      <th>YSCCC</th>\n      <td>-1.040456</td>\n      <td>Low 3p13 ssGSEA</td>\n    </tr>\n    <tr>\n      <th>CCLP1</th>\n      <td>0.398801</td>\n      <td>High 3p13 ssGSEA</td>\n    </tr>\n    <tr>\n      <th>CCSW1</th>\n      <td>-1.176814</td>\n      <td>Low 3p13 ssGSEA</td>\n    </tr>\n    <tr>\n      <th>ICC18</th>\n      <td>1.745075</td>\n      <td>High 3p13 ssGSEA</td>\n    </tr>\n    <tr>\n      <th>ICC11</th>\n      <td>-0.553772</td>\n      <td>Low 3p13 ssGSEA</td>\n    </tr>\n    <tr>\n      <th>ICC14</th>\n      <td>0.253321</td>\n      <td>High 3p13 ssGSEA</td>\n    </tr>\n    <tr>\n      <th>ICC16</th>\n      <td>-1.200487</td>\n      <td>Low 3p13 ssGSEA</td>\n    </tr>\n    <tr>\n      <th>ICC17</th>\n      <td>-0.259433</td>\n      <td>Low 3p13 ssGSEA</td>\n    </tr>\n    <tr>\n      <th>ICC19</th>\n      <td>-0.395769</td>\n      <td>Low 3p13 ssGSEA</td>\n    </tr>\n    <tr>\n      <th>ICC20</th>\n      <td>-0.486884</td>\n      <td>Low 3p13 ssGSEA</td>\n    </tr>\n    <tr>\n      <th>ICC21</th>\n      <td>0.175617</td>\n      <td>High 3p13 ssGSEA</td>\n    </tr>\n    <tr>\n      <th>ICC24</th>\n      <td>-1.304117</td>\n      <td>Low 3p13 ssGSEA</td>\n    </tr>\n    <tr>\n      <th>ICC25</th>\n      <td>-0.189304</td>\n      <td>Low 3p13 ssGSEA</td>\n    </tr>\n    <tr>\n      <th>ICC26</th>\n      <td>0.592971</td>\n      <td>High 3p13 ssGSEA</td>\n    </tr>\n    <tr>\n      <th>ICC7</th>\n      <td>1.407406</td>\n      <td>High 3p13 ssGSEA</td>\n    </tr>\n  </tbody>\n</table>\n</div>"
     },
     "execution_count": 177,
     "metadata": {},
     "output_type": "execute_result"
    }
   ],
   "source": [
    "ssgsea_3p_file = 'Figure3/output_fig3/btc_ssgsea_zscored_3p13 Peaks_tcga.csv'\n",
    "ssgsea_3p_df = pd.read_csv(ssgsea_3p_file, index_col=0)\n",
    "ssgsea_3p_df['Status'] = 'Low 3p13 ssGSEA'\n",
    "ssgsea_3p_df.loc[ssgsea_3p_df['ssGSEA']>0, 'Status']= 'High 3p13 ssGSEA'\n",
    "ssgsea_3p_df"
   ],
   "metadata": {
    "collapsed": false,
    "ExecuteTime": {
     "end_time": "2024-07-01T17:16:36.364240Z",
     "start_time": "2024-07-01T17:16:36.345295Z"
    }
   },
   "id": "b3ccbf8cde6ca32",
   "execution_count": 177
  },
  {
   "cell_type": "code",
   "outputs": [],
   "source": [
    "genes_table_df = Utils.process_dependency_table(genes_table_df, upset_df, gene_effect_df, target_genes, gene_effect_thr_dic, ssgsea_3p_df, 'Status')"
   ],
   "metadata": {
    "collapsed": false,
    "ExecuteTime": {
     "end_time": "2024-07-01T17:23:27.979736Z",
     "start_time": "2024-07-01T17:23:27.889903Z"
    }
   },
   "id": "93769ae83522a332",
   "execution_count": 208
  },
  {
   "cell_type": "code",
   "outputs": [
    {
     "data": {
      "text/plain": "<Figure size 500x300 with 1 Axes>",
      "image/png": "[encoded data removed]"
     },
     "metadata": {
      "image/png": {
       "width": 476,
       "height": 296
      }
     },
     "output_type": "display_data"
    }
   ],
   "source": [
    "cols_l = [c for c in genes_table_df.columns if '3p13' in c]\n",
    "df = abs(genes_table_df[cols_l[0]]-genes_table_df[cols_l[1]])\n",
    "MyVisualization.plot_distribution(df, 'abs(High - Low)', x_vline=40)"
   ],
   "metadata": {
    "collapsed": false,
    "ExecuteTime": {
     "end_time": "2024-07-01T17:25:10.879532Z",
     "start_time": "2024-07-01T17:25:10.726317Z"
    }
   },
   "id": "d6522ddea2b3c62b",
   "execution_count": 212
  },
  {
   "cell_type": "code",
   "outputs": [],
   "source": [
    "cols_l = [c for c in genes_table_df.columns if '3p13' in c]\n",
    "for index, row in genes_table_df.iterrows():\n",
    "    val1 = row[cols_l[0]]\n",
    "    val2 = row[cols_l[1]]\n",
    "    if (pd.isna(val1) or pd.isna(val2)) or abs(val1-val2) < 40:\n",
    "        genes_table_df.loc[index, cols_l[0]] = np.nan\n",
    "        genes_table_df.loc[index, cols_l[1]] = np.nan"
   ],
   "metadata": {
    "collapsed": false,
    "ExecuteTime": {
     "end_time": "2024-07-01T17:16:36.668657Z",
     "start_time": "2024-07-01T17:16:36.631451Z"
    }
   },
   "id": "7b07a7486b9ae7d6",
   "execution_count": 181
  },
  {
   "cell_type": "code",
   "outputs": [
    {
     "data": {
      "text/plain": "        BTC common essential  Dependent Cell Lines  Dependent Cell Lines (%)  \\\nABI1                     NaN                   8.0                      21.0   \nARHGEF7                  Yes                  24.0                      62.0   \nBRAF                     NaN                   4.0                      10.0   \nBRK1                     NaN                  13.0                      33.0   \nCDH1                     NaN                   8.0                      21.0   \n...                      ...                   ...                       ...   \nPTPN11                   Yes                  20.0                      51.0   \nRAB6A                    Yes                  14.0                      36.0   \nRIC1                     Yes                  16.0                      41.0   \nSLC3A2                   Yes                   4.0                      10.0   \nSNAP23                   Yes                  19.0                      49.0   \n\n         Dependent Cell Lines Median Gene Effect    NormLRT  \\\nABI1                                   -0.587920  22.288772   \nARHGEF7                                -0.776864   2.910097   \nBRAF                                   -1.000673  49.846968   \nBRK1                                   -0.798767   7.568821   \nCDH1                                   -0.773961  11.860180   \n...                                          ...        ...   \nPTPN11                                 -1.231128        NaN   \nRAB6A                                  -1.170115   0.000068   \nRIC1                                   -1.373046   0.001691   \nSLC3A2                                 -1.149046   2.776041   \nSNAP23                                 -1.395622   7.756466   \n\n         High 3p13 ssGSEA[n=17] (%)  Low 3p13 ssGSEA[n=20] (%)  \nABI1                            NaN                        NaN  \nARHGEF7                         NaN                        NaN  \nBRAF                            NaN                        NaN  \nBRK1                            NaN                        NaN  \nCDH1                            NaN                        NaN  \n...                             ...                        ...  \nPTPN11                         29.0                       70.0  \nRAB6A                           NaN                        NaN  \nRIC1                            NaN                        NaN  \nSLC3A2                          NaN                        NaN  \nSNAP23                          NaN                        NaN  \n\n[68 rows x 7 columns]",
      "text/html": "<div>\n<style scoped>\n    .dataframe tbody tr th:only-of-type {\n        vertical-align: middle;\n    }\n\n    .dataframe tbody tr th {\n        vertical-align: top;\n    }\n\n    .dataframe thead th {\n        text-align: right;\n    }\n</style>\n<table border=\"1\" class=\"dataframe\">\n  <thead>\n    <tr style=\"text-align: right;\">\n      <th></th>\n      <th>BTC common essential</th>\n      <th>Dependent Cell Lines</th>\n      <th>Dependent Cell Lines (%)</th>\n      <th>Dependent Cell Lines Median Gene Effect</th>\n      <th>NormLRT</th>\n      <th>High 3p13 ssGSEA[n=17] (%)</th>\n      <th>Low 3p13 ssGSEA[n=20] (%)</th>\n    </tr>\n  </thead>\n  <tbody>\n    <tr>\n      <th>ABI1</th>\n      <td>NaN</td>\n      <td>8.0</td>\n      <td>21.0</td>\n      <td>-0.587920</td>\n      <td>22.288772</td>\n      <td>NaN</td>\n      <td>NaN</td>\n    </tr>\n    <tr>\n      <th>ARHGEF7</th>\n      <td>Yes</td>\n      <td>24.0</td>\n      <td>62.0</td>\n      <td>-0.776864</td>\n      <td>2.910097</td>\n      <td>NaN</td>\n      <td>NaN</td>\n    </tr>\n    <tr>\n      <th>BRAF</th>\n      <td>NaN</td>\n      <td>4.0</td>\n      <td>10.0</td>\n      <td>-1.000673</td>\n      <td>49.846968</td>\n      <td>NaN</td>\n      <td>NaN</td>\n    </tr>\n    <tr>\n      <th>BRK1</th>\n      <td>NaN</td>\n      <td>13.0</td>\n      <td>33.0</td>\n      <td>-0.798767</td>\n      <td>7.568821</td>\n      <td>NaN</td>\n      <td>NaN</td>\n    </tr>\n    <tr>\n      <th>CDH1</th>\n      <td>NaN</td>\n      <td>8.0</td>\n      <td>21.0</td>\n      <td>-0.773961</td>\n      <td>11.860180</td>\n      <td>NaN</td>\n      <td>NaN</td>\n    </tr>\n    <tr>\n      <th>...</th>\n      <td>...</td>\n      <td>...</td>\n      <td>...</td>\n      <td>...</td>\n      <td>...</td>\n      <td>...</td>\n      <td>...</td>\n    </tr>\n    <tr>\n      <th>PTPN11</th>\n      <td>Yes</td>\n      <td>20.0</td>\n      <td>51.0</td>\n      <td>-1.231128</td>\n      <td>NaN</td>\n      <td>29.0</td>\n      <td>70.0</td>\n    </tr>\n    <tr>\n      <th>RAB6A</th>\n      <td>Yes</td>\n      <td>14.0</td>\n      <td>36.0</td>\n      <td>-1.170115</td>\n      <td>0.000068</td>\n      <td>NaN</td>\n      <td>NaN</td>\n    </tr>\n    <tr>\n      <th>RIC1</th>\n      <td>Yes</td>\n      <td>16.0</td>\n      <td>41.0</td>\n      <td>-1.373046</td>\n      <td>0.001691</td>\n      <td>NaN</td>\n      <td>NaN</td>\n    </tr>\n    <tr>\n      <th>SLC3A2</th>\n      <td>Yes</td>\n      <td>4.0</td>\n      <td>10.0</td>\n      <td>-1.149046</td>\n      <td>2.776041</td>\n      <td>NaN</td>\n      <td>NaN</td>\n    </tr>\n    <tr>\n      <th>SNAP23</th>\n      <td>Yes</td>\n      <td>19.0</td>\n      <td>49.0</td>\n      <td>-1.395622</td>\n      <td>7.756466</td>\n      <td>NaN</td>\n      <td>NaN</td>\n    </tr>\n  </tbody>\n</table>\n<p>68 rows × 7 columns</p>\n</div>"
     },
     "execution_count": 182,
     "metadata": {},
     "output_type": "execute_result"
    }
   ],
   "source": [
    "genes_table_df"
   ],
   "metadata": {
    "collapsed": false,
    "ExecuteTime": {
     "end_time": "2024-07-01T17:16:36.697500Z",
     "start_time": "2024-07-01T17:16:36.674467Z"
    }
   },
   "id": "bde1eb1853e910e1",
   "execution_count": 182
  },
  {
   "cell_type": "markdown",
   "source": [
    "# Genotype "
   ],
   "metadata": {
    "collapsed": false
   },
   "id": "2076b852e72751ee"
  },
  {
   "cell_type": "code",
   "outputs": [
    {
     "name": "stdout",
     "output_type": "stream",
     "text": [
      "input_data/Additional_Data/Selected_Lists/heatmap_top_alterations.csv  is loaded, shape:  (87, 12)\n"
     ]
    },
    {
     "data": {
      "text/plain": "           ARID1A MT  BAP1 MT  BRAF MT  CDKN2A MT  EGFR MT  ERBB2 MT  \\\nCell_line                                                              \nSNU869             0        0        0  CDKN2A MT        0         0   \nSNU478             0        0        0  CDKN2A MT        0         0   \nTGBC52TKB          0        0        0  CDKN2A MT        0         0   \nAOVC1              0        0        0          0        0         0   \nTGBC18TKB          0        0        0  CDKN2A MT        0  ERBB2 MT   \nSNU1196            0        0        0  CDKN2A MT        0         0   \nEGI1               0        0        0  CDKN2A MT        0         0   \nKKU100             0        0        0  CDKN2A MT        0         0   \nTFK1               0  BAP1 MT        0  CDKN2A MT        0         0   \nECC3               0        0        0  CDKN2A MT  EGFR MT         0   \nECC4       ARID1A MT        0        0  CDKN2A MT        0         0   \nCCC5       ARID1A MT        0        0  CDKN2A MT        0         0   \nSNU308             0        0        0          0        0         0   \nNOZ                0        0        0  CDKN2A MT        0         0   \nOCUG1              0        0        0  CDKN2A MT        0         0   \nG415               0        0        0          0        0         0   \nTGBC1TKB           0        0        0          0  EGFR MT         0   \nGB2        ARID1A MT        0        0  CDKN2A MT        0         0   \nSNU1079            0        0        0  CDKN2A MT        0         0   \nHUCCT1             0        0        0          0        0         0   \nKKU213             0        0        0          0        0         0   \nICC10              0        0        0          0        0         0   \nICC10-6            0        0        0          0        0         0   \nICC10-8            0        0        0          0        0         0   \nICC12              0        0  BRAF MT  CDKN2A MT        0         0   \nICC13-7            0        0        0  CDKN2A MT        0         0   \nICC2               0        0        0  CDKN2A MT        0         0   \nICC4       ARID1A MT  BAP1 MT        0  CDKN2A MT        0         0   \nICC8               0        0  BRAF MT  CDKN2A MT        0         0   \nICC9               0        0        0          0        0         0   \nHKGZCC             0        0        0          0        0         0   \nKMCH1      ARID1A MT        0        0  CDKN2A MT        0         0   \nRBE                0        0        0  CDKN2A MT        0         0   \nSG231              0        0        0          0        0         0   \nSSP25              0        0        0  CDKN2A MT        0         0   \nTKKK               0        0        0          0        0  ERBB2 MT   \nYSCCC              0        0        0  CDKN2A MT  EGFR MT         0   \nCCLP1              0        0        0          0        0         0   \nCCSW1              0        0        0          0        0         0   \n\n           FGFR2 MT  KRAS MT  PBRM1 MT  SMAD4 MT  TP53 MT  IDH1/2 MT  \nCell_line                                                             \nSNU869            0  KRAS MT         0  SMAD4 MT        0          0  \nSNU478            0        0         0         0  TP53 MT          0  \nTGBC52TKB         0  KRAS MT         0         0        0          0  \nAOVC1             0        0         0         0  TP53 MT          0  \nTGBC18TKB         0        0         0         0  TP53 MT          0  \nSNU1196           0        0         0  SMAD4 MT  TP53 MT          0  \nEGI1              0  KRAS MT         0         0  TP53 MT          0  \nKKU100            0  KRAS MT         0  SMAD4 MT        0          0  \nTFK1              0        0         0         0  TP53 MT          0  \nECC3              0        0         0  SMAD4 MT  TP53 MT          0  \nECC4              0  KRAS MT         0         0        0          0  \nCCC5              0  KRAS MT         0         0        0          0  \nSNU308            0        0         0  SMAD4 MT  TP53 MT          0  \nNOZ               0  KRAS MT         0         0  TP53 MT          0  \nOCUG1             0        0         0         0  TP53 MT          0  \nG415              0  KRAS MT         0         0  TP53 MT          0  \nTGBC1TKB          0        0         0         0  TP53 MT          0  \nGB2               0        0         0  SMAD4 MT  TP53 MT          0  \nSNU1079           0        0  PBRM1 MT         0        0  IDH1/2 MT  \nHUCCT1            0  KRAS MT         0         0  TP53 MT          0  \nKKU213            0  KRAS MT         0  SMAD4 MT  TP53 MT          0  \nICC10      FGFR2 MT        0         0         0  TP53 MT          0  \nICC10-6    FGFR2 MT        0         0         0  TP53 MT          0  \nICC10-8    FGFR2 MT        0         0         0  TP53 MT          0  \nICC12             0        0         0         0  TP53 MT          0  \nICC13-7    FGFR2 MT        0  PBRM1 MT         0        0          0  \nICC2              0        0         0  SMAD4 MT  TP53 MT          0  \nICC4              0        0         0         0  TP53 MT          0  \nICC8              0        0         0         0        0          0  \nICC9              0  KRAS MT         0         0  TP53 MT          0  \nHKGZCC            0  KRAS MT         0         0  TP53 MT          0  \nKMCH1             0        0         0         0        0          0  \nRBE               0  KRAS MT         0         0        0  IDH1/2 MT  \nSG231             0  KRAS MT         0         0  TP53 MT          0  \nSSP25             0        0         0  SMAD4 MT  TP53 MT          0  \nTKKK              0        0         0         0  TP53 MT          0  \nYSCCC             0        0         0         0  TP53 MT          0  \nCCLP1             0        0         0         0  TP53 MT          0  \nCCSW1             0        0         0  SMAD4 MT  TP53 MT          0  ",
      "text/html": "<div>\n<style scoped>\n    .dataframe tbody tr th:only-of-type {\n        vertical-align: middle;\n    }\n\n    .dataframe tbody tr th {\n        vertical-align: top;\n    }\n\n    .dataframe thead th {\n        text-align: right;\n    }\n</style>\n<table border=\"1\" class=\"dataframe\">\n  <thead>\n    <tr style=\"text-align: right;\">\n      <th></th>\n      <th>ARID1A MT</th>\n      <th>BAP1 MT</th>\n      <th>BRAF MT</th>\n      <th>CDKN2A MT</th>\n      <th>EGFR MT</th>\n      <th>ERBB2 MT</th>\n      <th>FGFR2 MT</th>\n      <th>KRAS MT</th>\n      <th>PBRM1 MT</th>\n      <th>SMAD4 MT</th>\n      <th>TP53 MT</th>\n      <th>IDH1/2 MT</th>\n    </tr>\n    <tr>\n      <th>Cell_line</th>\n      <th></th>\n      <th></th>\n      <th></th>\n      <th></th>\n      <th></th>\n      <th></th>\n      <th></th>\n      <th></th>\n      <th></th>\n      <th></th>\n      <th></th>\n      <th></th>\n    </tr>\n  </thead>\n  <tbody>\n    <tr>\n      <th>SNU869</th>\n      <td>0</td>\n      <td>0</td>\n      <td>0</td>\n      <td>CDKN2A MT</td>\n      <td>0</td>\n      <td>0</td>\n      <td>0</td>\n      <td>KRAS MT</td>\n      <td>0</td>\n      <td>SMAD4 MT</td>\n      <td>0</td>\n      <td>0</td>\n    </tr>\n    <tr>\n      <th>SNU478</th>\n      <td>0</td>\n      <td>0</td>\n      <td>0</td>\n      <td>CDKN2A MT</td>\n      <td>0</td>\n      <td>0</td>\n      <td>0</td>\n      <td>0</td>\n      <td>0</td>\n      <td>0</td>\n      <td>TP53 MT</td>\n      <td>0</td>\n    </tr>\n    <tr>\n      <th>TGBC52TKB</th>\n      <td>0</td>\n      <td>0</td>\n      <td>0</td>\n      <td>CDKN2A MT</td>\n      <td>0</td>\n      <td>0</td>\n      <td>0</td>\n      <td>KRAS MT</td>\n      <td>0</td>\n      <td>0</td>\n      <td>0</td>\n      <td>0</td>\n    </tr>\n    <tr>\n      <th>AOVC1</th>\n      <td>0</td>\n      <td>0</td>\n      <td>0</td>\n      <td>0</td>\n      <td>0</td>\n      <td>0</td>\n      <td>0</td>\n      <td>0</td>\n      <td>0</td>\n      <td>0</td>\n      <td>TP53 MT</td>\n      <td>0</td>\n    </tr>\n    <tr>\n      <th>TGBC18TKB</th>\n      <td>0</td>\n      <td>0</td>\n      <td>0</td>\n      <td>CDKN2A MT</td>\n      <td>0</td>\n      <td>ERBB2 MT</td>\n      <td>0</td>\n      <td>0</td>\n      <td>0</td>\n      <td>0</td>\n      <td>TP53 MT</td>\n      <td>0</td>\n    </tr>\n    <tr>\n      <th>SNU1196</th>\n      <td>0</td>\n      <td>0</td>\n      <td>0</td>\n      <td>CDKN2A MT</td>\n      <td>0</td>\n      <td>0</td>\n      <td>0</td>\n      <td>0</td>\n      <td>0</td>\n      <td>SMAD4 MT</td>\n      <td>TP53 MT</td>\n      <td>0</td>\n    </tr>\n    <tr>\n      <th>EGI1</th>\n      <td>0</td>\n      <td>0</td>\n      <td>0</td>\n      <td>CDKN2A MT</td>\n      <td>0</td>\n      <td>0</td>\n      <td>0</td>\n      <td>KRAS MT</td>\n      <td>0</td>\n      <td>0</td>\n      <td>TP53 MT</td>\n      <td>0</td>\n    </tr>\n    <tr>\n      <th>KKU100</th>\n      <td>0</td>\n      <td>0</td>\n      <td>0</td>\n      <td>CDKN2A MT</td>\n      <td>0</td>\n      <td>0</td>\n      <td>0</td>\n      <td>KRAS MT</td>\n      <td>0</td>\n      <td>SMAD4 MT</td>\n      <td>0</td>\n      <td>0</td>\n    </tr>\n    <tr>\n      <th>TFK1</th>\n      <td>0</td>\n      <td>BAP1 MT</td>\n      <td>0</td>\n      <td>CDKN2A MT</td>\n      <td>0</td>\n      <td>0</td>\n      <td>0</td>\n      <td>0</td>\n      <td>0</td>\n      <td>0</td>\n      <td>TP53 MT</td>\n      <td>0</td>\n    </tr>\n    <tr>\n      <th>ECC3</th>\n      <td>0</td>\n      <td>0</td>\n      <td>0</td>\n      <td>CDKN2A MT</td>\n      <td>EGFR MT</td>\n      <td>0</td>\n      <td>0</td>\n      <td>0</td>\n      <td>0</td>\n      <td>SMAD4 MT</td>\n      <td>TP53 MT</td>\n      <td>0</td>\n    </tr>\n    <tr>\n      <th>ECC4</th>\n      <td>ARID1A MT</td>\n      <td>0</td>\n      <td>0</td>\n      <td>CDKN2A MT</td>\n      <td>0</td>\n      <td>0</td>\n      <td>0</td>\n      <td>KRAS MT</td>\n      <td>0</td>\n      <td>0</td>\n      <td>0</td>\n      <td>0</td>\n    </tr>\n    <tr>\n      <th>CCC5</th>\n      <td>ARID1A MT</td>\n      <td>0</td>\n      <td>0</td>\n      <td>CDKN2A MT</td>\n      <td>0</td>\n      <td>0</td>\n      <td>0</td>\n      <td>KRAS MT</td>\n      <td>0</td>\n      <td>0</td>\n      <td>0</td>\n      <td>0</td>\n    </tr>\n    <tr>\n      <th>SNU308</th>\n      <td>0</td>\n      <td>0</td>\n      <td>0</td>\n      <td>0</td>\n      <td>0</td>\n      <td>0</td>\n      <td>0</td>\n      <td>0</td>\n      <td>0</td>\n      <td>SMAD4 MT</td>\n      <td>TP53 MT</td>\n      <td>0</td>\n    </tr>\n    <tr>\n      <th>NOZ</th>\n      <td>0</td>\n      <td>0</td>\n      <td>0</td>\n      <td>CDKN2A MT</td>\n      <td>0</td>\n      <td>0</td>\n      <td>0</td>\n      <td>KRAS MT</td>\n      <td>0</td>\n      <td>0</td>\n      <td>TP53 MT</td>\n      <td>0</td>\n    </tr>\n    <tr>\n      <th>OCUG1</th>\n      <td>0</td>\n      <td>0</td>\n      <td>0</td>\n      <td>CDKN2A MT</td>\n      <td>0</td>\n      <td>0</td>\n      <td>0</td>\n      <td>0</td>\n      <td>0</td>\n      <td>0</td>\n      <td>TP53 MT</td>\n      <td>0</td>\n    </tr>\n    <tr>\n      <th>G415</th>\n      <td>0</td>\n      <td>0</td>\n      <td>0</td>\n      <td>0</td>\n      <td>0</td>\n      <td>0</td>\n      <td>0</td>\n      <td>KRAS MT</td>\n      <td>0</td>\n      <td>0</td>\n      <td>TP53 MT</td>\n      <td>0</td>\n    </tr>\n    <tr>\n      <th>TGBC1TKB</th>\n      <td>0</td>\n      <td>0</td>\n      <td>0</td>\n      <td>0</td>\n      <td>EGFR MT</td>\n      <td>0</td>\n      <td>0</td>\n      <td>0</td>\n      <td>0</td>\n      <td>0</td>\n      <td>TP53 MT</td>\n      <td>0</td>\n    </tr>\n    <tr>\n      <th>GB2</th>\n      <td>ARID1A MT</td>\n      <td>0</td>\n      <td>0</td>\n      <td>CDKN2A MT</td>\n      <td>0</td>\n      <td>0</td>\n      <td>0</td>\n      <td>0</td>\n      <td>0</td>\n      <td>SMAD4 MT</td>\n      <td>TP53 MT</td>\n      <td>0</td>\n    </tr>\n    <tr>\n      <th>SNU1079</th>\n      <td>0</td>\n      <td>0</td>\n      <td>0</td>\n      <td>CDKN2A MT</td>\n      <td>0</td>\n      <td>0</td>\n      <td>0</td>\n      <td>0</td>\n      <td>PBRM1 MT</td>\n      <td>0</td>\n      <td>0</td>\n      <td>IDH1/2 MT</td>\n    </tr>\n    <tr>\n      <th>HUCCT1</th>\n      <td>0</td>\n      <td>0</td>\n      <td>0</td>\n      <td>0</td>\n      <td>0</td>\n      <td>0</td>\n      <td>0</td>\n      <td>KRAS MT</td>\n      <td>0</td>\n      <td>0</td>\n      <td>TP53 MT</td>\n      <td>0</td>\n    </tr>\n    <tr>\n      <th>KKU213</th>\n      <td>0</td>\n      <td>0</td>\n      <td>0</td>\n      <td>0</td>\n      <td>0</td>\n      <td>0</td>\n      <td>0</td>\n      <td>KRAS MT</td>\n      <td>0</td>\n      <td>SMAD4 MT</td>\n      <td>TP53 MT</td>\n      <td>0</td>\n    </tr>\n    <tr>\n      <th>ICC10</th>\n      <td>0</td>\n      <td>0</td>\n      <td>0</td>\n      <td>0</td>\n      <td>0</td>\n      <td>0</td>\n      <td>FGFR2 MT</td>\n      <td>0</td>\n      <td>0</td>\n      <td>0</td>\n      <td>TP53 MT</td>\n      <td>0</td>\n    </tr>\n    <tr>\n      <th>ICC10-6</th>\n      <td>0</td>\n      <td>0</td>\n      <td>0</td>\n      <td>0</td>\n      <td>0</td>\n      <td>0</td>\n      <td>FGFR2 MT</td>\n      <td>0</td>\n      <td>0</td>\n      <td>0</td>\n      <td>TP53 MT</td>\n      <td>0</td>\n    </tr>\n    <tr>\n      <th>ICC10-8</th>\n      <td>0</td>\n      <td>0</td>\n      <td>0</td>\n      <td>0</td>\n      <td>0</td>\n      <td>0</td>\n      <td>FGFR2 MT</td>\n      <td>0</td>\n      <td>0</td>\n      <td>0</td>\n      <td>TP53 MT</td>\n      <td>0</td>\n    </tr>\n    <tr>\n      <th>ICC12</th>\n      <td>0</td>\n      <td>0</td>\n      <td>BRAF MT</td>\n      <td>CDKN2A MT</td>\n      <td>0</td>\n      <td>0</td>\n      <td>0</td>\n      <td>0</td>\n      <td>0</td>\n      <td>0</td>\n      <td>TP53 MT</td>\n      <td>0</td>\n    </tr>\n    <tr>\n      <th>ICC13-7</th>\n      <td>0</td>\n      <td>0</td>\n      <td>0</td>\n      <td>CDKN2A MT</td>\n      <td>0</td>\n      <td>0</td>\n      <td>FGFR2 MT</td>\n      <td>0</td>\n      <td>PBRM1 MT</td>\n      <td>0</td>\n      <td>0</td>\n      <td>0</td>\n    </tr>\n    <tr>\n      <th>ICC2</th>\n      <td>0</td>\n      <td>0</td>\n      <td>0</td>\n      <td>CDKN2A MT</td>\n      <td>0</td>\n      <td>0</td>\n      <td>0</td>\n      <td>0</td>\n      <td>0</td>\n      <td>SMAD4 MT</td>\n      <td>TP53 MT</td>\n      <td>0</td>\n    </tr>\n    <tr>\n      <th>ICC4</th>\n      <td>ARID1A MT</td>\n      <td>BAP1 MT</td>\n      <td>0</td>\n      <td>CDKN2A MT</td>\n      <td>0</td>\n      <td>0</td>\n      <td>0</td>\n      <td>0</td>\n      <td>0</td>\n      <td>0</td>\n      <td>TP53 MT</td>\n      <td>0</td>\n    </tr>\n    <tr>\n      <th>ICC8</th>\n      <td>0</td>\n      <td>0</td>\n      <td>BRAF MT</td>\n      <td>CDKN2A MT</td>\n      <td>0</td>\n      <td>0</td>\n      <td>0</td>\n      <td>0</td>\n      <td>0</td>\n      <td>0</td>\n      <td>0</td>\n      <td>0</td>\n    </tr>\n    <tr>\n      <th>ICC9</th>\n      <td>0</td>\n      <td>0</td>\n      <td>0</td>\n      <td>0</td>\n      <td>0</td>\n      <td>0</td>\n      <td>0</td>\n      <td>KRAS MT</td>\n      <td>0</td>\n      <td>0</td>\n      <td>TP53 MT</td>\n      <td>0</td>\n    </tr>\n    <tr>\n      <th>HKGZCC</th>\n      <td>0</td>\n      <td>0</td>\n      <td>0</td>\n      <td>0</td>\n      <td>0</td>\n      <td>0</td>\n      <td>0</td>\n      <td>KRAS MT</td>\n      <td>0</td>\n      <td>0</td>\n      <td>TP53 MT</td>\n      <td>0</td>\n    </tr>\n    <tr>\n      <th>KMCH1</th>\n      <td>ARID1A MT</td>\n      <td>0</td>\n      <td>0</td>\n      <td>CDKN2A MT</td>\n      <td>0</td>\n      <td>0</td>\n      <td>0</td>\n      <td>0</td>\n      <td>0</td>\n      <td>0</td>\n      <td>0</td>\n      <td>0</td>\n    </tr>\n    <tr>\n      <th>RBE</th>\n      <td>0</td>\n      <td>0</td>\n      <td>0</td>\n      <td>CDKN2A MT</td>\n      <td>0</td>\n      <td>0</td>\n      <td>0</td>\n      <td>KRAS MT</td>\n      <td>0</td>\n      <td>0</td>\n      <td>0</td>\n      <td>IDH1/2 MT</td>\n    </tr>\n    <tr>\n      <th>SG231</th>\n      <td>0</td>\n      <td>0</td>\n      <td>0</td>\n      <td>0</td>\n      <td>0</td>\n      <td>0</td>\n      <td>0</td>\n      <td>KRAS MT</td>\n      <td>0</td>\n      <td>0</td>\n      <td>TP53 MT</td>\n      <td>0</td>\n    </tr>\n    <tr>\n      <th>SSP25</th>\n      <td>0</td>\n      <td>0</td>\n      <td>0</td>\n      <td>CDKN2A MT</td>\n      <td>0</td>\n      <td>0</td>\n      <td>0</td>\n      <td>0</td>\n      <td>0</td>\n      <td>SMAD4 MT</td>\n      <td>TP53 MT</td>\n      <td>0</td>\n    </tr>\n    <tr>\n      <th>TKKK</th>\n      <td>0</td>\n      <td>0</td>\n      <td>0</td>\n      <td>0</td>\n      <td>0</td>\n      <td>ERBB2 MT</td>\n      <td>0</td>\n      <td>0</td>\n      <td>0</td>\n      <td>0</td>\n      <td>TP53 MT</td>\n      <td>0</td>\n    </tr>\n    <tr>\n      <th>YSCCC</th>\n      <td>0</td>\n      <td>0</td>\n      <td>0</td>\n      <td>CDKN2A MT</td>\n      <td>EGFR MT</td>\n      <td>0</td>\n      <td>0</td>\n      <td>0</td>\n      <td>0</td>\n      <td>0</td>\n      <td>TP53 MT</td>\n      <td>0</td>\n    </tr>\n    <tr>\n      <th>CCLP1</th>\n      <td>0</td>\n      <td>0</td>\n      <td>0</td>\n      <td>0</td>\n      <td>0</td>\n      <td>0</td>\n      <td>0</td>\n      <td>0</td>\n      <td>0</td>\n      <td>0</td>\n      <td>TP53 MT</td>\n      <td>0</td>\n    </tr>\n    <tr>\n      <th>CCSW1</th>\n      <td>0</td>\n      <td>0</td>\n      <td>0</td>\n      <td>0</td>\n      <td>0</td>\n      <td>0</td>\n      <td>0</td>\n      <td>0</td>\n      <td>0</td>\n      <td>SMAD4 MT</td>\n      <td>TP53 MT</td>\n      <td>0</td>\n    </tr>\n  </tbody>\n</table>\n</div>"
     },
     "execution_count": 183,
     "metadata": {},
     "output_type": "execute_result"
    }
   ],
   "source": [
    "top_mut_file = 'Additional_Data/Selected_Lists/heatmap_top_alterations.csv'\n",
    "top_mut_df = MyLib.load_csv(top_mut_file, index_col=0)\n",
    "top_mut_df = top_mut_df.loc[upset_df.index,:].copy()\n",
    "top_mut_df = top_mut_df.fillna(0)\n",
    "top_mut_df = top_mut_df.rename(columns={c:c+' MT' for c in top_mut_df.columns})\n",
    "for c in top_mut_df.columns:\n",
    "    top_mut_df[c] = top_mut_df[c].apply(lambda x: c if x != 0 else x)\n",
    "\n",
    "top_mut_df"
   ],
   "metadata": {
    "collapsed": false,
    "ExecuteTime": {
     "end_time": "2024-07-01T17:16:36.821300Z",
     "start_time": "2024-07-01T17:16:36.793957Z"
    }
   },
   "id": "9b3590819a183abf",
   "execution_count": 183
  },
  {
   "cell_type": "code",
   "outputs": [],
   "source": [
    "percentage_thr_dic = {'ARID1A MT':50, 'BAP1 MT':100, 'BRAF MT':100, 'IDH1/2 MT':100, 'ERBB2 MT':100,  'PBRM1 MT':100, 'EGFR MT':50, 'FGFR2 MT':75, 'CDKN2A MT':40, 'KRAS MT':40, 'SMAD4 MT':40, 'TP53 MT':0}\n",
    "for c in top_mut_df.columns:\n",
    "    genes_table_df = Utils.process_dependency_table(genes_table_df, upset_df, gene_effect_df, target_genes, gene_effect_thr_dic, top_mut_df, c, thr_dic=percentage_thr_dic)"
   ],
   "metadata": {
    "collapsed": false,
    "ExecuteTime": {
     "end_time": "2024-07-01T17:16:37.147674Z",
     "start_time": "2024-07-01T17:16:36.948422Z"
    }
   },
   "id": "cbe1cbfc86d744a5",
   "execution_count": 184
  },
  {
   "cell_type": "code",
   "outputs": [
    {
     "data": {
      "text/plain": "        BTC common essential  Dependent Cell Lines  Dependent Cell Lines (%)  \\\nABI1                     NaN                   8.0                      21.0   \nARHGEF7                  Yes                  24.0                      62.0   \nBRAF                     NaN                   4.0                      10.0   \nBRK1                     NaN                  13.0                      33.0   \nCDH1                     NaN                   8.0                      21.0   \n...                      ...                   ...                       ...   \nPTPN11                   Yes                  20.0                      51.0   \nRAB6A                    Yes                  14.0                      36.0   \nRIC1                     Yes                  16.0                      41.0   \nSLC3A2                   Yes                   4.0                      10.0   \nSNAP23                   Yes                  19.0                      49.0   \n\n         Dependent Cell Lines Median Gene Effect    NormLRT  \\\nABI1                                   -0.587920  22.288772   \nARHGEF7                                -0.776864   2.910097   \nBRAF                                   -1.000673  49.846968   \nBRK1                                   -0.798767   7.568821   \nCDH1                                   -0.773961  11.860180   \n...                                          ...        ...   \nPTPN11                                 -1.231128        NaN   \nRAB6A                                  -1.170115   0.000068   \nRIC1                                   -1.373046   0.001691   \nSLC3A2                                 -1.149046   2.776041   \nSNAP23                                 -1.395622   7.756466   \n\n         High 3p13 ssGSEA[n=17] (%)  Low 3p13 ssGSEA[n=20] (%)  \\\nABI1                            NaN                        NaN   \nARHGEF7                         NaN                        NaN   \nBRAF                            NaN                        NaN   \nBRK1                            NaN                        NaN   \nCDH1                            NaN                        NaN   \n...                             ...                        ...   \nPTPN11                         29.0                       70.0   \nRAB6A                           NaN                        NaN   \nRIC1                            NaN                        NaN   \nSLC3A2                          NaN                        NaN   \nSNAP23                          NaN                        NaN   \n\n         ARID1A MT[n=5] (%)  BAP1 MT[n=2] (%)  BRAF MT[n=2] (%)  \\\nABI1                    NaN               NaN             100.0   \nARHGEF7                 NaN               NaN             100.0   \nBRAF                    NaN               NaN             100.0   \nBRK1                    NaN               NaN             100.0   \nCDH1                    NaN               NaN             100.0   \n...                     ...               ...               ...   \nPTPN11                 60.0               NaN               NaN   \nRAB6A                   NaN               NaN               NaN   \nRIC1                    NaN             100.0               NaN   \nSLC3A2                  NaN               NaN               NaN   \nSNAP23                  NaN               NaN               NaN   \n\n         CDKN2A MT[n=24] (%)  EGFR MT[n=3] (%)  ERBB2 MT[n=2] (%)  \\\nABI1                     NaN               NaN                NaN   \nARHGEF7                 58.0               NaN                NaN   \nBRAF                     NaN               NaN                NaN   \nBRK1                     NaN               NaN                NaN   \nCDH1                     NaN               NaN                NaN   \n...                      ...               ...                ...   \nPTPN11                  54.0              67.0              100.0   \nRAB6A                    NaN               NaN              100.0   \nRIC1                     NaN              67.0              100.0   \nSLC3A2                   NaN               NaN                NaN   \nSNAP23                   NaN             100.0                NaN   \n\n         FGFR2 MT[n=4] (%)  KRAS MT[n=14] (%)  PBRM1 MT[n=2] (%)  \\\nABI1                   NaN                NaN                NaN   \nARHGEF7               75.0               57.0                NaN   \nBRAF                   NaN                NaN                NaN   \nBRK1                   NaN                NaN                NaN   \nCDH1                   NaN                NaN                NaN   \n...                    ...                ...                ...   \nPTPN11               100.0                NaN              100.0   \nRAB6A                  NaN                NaN                NaN   \nRIC1                   NaN                NaN                NaN   \nSLC3A2                 NaN                NaN                NaN   \nSNAP23                 NaN               50.0                NaN   \n\n         SMAD4 MT[n=10] (%)  TP53 MT[n=29] (%)  IDH1/2 MT[n=2] (%)  \nABI1                    NaN               24.0                 NaN  \nARHGEF7                60.0               69.0               100.0  \nBRAF                    NaN                7.0                 NaN  \nBRK1                    NaN               34.0                 NaN  \nCDH1                    NaN               21.0                 NaN  \n...                     ...                ...                 ...  \nPTPN11                 60.0               55.0               100.0  \nRAB6A                  40.0               45.0                 NaN  \nRIC1                   60.0               52.0                 NaN  \nSLC3A2                  NaN               10.0                 NaN  \nSNAP23                 60.0               55.0                 NaN  \n\n[68 rows x 19 columns]",
      "text/html": "<div>\n<style scoped>\n    .dataframe tbody tr th:only-of-type {\n        vertical-align: middle;\n    }\n\n    .dataframe tbody tr th {\n        vertical-align: top;\n    }\n\n    .dataframe thead th {\n        text-align: right;\n    }\n</style>\n<table border=\"1\" class=\"dataframe\">\n  <thead>\n    <tr style=\"text-align: right;\">\n      <th></th>\n      <th>BTC common essential</th>\n      <th>Dependent Cell Lines</th>\n      <th>Dependent Cell Lines (%)</th>\n      <th>Dependent Cell Lines Median Gene Effect</th>\n      <th>NormLRT</th>\n      <th>High 3p13 ssGSEA[n=17] (%)</th>\n      <th>Low 3p13 ssGSEA[n=20] (%)</th>\n      <th>ARID1A MT[n=5] (%)</th>\n      <th>BAP1 MT[n=2] (%)</th>\n      <th>BRAF MT[n=2] (%)</th>\n      <th>CDKN2A MT[n=24] (%)</th>\n      <th>EGFR MT[n=3] (%)</th>\n      <th>ERBB2 MT[n=2] (%)</th>\n      <th>FGFR2 MT[n=4] (%)</th>\n      <th>KRAS MT[n=14] (%)</th>\n      <th>PBRM1 MT[n=2] (%)</th>\n      <th>SMAD4 MT[n=10] (%)</th>\n      <th>TP53 MT[n=29] (%)</th>\n      <th>IDH1/2 MT[n=2] (%)</th>\n    </tr>\n  </thead>\n  <tbody>\n    <tr>\n      <th>ABI1</th>\n      <td>NaN</td>\n      <td>8.0</td>\n      <td>21.0</td>\n      <td>-0.587920</td>\n      <td>22.288772</td>\n      <td>NaN</td>\n      <td>NaN</td>\n      <td>NaN</td>\n      <td>NaN</td>\n      <td>100.0</td>\n      <td>NaN</td>\n      <td>NaN</td>\n      <td>NaN</td>\n      <td>NaN</td>\n      <td>NaN</td>\n      <td>NaN</td>\n      <td>NaN</td>\n      <td>24.0</td>\n      <td>NaN</td>\n    </tr>\n    <tr>\n      <th>ARHGEF7</th>\n      <td>Yes</td>\n      <td>24.0</td>\n      <td>62.0</td>\n      <td>-0.776864</td>\n      <td>2.910097</td>\n      <td>NaN</td>\n      <td>NaN</td>\n      <td>NaN</td>\n      <td>NaN</td>\n      <td>100.0</td>\n      <td>58.0</td>\n      <td>NaN</td>\n      <td>NaN</td>\n      <td>75.0</td>\n      <td>57.0</td>\n      <td>NaN</td>\n      <td>60.0</td>\n      <td>69.0</td>\n      <td>100.0</td>\n    </tr>\n    <tr>\n      <th>BRAF</th>\n      <td>NaN</td>\n      <td>4.0</td>\n      <td>10.0</td>\n      <td>-1.000673</td>\n      <td>49.846968</td>\n      <td>NaN</td>\n      <td>NaN</td>\n      <td>NaN</td>\n      <td>NaN</td>\n      <td>100.0</td>\n      <td>NaN</td>\n      <td>NaN</td>\n      <td>NaN</td>\n      <td>NaN</td>\n      <td>NaN</td>\n      <td>NaN</td>\n      <td>NaN</td>\n      <td>7.0</td>\n      <td>NaN</td>\n    </tr>\n    <tr>\n      <th>BRK1</th>\n      <td>NaN</td>\n      <td>13.0</td>\n      <td>33.0</td>\n      <td>-0.798767</td>\n      <td>7.568821</td>\n      <td>NaN</td>\n      <td>NaN</td>\n      <td>NaN</td>\n      <td>NaN</td>\n      <td>100.0</td>\n      <td>NaN</td>\n      <td>NaN</td>\n      <td>NaN</td>\n      <td>NaN</td>\n      <td>NaN</td>\n      <td>NaN</td>\n      <td>NaN</td>\n      <td>34.0</td>\n      <td>NaN</td>\n    </tr>\n    <tr>\n      <th>CDH1</th>\n      <td>NaN</td>\n      <td>8.0</td>\n      <td>21.0</td>\n      <td>-0.773961</td>\n      <td>11.860180</td>\n      <td>NaN</td>\n      <td>NaN</td>\n      <td>NaN</td>\n      <td>NaN</td>\n      <td>100.0</td>\n      <td>NaN</td>\n      <td>NaN</td>\n      <td>NaN</td>\n      <td>NaN</td>\n      <td>NaN</td>\n      <td>NaN</td>\n      <td>NaN</td>\n      <td>21.0</td>\n      <td>NaN</td>\n    </tr>\n    <tr>\n      <th>...</th>\n      <td>...</td>\n      <td>...</td>\n      <td>...</td>\n      <td>...</td>\n      <td>...</td>\n      <td>...</td>\n      <td>...</td>\n      <td>...</td>\n      <td>...</td>\n      <td>...</td>\n      <td>...</td>\n      <td>...</td>\n      <td>...</td>\n      <td>...</td>\n      <td>...</td>\n      <td>...</td>\n      <td>...</td>\n      <td>...</td>\n      <td>...</td>\n    </tr>\n    <tr>\n      <th>PTPN11</th>\n      <td>Yes</td>\n      <td>20.0</td>\n      <td>51.0</td>\n      <td>-1.231128</td>\n      <td>NaN</td>\n      <td>29.0</td>\n      <td>70.0</td>\n      <td>60.0</td>\n      <td>NaN</td>\n      <td>NaN</td>\n      <td>54.0</td>\n      <td>67.0</td>\n      <td>100.0</td>\n      <td>100.0</td>\n      <td>NaN</td>\n      <td>100.0</td>\n      <td>60.0</td>\n      <td>55.0</td>\n      <td>100.0</td>\n    </tr>\n    <tr>\n      <th>RAB6A</th>\n      <td>Yes</td>\n      <td>14.0</td>\n      <td>36.0</td>\n      <td>-1.170115</td>\n      <td>0.000068</td>\n      <td>NaN</td>\n      <td>NaN</td>\n      <td>NaN</td>\n      <td>NaN</td>\n      <td>NaN</td>\n      <td>NaN</td>\n      <td>NaN</td>\n      <td>100.0</td>\n      <td>NaN</td>\n      <td>NaN</td>\n      <td>NaN</td>\n      <td>40.0</td>\n      <td>45.0</td>\n      <td>NaN</td>\n    </tr>\n    <tr>\n      <th>RIC1</th>\n      <td>Yes</td>\n      <td>16.0</td>\n      <td>41.0</td>\n      <td>-1.373046</td>\n      <td>0.001691</td>\n      <td>NaN</td>\n      <td>NaN</td>\n      <td>NaN</td>\n      <td>100.0</td>\n      <td>NaN</td>\n      <td>NaN</td>\n      <td>67.0</td>\n      <td>100.0</td>\n      <td>NaN</td>\n      <td>NaN</td>\n      <td>NaN</td>\n      <td>60.0</td>\n      <td>52.0</td>\n      <td>NaN</td>\n    </tr>\n    <tr>\n      <th>SLC3A2</th>\n      <td>Yes</td>\n      <td>4.0</td>\n      <td>10.0</td>\n      <td>-1.149046</td>\n      <td>2.776041</td>\n      <td>NaN</td>\n      <td>NaN</td>\n      <td>NaN</td>\n      <td>NaN</td>\n      <td>NaN</td>\n      <td>NaN</td>\n      <td>NaN</td>\n      <td>NaN</td>\n      <td>NaN</td>\n      <td>NaN</td>\n      <td>NaN</td>\n      <td>NaN</td>\n      <td>10.0</td>\n      <td>NaN</td>\n    </tr>\n    <tr>\n      <th>SNAP23</th>\n      <td>Yes</td>\n      <td>19.0</td>\n      <td>49.0</td>\n      <td>-1.395622</td>\n      <td>7.756466</td>\n      <td>NaN</td>\n      <td>NaN</td>\n      <td>NaN</td>\n      <td>NaN</td>\n      <td>NaN</td>\n      <td>NaN</td>\n      <td>100.0</td>\n      <td>NaN</td>\n      <td>NaN</td>\n      <td>50.0</td>\n      <td>NaN</td>\n      <td>60.0</td>\n      <td>55.0</td>\n      <td>NaN</td>\n    </tr>\n  </tbody>\n</table>\n<p>68 rows × 19 columns</p>\n</div>"
     },
     "execution_count": 185,
     "metadata": {},
     "output_type": "execute_result"
    }
   ],
   "source": [
    "genes_table_df"
   ],
   "metadata": {
    "collapsed": false,
    "ExecuteTime": {
     "end_time": "2024-07-01T17:16:37.174252Z",
     "start_time": "2024-07-01T17:16:37.149147Z"
    }
   },
   "id": "eef2a95f139f85df",
   "execution_count": 185
  },
  {
   "cell_type": "markdown",
   "source": [],
   "metadata": {
    "collapsed": false
   },
   "id": "5ab08b5715828fb"
  },
  {
   "cell_type": "markdown",
   "source": [
    "# Anatomical Subtype"
   ],
   "metadata": {
    "collapsed": false
   },
   "id": "3c552a08457f4a56"
  },
  {
   "cell_type": "code",
   "outputs": [],
   "source": [
    "percentage_thr_dic = {'AC':80, 'ECC':50, 'GBC':50, 'ICC':20}\n",
    "genes_table_df = Utils.process_dependency_table(genes_table_df, upset_df, gene_effect_df, target_genes, gene_effect_thr_dic, upset_df, 'Subtype', thr_dic=percentage_thr_dic)"
   ],
   "metadata": {
    "collapsed": false,
    "ExecuteTime": {
     "end_time": "2024-07-01T17:16:37.247948Z",
     "start_time": "2024-07-01T17:16:37.175258Z"
    }
   },
   "id": "1296117b1849892a",
   "execution_count": 186
  },
  {
   "cell_type": "code",
   "outputs": [
    {
     "data": {
      "text/plain": "        BTC common essential  Dependent Cell Lines  Dependent Cell Lines (%)  \\\nABI1                     NaN                   8.0                      21.0   \nARHGEF7                  Yes                  24.0                      62.0   \nBRAF                     NaN                   4.0                      10.0   \nBRK1                     NaN                  13.0                      33.0   \nCDH1                     NaN                   8.0                      21.0   \n...                      ...                   ...                       ...   \nPTPN11                   Yes                  20.0                      51.0   \nRAB6A                    Yes                  14.0                      36.0   \nRIC1                     Yes                  16.0                      41.0   \nSLC3A2                   Yes                   4.0                      10.0   \nSNAP23                   Yes                  19.0                      49.0   \n\n         Dependent Cell Lines Median Gene Effect    NormLRT  \\\nABI1                                   -0.587920  22.288772   \nARHGEF7                                -0.776864   2.910097   \nBRAF                                   -1.000673  49.846968   \nBRK1                                   -0.798767   7.568821   \nCDH1                                   -0.773961  11.860180   \n...                                          ...        ...   \nPTPN11                                 -1.231128        NaN   \nRAB6A                                  -1.170115   0.000068   \nRIC1                                   -1.373046   0.001691   \nSLC3A2                                 -1.149046   2.776041   \nSNAP23                                 -1.395622   7.756466   \n\n         High 3p13 ssGSEA[n=17] (%)  Low 3p13 ssGSEA[n=20] (%)  \\\nABI1                            NaN                        NaN   \nARHGEF7                         NaN                        NaN   \nBRAF                            NaN                        NaN   \nBRK1                            NaN                        NaN   \nCDH1                            NaN                        NaN   \n...                             ...                        ...   \nPTPN11                         29.0                       70.0   \nRAB6A                           NaN                        NaN   \nRIC1                            NaN                        NaN   \nSLC3A2                          NaN                        NaN   \nSNAP23                          NaN                        NaN   \n\n         ARID1A MT[n=5] (%)  BAP1 MT[n=2] (%)  BRAF MT[n=2] (%)  ...  \\\nABI1                    NaN               NaN             100.0  ...   \nARHGEF7                 NaN               NaN             100.0  ...   \nBRAF                    NaN               NaN             100.0  ...   \nBRK1                    NaN               NaN             100.0  ...   \nCDH1                    NaN               NaN             100.0  ...   \n...                     ...               ...               ...  ...   \nPTPN11                 60.0               NaN               NaN  ...   \nRAB6A                   NaN               NaN               NaN  ...   \nRIC1                    NaN             100.0               NaN  ...   \nSLC3A2                  NaN               NaN               NaN  ...   \nSNAP23                  NaN               NaN               NaN  ...   \n\n         FGFR2 MT[n=4] (%)  KRAS MT[n=14] (%)  PBRM1 MT[n=2] (%)  \\\nABI1                   NaN                NaN                NaN   \nARHGEF7               75.0               57.0                NaN   \nBRAF                   NaN                NaN                NaN   \nBRK1                   NaN                NaN                NaN   \nCDH1                   NaN                NaN                NaN   \n...                    ...                ...                ...   \nPTPN11               100.0                NaN              100.0   \nRAB6A                  NaN                NaN                NaN   \nRIC1                   NaN                NaN                NaN   \nSLC3A2                 NaN                NaN                NaN   \nSNAP23                 NaN               50.0                NaN   \n\n         SMAD4 MT[n=10] (%)  TP53 MT[n=29] (%)  IDH1/2 MT[n=2] (%)  \\\nABI1                    NaN               24.0                 NaN   \nARHGEF7                60.0               69.0               100.0   \nBRAF                    NaN                7.0                 NaN   \nBRK1                    NaN               34.0                 NaN   \nCDH1                    NaN               21.0                 NaN   \n...                     ...                ...                 ...   \nPTPN11                 60.0               55.0               100.0   \nRAB6A                  40.0               45.0                 NaN   \nRIC1                   60.0               52.0                 NaN   \nSLC3A2                  NaN               10.0                 NaN   \nSNAP23                 60.0               55.0                 NaN   \n\n         AC[n=5] (%)  ECC[n=7] (%)  GBC[n=6] (%)  ICC[n=21] (%)  \nABI1             NaN           NaN           NaN           24.0  \nARHGEF7          NaN          57.0          50.0           67.0  \nBRAF             NaN           NaN           NaN            NaN  \nBRK1             NaN           NaN          67.0           33.0  \nCDH1             NaN           NaN           NaN           24.0  \n...              ...           ...           ...            ...  \nPTPN11           NaN           NaN          50.0           67.0  \nRAB6A            NaN           NaN           NaN           33.0  \nRIC1             NaN           NaN          50.0           43.0  \nSLC3A2           NaN           NaN           NaN            NaN  \nSNAP23           NaN          57.0          50.0           48.0  \n\n[68 rows x 23 columns]",
      "text/html": "<div>\n<style scoped>\n    .dataframe tbody tr th:only-of-type {\n        vertical-align: middle;\n    }\n\n    .dataframe tbody tr th {\n        vertical-align: top;\n    }\n\n    .dataframe thead th {\n        text-align: right;\n    }\n</style>\n<table border=\"1\" class=\"dataframe\">\n  <thead>\n    <tr style=\"text-align: right;\">\n      <th></th>\n      <th>BTC common essential</th>\n      <th>Dependent Cell Lines</th>\n      <th>Dependent Cell Lines (%)</th>\n      <th>Dependent Cell Lines Median Gene Effect</th>\n      <th>NormLRT</th>\n      <th>High 3p13 ssGSEA[n=17] (%)</th>\n      <th>Low 3p13 ssGSEA[n=20] (%)</th>\n      <th>ARID1A MT[n=5] (%)</th>\n      <th>BAP1 MT[n=2] (%)</th>\n      <th>BRAF MT[n=2] (%)</th>\n      <th>...</th>\n      <th>FGFR2 MT[n=4] (%)</th>\n      <th>KRAS MT[n=14] (%)</th>\n      <th>PBRM1 MT[n=2] (%)</th>\n      <th>SMAD4 MT[n=10] (%)</th>\n      <th>TP53 MT[n=29] (%)</th>\n      <th>IDH1/2 MT[n=2] (%)</th>\n      <th>AC[n=5] (%)</th>\n      <th>ECC[n=7] (%)</th>\n      <th>GBC[n=6] (%)</th>\n      <th>ICC[n=21] (%)</th>\n    </tr>\n  </thead>\n  <tbody>\n    <tr>\n      <th>ABI1</th>\n      <td>NaN</td>\n      <td>8.0</td>\n      <td>21.0</td>\n      <td>-0.587920</td>\n      <td>22.288772</td>\n      <td>NaN</td>\n      <td>NaN</td>\n      <td>NaN</td>\n      <td>NaN</td>\n      <td>100.0</td>\n      <td>...</td>\n      <td>NaN</td>\n      <td>NaN</td>\n      <td>NaN</td>\n      <td>NaN</td>\n      <td>24.0</td>\n      <td>NaN</td>\n      <td>NaN</td>\n      <td>NaN</td>\n      <td>NaN</td>\n      <td>24.0</td>\n    </tr>\n    <tr>\n      <th>ARHGEF7</th>\n      <td>Yes</td>\n      <td>24.0</td>\n      <td>62.0</td>\n      <td>-0.776864</td>\n      <td>2.910097</td>\n      <td>NaN</td>\n      <td>NaN</td>\n      <td>NaN</td>\n      <td>NaN</td>\n      <td>100.0</td>\n      <td>...</td>\n      <td>75.0</td>\n      <td>57.0</td>\n      <td>NaN</td>\n      <td>60.0</td>\n      <td>69.0</td>\n      <td>100.0</td>\n      <td>NaN</td>\n      <td>57.0</td>\n      <td>50.0</td>\n      <td>67.0</td>\n    </tr>\n    <tr>\n      <th>BRAF</th>\n      <td>NaN</td>\n      <td>4.0</td>\n      <td>10.0</td>\n      <td>-1.000673</td>\n      <td>49.846968</td>\n      <td>NaN</td>\n      <td>NaN</td>\n      <td>NaN</td>\n      <td>NaN</td>\n      <td>100.0</td>\n      <td>...</td>\n      <td>NaN</td>\n      <td>NaN</td>\n      <td>NaN</td>\n      <td>NaN</td>\n      <td>7.0</td>\n      <td>NaN</td>\n      <td>NaN</td>\n      <td>NaN</td>\n      <td>NaN</td>\n      <td>NaN</td>\n    </tr>\n    <tr>\n      <th>BRK1</th>\n      <td>NaN</td>\n      <td>13.0</td>\n      <td>33.0</td>\n      <td>-0.798767</td>\n      <td>7.568821</td>\n      <td>NaN</td>\n      <td>NaN</td>\n      <td>NaN</td>\n      <td>NaN</td>\n      <td>100.0</td>\n      <td>...</td>\n      <td>NaN</td>\n      <td>NaN</td>\n      <td>NaN</td>\n      <td>NaN</td>\n      <td>34.0</td>\n      <td>NaN</td>\n      <td>NaN</td>\n      <td>NaN</td>\n      <td>67.0</td>\n      <td>33.0</td>\n    </tr>\n    <tr>\n      <th>CDH1</th>\n      <td>NaN</td>\n      <td>8.0</td>\n      <td>21.0</td>\n      <td>-0.773961</td>\n      <td>11.860180</td>\n      <td>NaN</td>\n      <td>NaN</td>\n      <td>NaN</td>\n      <td>NaN</td>\n      <td>100.0</td>\n      <td>...</td>\n      <td>NaN</td>\n      <td>NaN</td>\n      <td>NaN</td>\n      <td>NaN</td>\n      <td>21.0</td>\n      <td>NaN</td>\n      <td>NaN</td>\n      <td>NaN</td>\n      <td>NaN</td>\n      <td>24.0</td>\n    </tr>\n    <tr>\n      <th>...</th>\n      <td>...</td>\n      <td>...</td>\n      <td>...</td>\n      <td>...</td>\n      <td>...</td>\n      <td>...</td>\n      <td>...</td>\n      <td>...</td>\n      <td>...</td>\n      <td>...</td>\n      <td>...</td>\n      <td>...</td>\n      <td>...</td>\n      <td>...</td>\n      <td>...</td>\n      <td>...</td>\n      <td>...</td>\n      <td>...</td>\n      <td>...</td>\n      <td>...</td>\n      <td>...</td>\n    </tr>\n    <tr>\n      <th>PTPN11</th>\n      <td>Yes</td>\n      <td>20.0</td>\n      <td>51.0</td>\n      <td>-1.231128</td>\n      <td>NaN</td>\n      <td>29.0</td>\n      <td>70.0</td>\n      <td>60.0</td>\n      <td>NaN</td>\n      <td>NaN</td>\n      <td>...</td>\n      <td>100.0</td>\n      <td>NaN</td>\n      <td>100.0</td>\n      <td>60.0</td>\n      <td>55.0</td>\n      <td>100.0</td>\n      <td>NaN</td>\n      <td>NaN</td>\n      <td>50.0</td>\n      <td>67.0</td>\n    </tr>\n    <tr>\n      <th>RAB6A</th>\n      <td>Yes</td>\n      <td>14.0</td>\n      <td>36.0</td>\n      <td>-1.170115</td>\n      <td>0.000068</td>\n      <td>NaN</td>\n      <td>NaN</td>\n      <td>NaN</td>\n      <td>NaN</td>\n      <td>NaN</td>\n      <td>...</td>\n      <td>NaN</td>\n      <td>NaN</td>\n      <td>NaN</td>\n      <td>40.0</td>\n      <td>45.0</td>\n      <td>NaN</td>\n      <td>NaN</td>\n      <td>NaN</td>\n      <td>NaN</td>\n      <td>33.0</td>\n    </tr>\n    <tr>\n      <th>RIC1</th>\n      <td>Yes</td>\n      <td>16.0</td>\n      <td>41.0</td>\n      <td>-1.373046</td>\n      <td>0.001691</td>\n      <td>NaN</td>\n      <td>NaN</td>\n      <td>NaN</td>\n      <td>100.0</td>\n      <td>NaN</td>\n      <td>...</td>\n      <td>NaN</td>\n      <td>NaN</td>\n      <td>NaN</td>\n      <td>60.0</td>\n      <td>52.0</td>\n      <td>NaN</td>\n      <td>NaN</td>\n      <td>NaN</td>\n      <td>50.0</td>\n      <td>43.0</td>\n    </tr>\n    <tr>\n      <th>SLC3A2</th>\n      <td>Yes</td>\n      <td>4.0</td>\n      <td>10.0</td>\n      <td>-1.149046</td>\n      <td>2.776041</td>\n      <td>NaN</td>\n      <td>NaN</td>\n      <td>NaN</td>\n      <td>NaN</td>\n      <td>NaN</td>\n      <td>...</td>\n      <td>NaN</td>\n      <td>NaN</td>\n      <td>NaN</td>\n      <td>NaN</td>\n      <td>10.0</td>\n      <td>NaN</td>\n      <td>NaN</td>\n      <td>NaN</td>\n      <td>NaN</td>\n      <td>NaN</td>\n    </tr>\n    <tr>\n      <th>SNAP23</th>\n      <td>Yes</td>\n      <td>19.0</td>\n      <td>49.0</td>\n      <td>-1.395622</td>\n      <td>7.756466</td>\n      <td>NaN</td>\n      <td>NaN</td>\n      <td>NaN</td>\n      <td>NaN</td>\n      <td>NaN</td>\n      <td>...</td>\n      <td>NaN</td>\n      <td>50.0</td>\n      <td>NaN</td>\n      <td>60.0</td>\n      <td>55.0</td>\n      <td>NaN</td>\n      <td>NaN</td>\n      <td>57.0</td>\n      <td>50.0</td>\n      <td>48.0</td>\n    </tr>\n  </tbody>\n</table>\n<p>68 rows × 23 columns</p>\n</div>"
     },
     "execution_count": 187,
     "metadata": {},
     "output_type": "execute_result"
    }
   ],
   "source": [
    "genes_table_df"
   ],
   "metadata": {
    "collapsed": false,
    "ExecuteTime": {
     "end_time": "2024-07-01T17:16:37.491238Z",
     "start_time": "2024-07-01T17:16:37.467453Z"
    }
   },
   "id": "26dc8c8be51a1184",
   "execution_count": 187
  },
  {
   "cell_type": "markdown",
   "source": [
    "# RNA Clusters"
   ],
   "metadata": {
    "collapsed": false
   },
   "id": "28fc24c657f2bda5"
  },
  {
   "cell_type": "code",
   "outputs": [
    {
     "data": {
      "text/plain": "        RNA_Cluster Subtype\nSNU886           R1     HCC\nJHH4             R1     HCC\nSNU449           R1     HCC\nOCUG1            R1     GBC\nNOZ              R1     GBC\n...             ...     ...\nSNU1196          R4     ECC\nTKKK             R4     ICC\nSNU245           R4     ECC\nOZ               R4     ICC\nGB2              R4     GBC\n\n[79 rows x 2 columns]",
      "text/html": "<div>\n<style scoped>\n    .dataframe tbody tr th:only-of-type {\n        vertical-align: middle;\n    }\n\n    .dataframe tbody tr th {\n        vertical-align: top;\n    }\n\n    .dataframe thead th {\n        text-align: right;\n    }\n</style>\n<table border=\"1\" class=\"dataframe\">\n  <thead>\n    <tr style=\"text-align: right;\">\n      <th></th>\n      <th>RNA_Cluster</th>\n      <th>Subtype</th>\n    </tr>\n  </thead>\n  <tbody>\n    <tr>\n      <th>SNU886</th>\n      <td>R1</td>\n      <td>HCC</td>\n    </tr>\n    <tr>\n      <th>JHH4</th>\n      <td>R1</td>\n      <td>HCC</td>\n    </tr>\n    <tr>\n      <th>SNU449</th>\n      <td>R1</td>\n      <td>HCC</td>\n    </tr>\n    <tr>\n      <th>OCUG1</th>\n      <td>R1</td>\n      <td>GBC</td>\n    </tr>\n    <tr>\n      <th>NOZ</th>\n      <td>R1</td>\n      <td>GBC</td>\n    </tr>\n    <tr>\n      <th>...</th>\n      <td>...</td>\n      <td>...</td>\n    </tr>\n    <tr>\n      <th>SNU1196</th>\n      <td>R4</td>\n      <td>ECC</td>\n    </tr>\n    <tr>\n      <th>TKKK</th>\n      <td>R4</td>\n      <td>ICC</td>\n    </tr>\n    <tr>\n      <th>SNU245</th>\n      <td>R4</td>\n      <td>ECC</td>\n    </tr>\n    <tr>\n      <th>OZ</th>\n      <td>R4</td>\n      <td>ICC</td>\n    </tr>\n    <tr>\n      <th>GB2</th>\n      <td>R4</td>\n      <td>GBC</td>\n    </tr>\n  </tbody>\n</table>\n<p>79 rows × 2 columns</p>\n</div>"
     },
     "execution_count": 188,
     "metadata": {},
     "output_type": "execute_result"
    }
   ],
   "source": [
    "rna_cluster_file = 'Figure5/output_fig5/RNA_Gene_reordered_upset_df.csv'\n",
    "rna_cluster_df = pd.read_csv(rna_cluster_file, index_col=0)\n",
    "rna_cluster_df"
   ],
   "metadata": {
    "collapsed": false,
    "ExecuteTime": {
     "end_time": "2024-07-01T17:16:38.642216Z",
     "start_time": "2024-07-01T17:16:38.608844Z"
    }
   },
   "id": "5b3e3a3bc7fd111c",
   "execution_count": 188
  },
  {
   "cell_type": "code",
   "outputs": [],
   "source": [
    "percentage_thr_dic = {'R1':50, 'R2':100, 'R3':50, 'R4':20}\n",
    "cluster_col = 'RNA_Cluster'\n",
    "genes_table_df = Utils.process_dependency_table(genes_table_df, upset_df, gene_effect_df, target_genes, gene_effect_thr_dic, rna_cluster_df, cluster_col, thr_dic=percentage_thr_dic)"
   ],
   "metadata": {
    "collapsed": false,
    "ExecuteTime": {
     "end_time": "2024-07-01T17:16:39.078048Z",
     "start_time": "2024-07-01T17:16:38.998635Z"
    }
   },
   "id": "628be05820c1e73d",
   "execution_count": 189
  },
  {
   "cell_type": "code",
   "outputs": [
    {
     "data": {
      "text/plain": "        BTC common essential  Dependent Cell Lines  Dependent Cell Lines (%)  \\\nABI1                     NaN                   8.0                      21.0   \nARHGEF7                  Yes                  24.0                      62.0   \nBRAF                     NaN                   4.0                      10.0   \nBRK1                     NaN                  13.0                      33.0   \nCDH1                     NaN                   8.0                      21.0   \n...                      ...                   ...                       ...   \nPTPN11                   Yes                  20.0                      51.0   \nRAB6A                    Yes                  14.0                      36.0   \nRIC1                     Yes                  16.0                      41.0   \nSLC3A2                   Yes                   4.0                      10.0   \nSNAP23                   Yes                  19.0                      49.0   \n\n         Dependent Cell Lines Median Gene Effect    NormLRT  \\\nABI1                                   -0.587920  22.288772   \nARHGEF7                                -0.776864   2.910097   \nBRAF                                   -1.000673  49.846968   \nBRK1                                   -0.798767   7.568821   \nCDH1                                   -0.773961  11.860180   \n...                                          ...        ...   \nPTPN11                                 -1.231128        NaN   \nRAB6A                                  -1.170115   0.000068   \nRIC1                                   -1.373046   0.001691   \nSLC3A2                                 -1.149046   2.776041   \nSNAP23                                 -1.395622   7.756466   \n\n         High 3p13 ssGSEA[n=17] (%)  Low 3p13 ssGSEA[n=20] (%)  \\\nABI1                            NaN                        NaN   \nARHGEF7                         NaN                        NaN   \nBRAF                            NaN                        NaN   \nBRK1                            NaN                        NaN   \nCDH1                            NaN                        NaN   \n...                             ...                        ...   \nPTPN11                         29.0                       70.0   \nRAB6A                           NaN                        NaN   \nRIC1                            NaN                        NaN   \nSLC3A2                          NaN                        NaN   \nSNAP23                          NaN                        NaN   \n\n         ARID1A MT[n=5] (%)  BAP1 MT[n=2] (%)  BRAF MT[n=2] (%)  ...  \\\nABI1                    NaN               NaN             100.0  ...   \nARHGEF7                 NaN               NaN             100.0  ...   \nBRAF                    NaN               NaN             100.0  ...   \nBRK1                    NaN               NaN             100.0  ...   \nCDH1                    NaN               NaN             100.0  ...   \n...                     ...               ...               ...  ...   \nPTPN11                 60.0               NaN               NaN  ...   \nRAB6A                   NaN               NaN               NaN  ...   \nRIC1                    NaN             100.0               NaN  ...   \nSLC3A2                  NaN               NaN               NaN  ...   \nSNAP23                  NaN               NaN               NaN  ...   \n\n         TP53 MT[n=29] (%)  IDH1/2 MT[n=2] (%)  AC[n=5] (%)  ECC[n=7] (%)  \\\nABI1                  24.0                 NaN          NaN           NaN   \nARHGEF7               69.0               100.0          NaN          57.0   \nBRAF                   7.0                 NaN          NaN           NaN   \nBRK1                  34.0                 NaN          NaN           NaN   \nCDH1                  21.0                 NaN          NaN           NaN   \n...                    ...                 ...          ...           ...   \nPTPN11                55.0               100.0          NaN           NaN   \nRAB6A                 45.0                 NaN          NaN           NaN   \nRIC1                  52.0                 NaN          NaN           NaN   \nSLC3A2                10.0                 NaN          NaN           NaN   \nSNAP23                55.0                 NaN          NaN          57.0   \n\n         GBC[n=6] (%)  ICC[n=21] (%)  R1[n=8] (%)  R2[n=1] (%)  R3[n=7] (%)  \\\nABI1              NaN           24.0          NaN          NaN          NaN   \nARHGEF7          50.0           67.0         62.0          NaN         86.0   \nBRAF              NaN            NaN          NaN          NaN          NaN   \nBRK1             67.0           33.0          NaN        100.0          NaN   \nCDH1              NaN           24.0          NaN          NaN          NaN   \n...               ...            ...          ...          ...          ...   \nPTPN11           50.0           67.0          NaN          NaN        100.0   \nRAB6A             NaN           33.0          NaN          NaN          NaN   \nRIC1             50.0           43.0          NaN          NaN          NaN   \nSLC3A2            NaN            NaN          NaN          NaN          NaN   \nSNAP23           50.0           48.0         50.0          NaN          NaN   \n\n         R4[n=21] (%)  \nABI1             38.0  \nARHGEF7          57.0  \nBRAF              NaN  \nBRK1             43.0  \nCDH1             33.0  \n...               ...  \nPTPN11           43.0  \nRAB6A            52.0  \nRIC1             52.0  \nSLC3A2            NaN  \nSNAP23           62.0  \n\n[68 rows x 27 columns]",
      "text/html": "<div>\n<style scoped>\n    .dataframe tbody tr th:only-of-type {\n        vertical-align: middle;\n    }\n\n    .dataframe tbody tr th {\n        vertical-align: top;\n    }\n\n    .dataframe thead th {\n        text-align: right;\n    }\n</style>\n<table border=\"1\" class=\"dataframe\">\n  <thead>\n    <tr style=\"text-align: right;\">\n      <th></th>\n      <th>BTC common essential</th>\n      <th>Dependent Cell Lines</th>\n      <th>Dependent Cell Lines (%)</th>\n      <th>Dependent Cell Lines Median Gene Effect</th>\n      <th>NormLRT</th>\n      <th>High 3p13 ssGSEA[n=17] (%)</th>\n      <th>Low 3p13 ssGSEA[n=20] (%)</th>\n      <th>ARID1A MT[n=5] (%)</th>\n      <th>BAP1 MT[n=2] (%)</th>\n      <th>BRAF MT[n=2] (%)</th>\n      <th>...</th>\n      <th>TP53 MT[n=29] (%)</th>\n      <th>IDH1/2 MT[n=2] (%)</th>\n      <th>AC[n=5] (%)</th>\n      <th>ECC[n=7] (%)</th>\n      <th>GBC[n=6] (%)</th>\n      <th>ICC[n=21] (%)</th>\n      <th>R1[n=8] (%)</th>\n      <th>R2[n=1] (%)</th>\n      <th>R3[n=7] (%)</th>\n      <th>R4[n=21] (%)</th>\n    </tr>\n  </thead>\n  <tbody>\n    <tr>\n      <th>ABI1</th>\n      <td>NaN</td>\n      <td>8.0</td>\n      <td>21.0</td>\n      <td>-0.587920</td>\n      <td>22.288772</td>\n      <td>NaN</td>\n      <td>NaN</td>\n      <td>NaN</td>\n      <td>NaN</td>\n      <td>100.0</td>\n      <td>...</td>\n      <td>24.0</td>\n      <td>NaN</td>\n      <td>NaN</td>\n      <td>NaN</td>\n      <td>NaN</td>\n      <td>24.0</td>\n      <td>NaN</td>\n      <td>NaN</td>\n      <td>NaN</td>\n      <td>38.0</td>\n    </tr>\n    <tr>\n      <th>ARHGEF7</th>\n      <td>Yes</td>\n      <td>24.0</td>\n      <td>62.0</td>\n      <td>-0.776864</td>\n      <td>2.910097</td>\n      <td>NaN</td>\n      <td>NaN</td>\n      <td>NaN</td>\n      <td>NaN</td>\n      <td>100.0</td>\n      <td>...</td>\n      <td>69.0</td>\n      <td>100.0</td>\n      <td>NaN</td>\n      <td>57.0</td>\n      <td>50.0</td>\n      <td>67.0</td>\n      <td>62.0</td>\n      <td>NaN</td>\n      <td>86.0</td>\n      <td>57.0</td>\n    </tr>\n    <tr>\n      <th>BRAF</th>\n      <td>NaN</td>\n      <td>4.0</td>\n      <td>10.0</td>\n      <td>-1.000673</td>\n      <td>49.846968</td>\n      <td>NaN</td>\n      <td>NaN</td>\n      <td>NaN</td>\n      <td>NaN</td>\n      <td>100.0</td>\n      <td>...</td>\n      <td>7.0</td>\n      <td>NaN</td>\n      <td>NaN</td>\n      <td>NaN</td>\n      <td>NaN</td>\n      <td>NaN</td>\n      <td>NaN</td>\n      <td>NaN</td>\n      <td>NaN</td>\n      <td>NaN</td>\n    </tr>\n    <tr>\n      <th>BRK1</th>\n      <td>NaN</td>\n      <td>13.0</td>\n      <td>33.0</td>\n      <td>-0.798767</td>\n      <td>7.568821</td>\n      <td>NaN</td>\n      <td>NaN</td>\n      <td>NaN</td>\n      <td>NaN</td>\n      <td>100.0</td>\n      <td>...</td>\n      <td>34.0</td>\n      <td>NaN</td>\n      <td>NaN</td>\n      <td>NaN</td>\n      <td>67.0</td>\n      <td>33.0</td>\n      <td>NaN</td>\n      <td>100.0</td>\n      <td>NaN</td>\n      <td>43.0</td>\n    </tr>\n    <tr>\n      <th>CDH1</th>\n      <td>NaN</td>\n      <td>8.0</td>\n      <td>21.0</td>\n      <td>-0.773961</td>\n      <td>11.860180</td>\n      <td>NaN</td>\n      <td>NaN</td>\n      <td>NaN</td>\n      <td>NaN</td>\n      <td>100.0</td>\n      <td>...</td>\n      <td>21.0</td>\n      <td>NaN</td>\n      <td>NaN</td>\n      <td>NaN</td>\n      <td>NaN</td>\n      <td>24.0</td>\n      <td>NaN</td>\n      <td>NaN</td>\n      <td>NaN</td>\n      <td>33.0</td>\n    </tr>\n    <tr>\n      <th>...</th>\n      <td>...</td>\n      <td>...</td>\n      <td>...</td>\n      <td>...</td>\n      <td>...</td>\n      <td>...</td>\n      <td>...</td>\n      <td>...</td>\n      <td>...</td>\n      <td>...</td>\n      <td>...</td>\n      <td>...</td>\n      <td>...</td>\n      <td>...</td>\n      <td>...</td>\n      <td>...</td>\n      <td>...</td>\n      <td>...</td>\n      <td>...</td>\n      <td>...</td>\n      <td>...</td>\n    </tr>\n    <tr>\n      <th>PTPN11</th>\n      <td>Yes</td>\n      <td>20.0</td>\n      <td>51.0</td>\n      <td>-1.231128</td>\n      <td>NaN</td>\n      <td>29.0</td>\n      <td>70.0</td>\n      <td>60.0</td>\n      <td>NaN</td>\n      <td>NaN</td>\n      <td>...</td>\n      <td>55.0</td>\n      <td>100.0</td>\n      <td>NaN</td>\n      <td>NaN</td>\n      <td>50.0</td>\n      <td>67.0</td>\n      <td>NaN</td>\n      <td>NaN</td>\n      <td>100.0</td>\n      <td>43.0</td>\n    </tr>\n    <tr>\n      <th>RAB6A</th>\n      <td>Yes</td>\n      <td>14.0</td>\n      <td>36.0</td>\n      <td>-1.170115</td>\n      <td>0.000068</td>\n      <td>NaN</td>\n      <td>NaN</td>\n      <td>NaN</td>\n      <td>NaN</td>\n      <td>NaN</td>\n      <td>...</td>\n      <td>45.0</td>\n      <td>NaN</td>\n      <td>NaN</td>\n      <td>NaN</td>\n      <td>NaN</td>\n      <td>33.0</td>\n      <td>NaN</td>\n      <td>NaN</td>\n      <td>NaN</td>\n      <td>52.0</td>\n    </tr>\n    <tr>\n      <th>RIC1</th>\n      <td>Yes</td>\n      <td>16.0</td>\n      <td>41.0</td>\n      <td>-1.373046</td>\n      <td>0.001691</td>\n      <td>NaN</td>\n      <td>NaN</td>\n      <td>NaN</td>\n      <td>100.0</td>\n      <td>NaN</td>\n      <td>...</td>\n      <td>52.0</td>\n      <td>NaN</td>\n      <td>NaN</td>\n      <td>NaN</td>\n      <td>50.0</td>\n      <td>43.0</td>\n      <td>NaN</td>\n      <td>NaN</td>\n      <td>NaN</td>\n      <td>52.0</td>\n    </tr>\n    <tr>\n      <th>SLC3A2</th>\n      <td>Yes</td>\n      <td>4.0</td>\n      <td>10.0</td>\n      <td>-1.149046</td>\n      <td>2.776041</td>\n      <td>NaN</td>\n      <td>NaN</td>\n      <td>NaN</td>\n      <td>NaN</td>\n      <td>NaN</td>\n      <td>...</td>\n      <td>10.0</td>\n      <td>NaN</td>\n      <td>NaN</td>\n      <td>NaN</td>\n      <td>NaN</td>\n      <td>NaN</td>\n      <td>NaN</td>\n      <td>NaN</td>\n      <td>NaN</td>\n      <td>NaN</td>\n    </tr>\n    <tr>\n      <th>SNAP23</th>\n      <td>Yes</td>\n      <td>19.0</td>\n      <td>49.0</td>\n      <td>-1.395622</td>\n      <td>7.756466</td>\n      <td>NaN</td>\n      <td>NaN</td>\n      <td>NaN</td>\n      <td>NaN</td>\n      <td>NaN</td>\n      <td>...</td>\n      <td>55.0</td>\n      <td>NaN</td>\n      <td>NaN</td>\n      <td>57.0</td>\n      <td>50.0</td>\n      <td>48.0</td>\n      <td>50.0</td>\n      <td>NaN</td>\n      <td>NaN</td>\n      <td>62.0</td>\n    </tr>\n  </tbody>\n</table>\n<p>68 rows × 27 columns</p>\n</div>"
     },
     "execution_count": 190,
     "metadata": {},
     "output_type": "execute_result"
    }
   ],
   "source": [
    "genes_table_df"
   ],
   "metadata": {
    "collapsed": false,
    "ExecuteTime": {
     "end_time": "2024-07-01T17:16:39.315144Z",
     "start_time": "2024-07-01T17:16:39.288718Z"
    }
   },
   "id": "7315dcbd1561b3b0",
   "execution_count": 190
  },
  {
   "cell_type": "markdown",
   "source": [
    "# Proteins Clusters"
   ],
   "metadata": {
    "collapsed": false
   },
   "id": "eb688c395cfcc1ef"
  },
  {
   "cell_type": "code",
   "outputs": [
    {
     "data": {
      "text/plain": "          Cluster Subtype RNA_Cluster\nICC26          P1     ICC          R3\nICC28          P1     ICC         NaN\nGB4            P1     GBC         NaN\nTGBC14TKB      P1     GBC         NaN\nG415           P1     GBC          R1\n...           ...     ...         ...\nSNU869         P5      AC          R4\nSNU308         P5     GBC          R4\nHKGZCC         P5     ICC          R4\nSNU1196        P5     ECC          R4\nKKU213         P5     ICC          R4\n\n[75 rows x 3 columns]",
      "text/html": "<div>\n<style scoped>\n    .dataframe tbody tr th:only-of-type {\n        vertical-align: middle;\n    }\n\n    .dataframe tbody tr th {\n        vertical-align: top;\n    }\n\n    .dataframe thead th {\n        text-align: right;\n    }\n</style>\n<table border=\"1\" class=\"dataframe\">\n  <thead>\n    <tr style=\"text-align: right;\">\n      <th></th>\n      <th>Cluster</th>\n      <th>Subtype</th>\n      <th>RNA_Cluster</th>\n    </tr>\n  </thead>\n  <tbody>\n    <tr>\n      <th>ICC26</th>\n      <td>P1</td>\n      <td>ICC</td>\n      <td>R3</td>\n    </tr>\n    <tr>\n      <th>ICC28</th>\n      <td>P1</td>\n      <td>ICC</td>\n      <td>NaN</td>\n    </tr>\n    <tr>\n      <th>GB4</th>\n      <td>P1</td>\n      <td>GBC</td>\n      <td>NaN</td>\n    </tr>\n    <tr>\n      <th>TGBC14TKB</th>\n      <td>P1</td>\n      <td>GBC</td>\n      <td>NaN</td>\n    </tr>\n    <tr>\n      <th>G415</th>\n      <td>P1</td>\n      <td>GBC</td>\n      <td>R1</td>\n    </tr>\n    <tr>\n      <th>...</th>\n      <td>...</td>\n      <td>...</td>\n      <td>...</td>\n    </tr>\n    <tr>\n      <th>SNU869</th>\n      <td>P5</td>\n      <td>AC</td>\n      <td>R4</td>\n    </tr>\n    <tr>\n      <th>SNU308</th>\n      <td>P5</td>\n      <td>GBC</td>\n      <td>R4</td>\n    </tr>\n    <tr>\n      <th>HKGZCC</th>\n      <td>P5</td>\n      <td>ICC</td>\n      <td>R4</td>\n    </tr>\n    <tr>\n      <th>SNU1196</th>\n      <td>P5</td>\n      <td>ECC</td>\n      <td>R4</td>\n    </tr>\n    <tr>\n      <th>KKU213</th>\n      <td>P5</td>\n      <td>ICC</td>\n      <td>R4</td>\n    </tr>\n  </tbody>\n</table>\n<p>75 rows × 3 columns</p>\n</div>"
     },
     "execution_count": 191,
     "metadata": {},
     "output_type": "execute_result"
    }
   ],
   "source": [
    "proteins_cluster_file = 'Figure6/output_fig6/Protein_reordered_upset_df.csv'\n",
    "proteins_cluster_df = pd.read_csv(proteins_cluster_file, index_col=0)\n",
    "proteins_cluster_df"
   ],
   "metadata": {
    "collapsed": false,
    "ExecuteTime": {
     "end_time": "2024-07-01T17:16:39.407152Z",
     "start_time": "2024-07-01T17:16:39.389281Z"
    }
   },
   "id": "5e229e9129042e93",
   "execution_count": 191
  },
  {
   "cell_type": "code",
   "outputs": [],
   "source": [
    "percentage_thr_dic = {'P1':50, 'P2':50, 'P3':50, 'P4':50, 'P5':50 }\n",
    "cluster_col = 'Cluster'\n",
    "genes_table_df = Utils.process_dependency_table(genes_table_df, upset_df, gene_effect_df, target_genes, gene_effect_thr_dic, proteins_cluster_df, cluster_col, thr_dic=percentage_thr_dic)"
   ],
   "metadata": {
    "collapsed": false,
    "ExecuteTime": {
     "end_time": "2024-07-01T17:16:39.532370Z",
     "start_time": "2024-07-01T17:16:39.445094Z"
    }
   },
   "id": "769bd93f63402a77",
   "execution_count": 192
  },
  {
   "cell_type": "code",
   "outputs": [
    {
     "data": {
      "text/plain": "        BTC common essential  Dependent Cell Lines  Dependent Cell Lines (%)  \\\nABI1                     NaN                   8.0                      21.0   \nARHGEF7                  Yes                  24.0                      62.0   \nBRAF                     NaN                   4.0                      10.0   \nBRK1                     NaN                  13.0                      33.0   \nCDH1                     NaN                   8.0                      21.0   \n...                      ...                   ...                       ...   \nPTPN11                   Yes                  20.0                      51.0   \nRAB6A                    Yes                  14.0                      36.0   \nRIC1                     Yes                  16.0                      41.0   \nSLC3A2                   Yes                   4.0                      10.0   \nSNAP23                   Yes                  19.0                      49.0   \n\n         Dependent Cell Lines Median Gene Effect    NormLRT  \\\nABI1                                   -0.587920  22.288772   \nARHGEF7                                -0.776864   2.910097   \nBRAF                                   -1.000673  49.846968   \nBRK1                                   -0.798767   7.568821   \nCDH1                                   -0.773961  11.860180   \n...                                          ...        ...   \nPTPN11                                 -1.231128        NaN   \nRAB6A                                  -1.170115   0.000068   \nRIC1                                   -1.373046   0.001691   \nSLC3A2                                 -1.149046   2.776041   \nSNAP23                                 -1.395622   7.756466   \n\n         High 3p13 ssGSEA[n=17] (%)  Low 3p13 ssGSEA[n=20] (%)  \\\nABI1                            NaN                        NaN   \nARHGEF7                         NaN                        NaN   \nBRAF                            NaN                        NaN   \nBRK1                            NaN                        NaN   \nCDH1                            NaN                        NaN   \n...                             ...                        ...   \nPTPN11                         29.0                       70.0   \nRAB6A                           NaN                        NaN   \nRIC1                            NaN                        NaN   \nSLC3A2                          NaN                        NaN   \nSNAP23                          NaN                        NaN   \n\n         ARID1A MT[n=5] (%)  BAP1 MT[n=2] (%)  BRAF MT[n=2] (%)  ...  \\\nABI1                    NaN               NaN             100.0  ...   \nARHGEF7                 NaN               NaN             100.0  ...   \nBRAF                    NaN               NaN             100.0  ...   \nBRK1                    NaN               NaN             100.0  ...   \nCDH1                    NaN               NaN             100.0  ...   \n...                     ...               ...               ...  ...   \nPTPN11                 60.0               NaN               NaN  ...   \nRAB6A                   NaN               NaN               NaN  ...   \nRIC1                    NaN             100.0               NaN  ...   \nSLC3A2                  NaN               NaN               NaN  ...   \nSNAP23                  NaN               NaN               NaN  ...   \n\n         ICC[n=21] (%)  R1[n=8] (%)  R2[n=1] (%)  R3[n=7] (%)  R4[n=21] (%)  \\\nABI1              24.0          NaN          NaN          NaN          38.0   \nARHGEF7           67.0         62.0          NaN         86.0          57.0   \nBRAF               NaN          NaN          NaN          NaN           NaN   \nBRK1              33.0          NaN        100.0          NaN          43.0   \nCDH1              24.0          NaN          NaN          NaN          33.0   \n...                ...          ...          ...          ...           ...   \nPTPN11            67.0          NaN          NaN        100.0          43.0   \nRAB6A             33.0          NaN          NaN          NaN          52.0   \nRIC1              43.0          NaN          NaN          NaN          52.0   \nSLC3A2             NaN          NaN          NaN          NaN           NaN   \nSNAP23            48.0         50.0          NaN          NaN          62.0   \n\n         P1[n=7] (%)  P2[n=3] (%)  P3[n=9] (%)  P4[n=5] (%)  P5[n=13] (%)  \nABI1             NaN          NaN          NaN          NaN           NaN  \nARHGEF7         71.0          NaN          NaN        100.0          69.0  \nBRAF             NaN          NaN          NaN          NaN           NaN  \nBRK1             NaN         67.0          NaN          NaN           NaN  \nCDH1             NaN          NaN          NaN          NaN           NaN  \n...              ...          ...          ...          ...           ...  \nPTPN11          57.0          NaN         56.0         80.0           NaN  \nRAB6A            NaN          NaN          NaN         60.0           NaN  \nRIC1             NaN          NaN          NaN         60.0           NaN  \nSLC3A2           NaN          NaN          NaN          NaN           NaN  \nSNAP23           NaN          NaN         56.0          NaN          69.0  \n\n[68 rows x 32 columns]",
      "text/html": "<div>\n<style scoped>\n    .dataframe tbody tr th:only-of-type {\n        vertical-align: middle;\n    }\n\n    .dataframe tbody tr th {\n        vertical-align: top;\n    }\n\n    .dataframe thead th {\n        text-align: right;\n    }\n</style>\n<table border=\"1\" class=\"dataframe\">\n  <thead>\n    <tr style=\"text-align: right;\">\n      <th></th>\n      <th>BTC common essential</th>\n      <th>Dependent Cell Lines</th>\n      <th>Dependent Cell Lines (%)</th>\n      <th>Dependent Cell Lines Median Gene Effect</th>\n      <th>NormLRT</th>\n      <th>High 3p13 ssGSEA[n=17] (%)</th>\n      <th>Low 3p13 ssGSEA[n=20] (%)</th>\n      <th>ARID1A MT[n=5] (%)</th>\n      <th>BAP1 MT[n=2] (%)</th>\n      <th>BRAF MT[n=2] (%)</th>\n      <th>...</th>\n      <th>ICC[n=21] (%)</th>\n      <th>R1[n=8] (%)</th>\n      <th>R2[n=1] (%)</th>\n      <th>R3[n=7] (%)</th>\n      <th>R4[n=21] (%)</th>\n      <th>P1[n=7] (%)</th>\n      <th>P2[n=3] (%)</th>\n      <th>P3[n=9] (%)</th>\n      <th>P4[n=5] (%)</th>\n      <th>P5[n=13] (%)</th>\n    </tr>\n  </thead>\n  <tbody>\n    <tr>\n      <th>ABI1</th>\n      <td>NaN</td>\n      <td>8.0</td>\n      <td>21.0</td>\n      <td>-0.587920</td>\n      <td>22.288772</td>\n      <td>NaN</td>\n      <td>NaN</td>\n      <td>NaN</td>\n      <td>NaN</td>\n      <td>100.0</td>\n      <td>...</td>\n      <td>24.0</td>\n      <td>NaN</td>\n      <td>NaN</td>\n      <td>NaN</td>\n      <td>38.0</td>\n      <td>NaN</td>\n      <td>NaN</td>\n      <td>NaN</td>\n      <td>NaN</td>\n      <td>NaN</td>\n    </tr>\n    <tr>\n      <th>ARHGEF7</th>\n      <td>Yes</td>\n      <td>24.0</td>\n      <td>62.0</td>\n      <td>-0.776864</td>\n      <td>2.910097</td>\n      <td>NaN</td>\n      <td>NaN</td>\n      <td>NaN</td>\n      <td>NaN</td>\n      <td>100.0</td>\n      <td>...</td>\n      <td>67.0</td>\n      <td>62.0</td>\n      <td>NaN</td>\n      <td>86.0</td>\n      <td>57.0</td>\n      <td>71.0</td>\n      <td>NaN</td>\n      <td>NaN</td>\n      <td>100.0</td>\n      <td>69.0</td>\n    </tr>\n    <tr>\n      <th>BRAF</th>\n      <td>NaN</td>\n      <td>4.0</td>\n      <td>10.0</td>\n      <td>-1.000673</td>\n      <td>49.846968</td>\n      <td>NaN</td>\n      <td>NaN</td>\n      <td>NaN</td>\n      <td>NaN</td>\n      <td>100.0</td>\n      <td>...</td>\n      <td>NaN</td>\n      <td>NaN</td>\n      <td>NaN</td>\n      <td>NaN</td>\n      <td>NaN</td>\n      <td>NaN</td>\n      <td>NaN</td>\n      <td>NaN</td>\n      <td>NaN</td>\n      <td>NaN</td>\n    </tr>\n    <tr>\n      <th>BRK1</th>\n      <td>NaN</td>\n      <td>13.0</td>\n      <td>33.0</td>\n      <td>-0.798767</td>\n      <td>7.568821</td>\n      <td>NaN</td>\n      <td>NaN</td>\n      <td>NaN</td>\n      <td>NaN</td>\n      <td>100.0</td>\n      <td>...</td>\n      <td>33.0</td>\n      <td>NaN</td>\n      <td>100.0</td>\n      <td>NaN</td>\n      <td>43.0</td>\n      <td>NaN</td>\n      <td>67.0</td>\n      <td>NaN</td>\n      <td>NaN</td>\n      <td>NaN</td>\n    </tr>\n    <tr>\n      <th>CDH1</th>\n      <td>NaN</td>\n      <td>8.0</td>\n      <td>21.0</td>\n      <td>-0.773961</td>\n      <td>11.860180</td>\n      <td>NaN</td>\n      <td>NaN</td>\n      <td>NaN</td>\n      <td>NaN</td>\n      <td>100.0</td>\n      <td>...</td>\n      <td>24.0</td>\n      <td>NaN</td>\n      <td>NaN</td>\n      <td>NaN</td>\n      <td>33.0</td>\n      <td>NaN</td>\n      <td>NaN</td>\n      <td>NaN</td>\n      <td>NaN</td>\n      <td>NaN</td>\n    </tr>\n    <tr>\n      <th>...</th>\n      <td>...</td>\n      <td>...</td>\n      <td>...</td>\n      <td>...</td>\n      <td>...</td>\n      <td>...</td>\n      <td>...</td>\n      <td>...</td>\n      <td>...</td>\n      <td>...</td>\n      <td>...</td>\n      <td>...</td>\n      <td>...</td>\n      <td>...</td>\n      <td>...</td>\n      <td>...</td>\n      <td>...</td>\n      <td>...</td>\n      <td>...</td>\n      <td>...</td>\n      <td>...</td>\n    </tr>\n    <tr>\n      <th>PTPN11</th>\n      <td>Yes</td>\n      <td>20.0</td>\n      <td>51.0</td>\n      <td>-1.231128</td>\n      <td>NaN</td>\n      <td>29.0</td>\n      <td>70.0</td>\n      <td>60.0</td>\n      <td>NaN</td>\n      <td>NaN</td>\n      <td>...</td>\n      <td>67.0</td>\n      <td>NaN</td>\n      <td>NaN</td>\n      <td>100.0</td>\n      <td>43.0</td>\n      <td>57.0</td>\n      <td>NaN</td>\n      <td>56.0</td>\n      <td>80.0</td>\n      <td>NaN</td>\n    </tr>\n    <tr>\n      <th>RAB6A</th>\n      <td>Yes</td>\n      <td>14.0</td>\n      <td>36.0</td>\n      <td>-1.170115</td>\n      <td>0.000068</td>\n      <td>NaN</td>\n      <td>NaN</td>\n      <td>NaN</td>\n      <td>NaN</td>\n      <td>NaN</td>\n      <td>...</td>\n      <td>33.0</td>\n      <td>NaN</td>\n      <td>NaN</td>\n      <td>NaN</td>\n      <td>52.0</td>\n      <td>NaN</td>\n      <td>NaN</td>\n      <td>NaN</td>\n      <td>60.0</td>\n      <td>NaN</td>\n    </tr>\n    <tr>\n      <th>RIC1</th>\n      <td>Yes</td>\n      <td>16.0</td>\n      <td>41.0</td>\n      <td>-1.373046</td>\n      <td>0.001691</td>\n      <td>NaN</td>\n      <td>NaN</td>\n      <td>NaN</td>\n      <td>100.0</td>\n      <td>NaN</td>\n      <td>...</td>\n      <td>43.0</td>\n      <td>NaN</td>\n      <td>NaN</td>\n      <td>NaN</td>\n      <td>52.0</td>\n      <td>NaN</td>\n      <td>NaN</td>\n      <td>NaN</td>\n      <td>60.0</td>\n      <td>NaN</td>\n    </tr>\n    <tr>\n      <th>SLC3A2</th>\n      <td>Yes</td>\n      <td>4.0</td>\n      <td>10.0</td>\n      <td>-1.149046</td>\n      <td>2.776041</td>\n      <td>NaN</td>\n      <td>NaN</td>\n      <td>NaN</td>\n      <td>NaN</td>\n      <td>NaN</td>\n      <td>...</td>\n      <td>NaN</td>\n      <td>NaN</td>\n      <td>NaN</td>\n      <td>NaN</td>\n      <td>NaN</td>\n      <td>NaN</td>\n      <td>NaN</td>\n      <td>NaN</td>\n      <td>NaN</td>\n      <td>NaN</td>\n    </tr>\n    <tr>\n      <th>SNAP23</th>\n      <td>Yes</td>\n      <td>19.0</td>\n      <td>49.0</td>\n      <td>-1.395622</td>\n      <td>7.756466</td>\n      <td>NaN</td>\n      <td>NaN</td>\n      <td>NaN</td>\n      <td>NaN</td>\n      <td>NaN</td>\n      <td>...</td>\n      <td>48.0</td>\n      <td>50.0</td>\n      <td>NaN</td>\n      <td>NaN</td>\n      <td>62.0</td>\n      <td>NaN</td>\n      <td>NaN</td>\n      <td>56.0</td>\n      <td>NaN</td>\n      <td>69.0</td>\n    </tr>\n  </tbody>\n</table>\n<p>68 rows × 32 columns</p>\n</div>"
     },
     "execution_count": 193,
     "metadata": {},
     "output_type": "execute_result"
    }
   ],
   "source": [
    "genes_table_df"
   ],
   "metadata": {
    "collapsed": false,
    "ExecuteTime": {
     "end_time": "2024-07-01T17:16:39.714902Z",
     "start_time": "2024-07-01T17:16:39.690983Z"
    }
   },
   "id": "8ff0ce54cc408a2d",
   "execution_count": 193
  },
  {
   "cell_type": "markdown",
   "source": [
    "# CRISPR Clusters"
   ],
   "metadata": {
    "collapsed": false
   },
   "id": "80bb85d74cd60b46"
  },
  {
   "cell_type": "code",
   "outputs": [
    {
     "data": {
      "text/plain": "          Cluster Subtype RNA_Cluster Protein_Cluster\nCell_line                                            \nKKU100         C1     ECC          R1              P3\nOCUG1          C1     GBC          R1              P3\nECC4           C1     ECC          R1              P1\nSNU308         C1     GBC          R4              P5\nICC2           C1     ICC          R4              P5\nCCC5           C1     ECC         NaN             NaN\nSNU1196        C2     ECC          R4              P5\nSNU869         C2      AC          R4              P5\nTGBC52TKB      C3      AC          R1              P3\nSNU1079        C3     ICC          R3              P1\nRBE            C3     ICC          R3              P1\nNOZ            C3     GBC          R1              P1\nG415           C3     GBC          R1              P1\nCCLP1          C3     ICC          R1              P1\nKMCH1          C3     ICC          R4              P2\nSG231          C3     ICC          R2              P2\nSNU478         C4      AC          R4              P5\nICC10-8        C4     ICC          R3              P4\nSSP25          C4     ICC          R1              P1\nICC10          C4     ICC          R3              P4\nGB2            C4     GBC          R4              P4\nTGBC18TKB      C4      AC         NaN             NaN\nTFK1           C4     ECC          R4              P3\nICC10-6        C4     ICC          R3              P4\nICC13-7        C4     ICC          R3              P3\nICC4           C4     ICC          R3              P3\nTGBC1TKB       C4     GBC          R4              P2\nAOVC1          C5      AC          R4              P5\nHUCCT1         C5     ICC          R4              P5\nTKKK           C5     ICC          R4              P3\nICC12          C5     ICC          R4              P5\nICC8           C5     ICC          R4              P4\nEGI1           C5     ECC          R4              P3\nICC9           C5     ICC          R4              P5\nYSCCC          C6     ICC          R4              P3\nECC3           C6     ECC          R4              P5\nCCSW1          C6     ICC          R4              P5\nHKGZCC         C6     ICC          R4              P5\nKKU213         C6     ICC          R4              P5",
      "text/html": "<div>\n<style scoped>\n    .dataframe tbody tr th:only-of-type {\n        vertical-align: middle;\n    }\n\n    .dataframe tbody tr th {\n        vertical-align: top;\n    }\n\n    .dataframe thead th {\n        text-align: right;\n    }\n</style>\n<table border=\"1\" class=\"dataframe\">\n  <thead>\n    <tr style=\"text-align: right;\">\n      <th></th>\n      <th>Cluster</th>\n      <th>Subtype</th>\n      <th>RNA_Cluster</th>\n      <th>Protein_Cluster</th>\n    </tr>\n    <tr>\n      <th>Cell_line</th>\n      <th></th>\n      <th></th>\n      <th></th>\n      <th></th>\n    </tr>\n  </thead>\n  <tbody>\n    <tr>\n      <th>KKU100</th>\n      <td>C1</td>\n      <td>ECC</td>\n      <td>R1</td>\n      <td>P3</td>\n    </tr>\n    <tr>\n      <th>OCUG1</th>\n      <td>C1</td>\n      <td>GBC</td>\n      <td>R1</td>\n      <td>P3</td>\n    </tr>\n    <tr>\n      <th>ECC4</th>\n      <td>C1</td>\n      <td>ECC</td>\n      <td>R1</td>\n      <td>P1</td>\n    </tr>\n    <tr>\n      <th>SNU308</th>\n      <td>C1</td>\n      <td>GBC</td>\n      <td>R4</td>\n      <td>P5</td>\n    </tr>\n    <tr>\n      <th>ICC2</th>\n      <td>C1</td>\n      <td>ICC</td>\n      <td>R4</td>\n      <td>P5</td>\n    </tr>\n    <tr>\n      <th>CCC5</th>\n      <td>C1</td>\n      <td>ECC</td>\n      <td>NaN</td>\n      <td>NaN</td>\n    </tr>\n    <tr>\n      <th>SNU1196</th>\n      <td>C2</td>\n      <td>ECC</td>\n      <td>R4</td>\n      <td>P5</td>\n    </tr>\n    <tr>\n      <th>SNU869</th>\n      <td>C2</td>\n      <td>AC</td>\n      <td>R4</td>\n      <td>P5</td>\n    </tr>\n    <tr>\n      <th>TGBC52TKB</th>\n      <td>C3</td>\n      <td>AC</td>\n      <td>R1</td>\n      <td>P3</td>\n    </tr>\n    <tr>\n      <th>SNU1079</th>\n      <td>C3</td>\n      <td>ICC</td>\n      <td>R3</td>\n      <td>P1</td>\n    </tr>\n    <tr>\n      <th>RBE</th>\n      <td>C3</td>\n      <td>ICC</td>\n      <td>R3</td>\n      <td>P1</td>\n    </tr>\n    <tr>\n      <th>NOZ</th>\n      <td>C3</td>\n      <td>GBC</td>\n      <td>R1</td>\n      <td>P1</td>\n    </tr>\n    <tr>\n      <th>G415</th>\n      <td>C3</td>\n      <td>GBC</td>\n      <td>R1</td>\n      <td>P1</td>\n    </tr>\n    <tr>\n      <th>CCLP1</th>\n      <td>C3</td>\n      <td>ICC</td>\n      <td>R1</td>\n      <td>P1</td>\n    </tr>\n    <tr>\n      <th>KMCH1</th>\n      <td>C3</td>\n      <td>ICC</td>\n      <td>R4</td>\n      <td>P2</td>\n    </tr>\n    <tr>\n      <th>SG231</th>\n      <td>C3</td>\n      <td>ICC</td>\n      <td>R2</td>\n      <td>P2</td>\n    </tr>\n    <tr>\n      <th>SNU478</th>\n      <td>C4</td>\n      <td>AC</td>\n      <td>R4</td>\n      <td>P5</td>\n    </tr>\n    <tr>\n      <th>ICC10-8</th>\n      <td>C4</td>\n      <td>ICC</td>\n      <td>R3</td>\n      <td>P4</td>\n    </tr>\n    <tr>\n      <th>SSP25</th>\n      <td>C4</td>\n      <td>ICC</td>\n      <td>R1</td>\n      <td>P1</td>\n    </tr>\n    <tr>\n      <th>ICC10</th>\n      <td>C4</td>\n      <td>ICC</td>\n      <td>R3</td>\n      <td>P4</td>\n    </tr>\n    <tr>\n      <th>GB2</th>\n      <td>C4</td>\n      <td>GBC</td>\n      <td>R4</td>\n      <td>P4</td>\n    </tr>\n    <tr>\n      <th>TGBC18TKB</th>\n      <td>C4</td>\n      <td>AC</td>\n      <td>NaN</td>\n      <td>NaN</td>\n    </tr>\n    <tr>\n      <th>TFK1</th>\n      <td>C4</td>\n      <td>ECC</td>\n      <td>R4</td>\n      <td>P3</td>\n    </tr>\n    <tr>\n      <th>ICC10-6</th>\n      <td>C4</td>\n      <td>ICC</td>\n      <td>R3</td>\n      <td>P4</td>\n    </tr>\n    <tr>\n      <th>ICC13-7</th>\n      <td>C4</td>\n      <td>ICC</td>\n      <td>R3</td>\n      <td>P3</td>\n    </tr>\n    <tr>\n      <th>ICC4</th>\n      <td>C4</td>\n      <td>ICC</td>\n      <td>R3</td>\n      <td>P3</td>\n    </tr>\n    <tr>\n      <th>TGBC1TKB</th>\n      <td>C4</td>\n      <td>GBC</td>\n      <td>R4</td>\n      <td>P2</td>\n    </tr>\n    <tr>\n      <th>AOVC1</th>\n      <td>C5</td>\n      <td>AC</td>\n      <td>R4</td>\n      <td>P5</td>\n    </tr>\n    <tr>\n      <th>HUCCT1</th>\n      <td>C5</td>\n      <td>ICC</td>\n      <td>R4</td>\n      <td>P5</td>\n    </tr>\n    <tr>\n      <th>TKKK</th>\n      <td>C5</td>\n      <td>ICC</td>\n      <td>R4</td>\n      <td>P3</td>\n    </tr>\n    <tr>\n      <th>ICC12</th>\n      <td>C5</td>\n      <td>ICC</td>\n      <td>R4</td>\n      <td>P5</td>\n    </tr>\n    <tr>\n      <th>ICC8</th>\n      <td>C5</td>\n      <td>ICC</td>\n      <td>R4</td>\n      <td>P4</td>\n    </tr>\n    <tr>\n      <th>EGI1</th>\n      <td>C5</td>\n      <td>ECC</td>\n      <td>R4</td>\n      <td>P3</td>\n    </tr>\n    <tr>\n      <th>ICC9</th>\n      <td>C5</td>\n      <td>ICC</td>\n      <td>R4</td>\n      <td>P5</td>\n    </tr>\n    <tr>\n      <th>YSCCC</th>\n      <td>C6</td>\n      <td>ICC</td>\n      <td>R4</td>\n      <td>P3</td>\n    </tr>\n    <tr>\n      <th>ECC3</th>\n      <td>C6</td>\n      <td>ECC</td>\n      <td>R4</td>\n      <td>P5</td>\n    </tr>\n    <tr>\n      <th>CCSW1</th>\n      <td>C6</td>\n      <td>ICC</td>\n      <td>R4</td>\n      <td>P5</td>\n    </tr>\n    <tr>\n      <th>HKGZCC</th>\n      <td>C6</td>\n      <td>ICC</td>\n      <td>R4</td>\n      <td>P5</td>\n    </tr>\n    <tr>\n      <th>KKU213</th>\n      <td>C6</td>\n      <td>ICC</td>\n      <td>R4</td>\n      <td>P5</td>\n    </tr>\n  </tbody>\n</table>\n</div>"
     },
     "execution_count": 194,
     "metadata": {},
     "output_type": "execute_result"
    }
   ],
   "source": [
    "crispr_cluster_file = 'Figure7/output_fig7/LRT_Gene_reordered_upset_df.csv'\n",
    "crispr_cluster_df = pd.read_csv(crispr_cluster_file, index_col=0)\n",
    "crispr_cluster_df"
   ],
   "metadata": {
    "collapsed": false,
    "ExecuteTime": {
     "end_time": "2024-07-01T17:16:39.787276Z",
     "start_time": "2024-07-01T17:16:39.762421Z"
    }
   },
   "id": "78b666bea4f67516",
   "execution_count": 194
  },
  {
   "cell_type": "code",
   "outputs": [],
   "source": [
    "percentage_thr_dic = {'C1':50, 'C2':100, 'C3':50, 'C4':50, 'C5':50, 'C6':50}\n",
    "cluster_col = 'Cluster'\n",
    "genes_table_df = Utils.process_dependency_table(genes_table_df, upset_df, gene_effect_df, target_genes, gene_effect_thr_dic, crispr_cluster_df, cluster_col, thr_dic=percentage_thr_dic)"
   ],
   "metadata": {
    "collapsed": false,
    "ExecuteTime": {
     "end_time": "2024-07-01T17:16:41.473001Z",
     "start_time": "2024-07-01T17:16:41.239564Z"
    }
   },
   "id": "995f5d1c25322d6e",
   "execution_count": 195
  },
  {
   "cell_type": "markdown",
   "source": [
    "# Random Forest"
   ],
   "metadata": {
    "collapsed": false
   },
   "id": "4458c31f1e848cb4"
  },
  {
   "cell_type": "code",
   "outputs": [
    {
     "data": {
      "text/plain": "DepMap_ID         corr     mse     mae\nABI1 (10006)    0.3500  0.0482  0.1637\nAHCYL1 (10768)  0.5862  0.1530  0.3174\nARHGEF7 (8874)  0.4859  0.1236  0.2768\nBRAF (673)      0.8465  0.0742  0.1704\nBRK1 (55845)    0.1363  0.1042  0.2485",
      "text/html": "<div>\n<style scoped>\n    .dataframe tbody tr th:only-of-type {\n        vertical-align: middle;\n    }\n\n    .dataframe tbody tr th {\n        vertical-align: top;\n    }\n\n    .dataframe thead th {\n        text-align: right;\n    }\n</style>\n<table border=\"1\" class=\"dataframe\">\n  <thead>\n    <tr style=\"text-align: right;\">\n      <th>DepMap_ID</th>\n      <th>corr</th>\n      <th>mse</th>\n      <th>mae</th>\n    </tr>\n  </thead>\n  <tbody>\n    <tr>\n      <th>ABI1 (10006)</th>\n      <td>0.3500</td>\n      <td>0.0482</td>\n      <td>0.1637</td>\n    </tr>\n    <tr>\n      <th>AHCYL1 (10768)</th>\n      <td>0.5862</td>\n      <td>0.1530</td>\n      <td>0.3174</td>\n    </tr>\n    <tr>\n      <th>ARHGEF7 (8874)</th>\n      <td>0.4859</td>\n      <td>0.1236</td>\n      <td>0.2768</td>\n    </tr>\n    <tr>\n      <th>BRAF (673)</th>\n      <td>0.8465</td>\n      <td>0.0742</td>\n      <td>0.1704</td>\n    </tr>\n    <tr>\n      <th>BRK1 (55845)</th>\n      <td>0.1363</td>\n      <td>0.1042</td>\n      <td>0.2485</td>\n    </tr>\n  </tbody>\n</table>\n</div>"
     },
     "execution_count": 196,
     "metadata": {},
     "output_type": "execute_result"
    }
   ],
   "source": [
    "data_dir = 'input_data/Saved_Output_Files/output_figs_random_forest/random_forest_results'\n",
    "target_genes_entrz = ['MDM4 (4194)','BRAF (673)', 'ERBB2 (2064)', 'PPCDC (60490)', 'TP63 (8626)', 'FDFT1 (2222)','STAMBP (10617)', 'PRKCI (5584)', 'KIF18B (146909)', 'ITGB5 (3693)', 'CTNNB1 (1499)', 'SREBF1 (6720)','ELMO2 (63916)', 'PRKRA (8575)', 'MAPK1 (5594)','MAP2K1 (5604)','TGFBR1 (7046)', 'SQLE (6713)','TYMS (7298)','DPM2 (8818)', 'SLC7A1 (6541)', 'MBTD1 (54799)', 'FPGS (2356)', 'KRAS (3845)','IPPK (64768)', 'HNF1B (6928)','NXT1 (29107)', 'GRHL2 (79977)', 'UXS1 (80146)', 'ITGAV (3685)', 'TEAD1 (7003)', 'STX4 (6810)', 'PARD6B (84612)', 'NAMPT (10135)', 'FADD (8772)', 'FERMT2 (10979)', 'EGFR (1956)', 'SOX9 (6662)','STXBP3 (6814)', 'NCKAP1 (10787)', 'SNAP23 (8773)', 'BRK1 (55845)', 'MARK2 (2011)', 'WWTR1 (25937)', 'CRKL (1399)', 'RAB10 (10890)', 'SLC7A5 (8140)', 'AHCYL1 (10768)', 'SLC2A1 (6513)', 'RFK (55312)', 'ARHGEF7 (8874)', 'SLC3A2 (6520)', 'ITGB1 (3688)', 'RIC1 (57589)', 'TUBB4B (10383)', 'CRK (1398)', 'RAB6A (5870)', 'HDAC7 (51564)','ITGA3 (3675)', 'CDK4 (1019)', 'IDH3A (3419)', 'DHODH (1723)', 'NMNAT1 (64802)', 'ABI1 (10006)', 'CDH1 (999)', 'PIK3CA (5290)', 'PTPN11 (5781)','PRMT5 (10419)']\n",
    "\n",
    "random_forest_results_dir = 'random_forest_results'\n",
    "\n",
    "summary_df = pd.read_csv(os.path.join(data_dir, '1RF_summary.csv'), index_col=0).T\n",
    "summary_df.head()"
   ],
   "metadata": {
    "collapsed": false,
    "ExecuteTime": {
     "end_time": "2024-07-01T17:16:41.726212Z",
     "start_time": "2024-07-01T17:16:41.696190Z"
    }
   },
   "id": "bcbdd0a7294c0621",
   "execution_count": 196
  },
  {
   "cell_type": "code",
   "outputs": [],
   "source": [
    "for gene in target_genes_entrz:\n",
    "    df, corr = Utils.get_feature_importance(gene, data_dir, summary_df)\n",
    "    if corr > 0.3:    \n",
    "        gene = gene.split(' (')[0]\n",
    "        genes_table_df.loc[gene, 'Top Predictive Feature (ACC > 0.3)'] = df.index.tolist()[0]"
   ],
   "metadata": {
    "collapsed": false,
    "ExecuteTime": {
     "end_time": "2024-07-01T17:16:44.075285Z",
     "start_time": "2024-07-01T17:16:41.901779Z"
    }
   },
   "id": "812708c21b7aec4",
   "execution_count": 197
  },
  {
   "cell_type": "markdown",
   "source": [
    "# Co-dependencies"
   ],
   "metadata": {
    "collapsed": false
   },
   "id": "a5e5390733f21610"
  },
  {
   "cell_type": "code",
   "outputs": [
    {
     "data": {
      "text/plain": "(39, 18443)"
     },
     "execution_count": 198,
     "metadata": {},
     "output_type": "execute_result"
    }
   ],
   "source": [
    "gene_effect_df.shape"
   ],
   "metadata": {
    "collapsed": false,
    "ExecuteTime": {
     "end_time": "2024-07-01T17:16:44.110241Z",
     "start_time": "2024-07-01T17:16:44.077629Z"
    }
   },
   "id": "c993c55b453e186a",
   "execution_count": 198
  },
  {
   "cell_type": "code",
   "outputs": [
    {
     "data": {
      "text/plain": "(39, 68)"
     },
     "execution_count": 199,
     "metadata": {},
     "output_type": "execute_result"
    }
   ],
   "source": [
    "gene_effect_df = gene_effect_df.dropna(axis=1)\n",
    "df = gene_effect_df[target_genes].copy()\n",
    "df.shape"
   ],
   "metadata": {
    "collapsed": false,
    "ExecuteTime": {
     "end_time": "2024-07-01T17:16:44.133613Z",
     "start_time": "2024-07-01T17:16:44.111018Z"
    }
   },
   "id": "c729f506abf6a9c4",
   "execution_count": 199
  },
  {
   "cell_type": "code",
   "outputs": [
    {
     "data": {
      "text/plain": "(17787, 68)"
     },
     "execution_count": 200,
     "metadata": {},
     "output_type": "execute_result"
    }
   ],
   "source": [
    "corr_res_df = Utils.pearson_corr(gene_effect_df, df)\n",
    "corr_res_df.shape"
   ],
   "metadata": {
    "collapsed": false,
    "ExecuteTime": {
     "end_time": "2024-07-01T17:17:02.908944Z",
     "start_time": "2024-07-01T17:16:44.134885Z"
    }
   },
   "id": "af93379578f3f7b7",
   "execution_count": 200
  },
  {
   "cell_type": "code",
   "outputs": [
    {
     "data": {
      "text/plain": "Gene      ABI1  ARHGEF7   BRAF   BRK1   CDH1   CDK4    CRK   CRKL  CTNNB1  \\\nGene                                                                        \nA1BG      9273    12401   3982   4132  15786  15896  12401   9277    6222   \nA1CF      3155      747  10110  10822  10464   7720  15029   5914    6161   \nA2M       4319     2539   2266    379   1620   7004  15440  11510   15930   \nA2ML1     9478     3267   7223   2090   5393  15876   3946  13968   15365   \nA3GALT2  12536     3018   2763    963  13438   4841   4694   7326   13335   \n...        ...      ...    ...    ...    ...    ...    ...    ...     ...   \nZYG11A    7286    15469   8280     94  10804   7127    870   7649     624   \nZYG11B   16812     5394  15469   7231   3526  12831  12971  12429    3792   \nZYX       6750     3414   8545  12780  15080   5199   5933  16003   16301   \nZZEF1     9585    10167   8581   9585   3519  16443  15873  13215   15180   \nZZZ3        94      950   1570   1594   2503   2549   3396   3397    3523   \n\nGene     DHODH  ...  AHCYL1   KRAS  NCKAP1  PIK3CA  PRMT5  PTPN11  RAB6A  \\\nGene            ...                                                        \nA1BG     14975  ...    9308   5074    8821    8888  12084    7292  11829   \nA1CF     15501  ...    9372   5922     963    8318  14251    9640   3847   \nA2M      17621  ...    1592   3793   14183   10781  11602    5173  11560   \nA2ML1     4034  ...    7264   4413   13331   10179  10944    6969   8821   \nA3GALT2  14649  ...    8622  12208   12956   11388  17430    7352   9174   \n...        ...  ...     ...    ...     ...     ...    ...     ...    ...   \nZYG11A   15449  ...   16486  11337    1016    3031   1549    5008    924   \nZYG11B    9293  ...   14102   1291    1015    6642   9485    2300  13072   \nZYX       1975  ...   11160   9070    1594    4339  16825   14370   9487   \nZZEF1    16518  ...   11680  12390      94    5917   1650    6151  12746   \nZZZ3      3959  ...     443   7767    9585   11281  11908   12162  12339   \n\nGene      RIC1  SLC3A2  SNAP23  \nGene                            \nA1BG     11829   13637    8590  \nA1CF     12936    3500    2867  \nA2M        995   16913    2173  \nA2ML1    13164   11436    7722  \nA3GALT2  15917   16497    2842  \n...        ...     ...     ...  \nZYG11A    7345   13788    4406  \nZYG11B   14937     663   14812  \nZYX      12680    5009    6702  \nZZEF1    12339   14101    3984  \nZZZ3     12746   14018   14263  \n\n[17787 rows x 68 columns]",
      "text/html": "<div>\n<style scoped>\n    .dataframe tbody tr th:only-of-type {\n        vertical-align: middle;\n    }\n\n    .dataframe tbody tr th {\n        vertical-align: top;\n    }\n\n    .dataframe thead th {\n        text-align: right;\n    }\n</style>\n<table border=\"1\" class=\"dataframe\">\n  <thead>\n    <tr style=\"text-align: right;\">\n      <th>Gene</th>\n      <th>ABI1</th>\n      <th>ARHGEF7</th>\n      <th>BRAF</th>\n      <th>BRK1</th>\n      <th>CDH1</th>\n      <th>CDK4</th>\n      <th>CRK</th>\n      <th>CRKL</th>\n      <th>CTNNB1</th>\n      <th>DHODH</th>\n      <th>...</th>\n      <th>AHCYL1</th>\n      <th>KRAS</th>\n      <th>NCKAP1</th>\n      <th>PIK3CA</th>\n      <th>PRMT5</th>\n      <th>PTPN11</th>\n      <th>RAB6A</th>\n      <th>RIC1</th>\n      <th>SLC3A2</th>\n      <th>SNAP23</th>\n    </tr>\n    <tr>\n      <th>Gene</th>\n      <th></th>\n      <th></th>\n      <th></th>\n      <th></th>\n      <th></th>\n      <th></th>\n      <th></th>\n      <th></th>\n      <th></th>\n      <th></th>\n      <th></th>\n      <th></th>\n      <th></th>\n      <th></th>\n      <th></th>\n      <th></th>\n      <th></th>\n      <th></th>\n      <th></th>\n      <th></th>\n      <th></th>\n    </tr>\n  </thead>\n  <tbody>\n    <tr>\n      <th>A1BG</th>\n      <td>9273</td>\n      <td>12401</td>\n      <td>3982</td>\n      <td>4132</td>\n      <td>15786</td>\n      <td>15896</td>\n      <td>12401</td>\n      <td>9277</td>\n      <td>6222</td>\n      <td>14975</td>\n      <td>...</td>\n      <td>9308</td>\n      <td>5074</td>\n      <td>8821</td>\n      <td>8888</td>\n      <td>12084</td>\n      <td>7292</td>\n      <td>11829</td>\n      <td>11829</td>\n      <td>13637</td>\n      <td>8590</td>\n    </tr>\n    <tr>\n      <th>A1CF</th>\n      <td>3155</td>\n      <td>747</td>\n      <td>10110</td>\n      <td>10822</td>\n      <td>10464</td>\n      <td>7720</td>\n      <td>15029</td>\n      <td>5914</td>\n      <td>6161</td>\n      <td>15501</td>\n      <td>...</td>\n      <td>9372</td>\n      <td>5922</td>\n      <td>963</td>\n      <td>8318</td>\n      <td>14251</td>\n      <td>9640</td>\n      <td>3847</td>\n      <td>12936</td>\n      <td>3500</td>\n      <td>2867</td>\n    </tr>\n    <tr>\n      <th>A2M</th>\n      <td>4319</td>\n      <td>2539</td>\n      <td>2266</td>\n      <td>379</td>\n      <td>1620</td>\n      <td>7004</td>\n      <td>15440</td>\n      <td>11510</td>\n      <td>15930</td>\n      <td>17621</td>\n      <td>...</td>\n      <td>1592</td>\n      <td>3793</td>\n      <td>14183</td>\n      <td>10781</td>\n      <td>11602</td>\n      <td>5173</td>\n      <td>11560</td>\n      <td>995</td>\n      <td>16913</td>\n      <td>2173</td>\n    </tr>\n    <tr>\n      <th>A2ML1</th>\n      <td>9478</td>\n      <td>3267</td>\n      <td>7223</td>\n      <td>2090</td>\n      <td>5393</td>\n      <td>15876</td>\n      <td>3946</td>\n      <td>13968</td>\n      <td>15365</td>\n      <td>4034</td>\n      <td>...</td>\n      <td>7264</td>\n      <td>4413</td>\n      <td>13331</td>\n      <td>10179</td>\n      <td>10944</td>\n      <td>6969</td>\n      <td>8821</td>\n      <td>13164</td>\n      <td>11436</td>\n      <td>7722</td>\n    </tr>\n    <tr>\n      <th>A3GALT2</th>\n      <td>12536</td>\n      <td>3018</td>\n      <td>2763</td>\n      <td>963</td>\n      <td>13438</td>\n      <td>4841</td>\n      <td>4694</td>\n      <td>7326</td>\n      <td>13335</td>\n      <td>14649</td>\n      <td>...</td>\n      <td>8622</td>\n      <td>12208</td>\n      <td>12956</td>\n      <td>11388</td>\n      <td>17430</td>\n      <td>7352</td>\n      <td>9174</td>\n      <td>15917</td>\n      <td>16497</td>\n      <td>2842</td>\n    </tr>\n    <tr>\n      <th>...</th>\n      <td>...</td>\n      <td>...</td>\n      <td>...</td>\n      <td>...</td>\n      <td>...</td>\n      <td>...</td>\n      <td>...</td>\n      <td>...</td>\n      <td>...</td>\n      <td>...</td>\n      <td>...</td>\n      <td>...</td>\n      <td>...</td>\n      <td>...</td>\n      <td>...</td>\n      <td>...</td>\n      <td>...</td>\n      <td>...</td>\n      <td>...</td>\n      <td>...</td>\n      <td>...</td>\n    </tr>\n    <tr>\n      <th>ZYG11A</th>\n      <td>7286</td>\n      <td>15469</td>\n      <td>8280</td>\n      <td>94</td>\n      <td>10804</td>\n      <td>7127</td>\n      <td>870</td>\n      <td>7649</td>\n      <td>624</td>\n      <td>15449</td>\n      <td>...</td>\n      <td>16486</td>\n      <td>11337</td>\n      <td>1016</td>\n      <td>3031</td>\n      <td>1549</td>\n      <td>5008</td>\n      <td>924</td>\n      <td>7345</td>\n      <td>13788</td>\n      <td>4406</td>\n    </tr>\n    <tr>\n      <th>ZYG11B</th>\n      <td>16812</td>\n      <td>5394</td>\n      <td>15469</td>\n      <td>7231</td>\n      <td>3526</td>\n      <td>12831</td>\n      <td>12971</td>\n      <td>12429</td>\n      <td>3792</td>\n      <td>9293</td>\n      <td>...</td>\n      <td>14102</td>\n      <td>1291</td>\n      <td>1015</td>\n      <td>6642</td>\n      <td>9485</td>\n      <td>2300</td>\n      <td>13072</td>\n      <td>14937</td>\n      <td>663</td>\n      <td>14812</td>\n    </tr>\n    <tr>\n      <th>ZYX</th>\n      <td>6750</td>\n      <td>3414</td>\n      <td>8545</td>\n      <td>12780</td>\n      <td>15080</td>\n      <td>5199</td>\n      <td>5933</td>\n      <td>16003</td>\n      <td>16301</td>\n      <td>1975</td>\n      <td>...</td>\n      <td>11160</td>\n      <td>9070</td>\n      <td>1594</td>\n      <td>4339</td>\n      <td>16825</td>\n      <td>14370</td>\n      <td>9487</td>\n      <td>12680</td>\n      <td>5009</td>\n      <td>6702</td>\n    </tr>\n    <tr>\n      <th>ZZEF1</th>\n      <td>9585</td>\n      <td>10167</td>\n      <td>8581</td>\n      <td>9585</td>\n      <td>3519</td>\n      <td>16443</td>\n      <td>15873</td>\n      <td>13215</td>\n      <td>15180</td>\n      <td>16518</td>\n      <td>...</td>\n      <td>11680</td>\n      <td>12390</td>\n      <td>94</td>\n      <td>5917</td>\n      <td>1650</td>\n      <td>6151</td>\n      <td>12746</td>\n      <td>12339</td>\n      <td>14101</td>\n      <td>3984</td>\n    </tr>\n    <tr>\n      <th>ZZZ3</th>\n      <td>94</td>\n      <td>950</td>\n      <td>1570</td>\n      <td>1594</td>\n      <td>2503</td>\n      <td>2549</td>\n      <td>3396</td>\n      <td>3397</td>\n      <td>3523</td>\n      <td>3959</td>\n      <td>...</td>\n      <td>443</td>\n      <td>7767</td>\n      <td>9585</td>\n      <td>11281</td>\n      <td>11908</td>\n      <td>12162</td>\n      <td>12339</td>\n      <td>12746</td>\n      <td>14018</td>\n      <td>14263</td>\n    </tr>\n  </tbody>\n</table>\n<p>17787 rows × 68 columns</p>\n</div>"
     },
     "execution_count": 201,
     "metadata": {},
     "output_type": "execute_result"
    }
   ],
   "source": [
    "sorted_indices_df = np.argsort(corr_res_df, axis=0)\n",
    "sorted_indices_df"
   ],
   "metadata": {
    "collapsed": false,
    "ExecuteTime": {
     "end_time": "2024-07-01T17:17:03.141772Z",
     "start_time": "2024-07-01T17:17:02.915042Z"
    }
   },
   "id": "7205639af20e745b",
   "execution_count": 201
  },
  {
   "cell_type": "code",
   "outputs": [
    {
     "data": {
      "text/plain": "Gene      ABI1  ARHGEF7    BRAF     BRK1     CDH1     CDK4      CRK      CRKL  \\\n0         ABI1  ARHGEF7    BRAF     BRK1     CDH1     CDK4      CRK      CRKL   \n1       NCKAP1    NUP62   MAPK1   NCKAP1   CTNNA1   UBQLN4     TNS3    SAMD4B   \n2        HSBP1     CRY1  MAP2K1    RIPK4  TAX1BP3    FCHO1     GNB2   TRAPPC4   \n3        WASF2    FOSL1    TLN1     IRF6   CTNND1  RNF113A    RPL24   RAPGEF1   \n4        ITGB1     TLN1  LRRC32     ABI1   PARD6B    INHBE    ARCN1      KLC2   \n...        ...      ...     ...      ...      ...      ...      ...       ...   \n17782     RBM7     CLK3    CFL2    ARIH2   SEMA3G     EXD2    EPHA2  IVNS1ABP   \n17783  N4BP2L1    COX10    IRF1    CASP2     FOSB     TOB1     DGKH   SLC35C2   \n17784    DUSP8    CDK15  CCDC86     ADSL   BTBD17    IKZF2    TIPRL    PMEPA1   \n17785    COASY    ANXA6   NUAK1    PARP9   OR51B5    KLK15    TAOK1      GMPS   \n17786   MTARC2  RALGAPB   DHX36  DNAJC24   TMSB10     TOP1  RALGAPB     MTCL1   \n\nGene    CTNNB1   DHODH  ...  AHCYL1       KRAS   NCKAP1    PIK3CA   PRMT5  \\\n0       CTNNB1   DHODH  ...  AHCYL1       KRAS   NCKAP1    PIK3CA   PRMT5   \n1       TCF7L2    UMPS  ...    PPAT       RAF1     ABI1     GNA13    BUB3   \n2       TUBB4B     CAD  ...    PGM3  MPHOSPH10     BRK1  DYNC2LI1    WBP4   \n3        DCTN2  MTHFD1  ...  SLC7A6        AXL    ARPC2   HNRNPDL   NAA16   \n4      ANAPC15     TKT  ...    UGP2     PKD2L1    ARPC3      CLPP    BOP1   \n...        ...     ...  ...     ...        ...      ...       ...     ...   \n17782   SCPEP1    SSR2  ...   MARK2       PUM1     RPIA    PLAGL1   ZNF43   \n17783    THBS3    DLG5  ...  ISYNA1      EDIL3     SCO2    NUTM2A    PCK2   \n17784    TPBGL  ZNF701  ...   BRIP1      DCTN3  SMARCB1     PANK3  POLR2E   \n17785    GRIA1  TM9SF4  ...     MYB      GNAI3    ARIH2   LRRC75B    SMU1   \n17786    GSPT1   TACC3  ...   MTMR2      FAM9C  METTL17      MGLL   PSMD8   \n\nGene    PTPN11    RAB6A      RIC1   SLC3A2   SNAP23  \n0       PTPN11    RAB6A      RIC1   SLC3A2   SNAP23  \n1         GRB2     RIC1     RAB6A   SLC7A5    DHX38  \n2         SOS1    NAA25      RGP1   FAM20C    HOXD3  \n3        CCL24    RRP12      SYS1   ANKRD1     STX4  \n4       FAM20B  ARHGDIB      JAM2  SLC15A4     EDC4  \n...        ...      ...       ...      ...      ...  \n17782     JDP2   MRPL58  TP53AIP1  UGT2B11   CHRAC1  \n17783   IGFBP5  METTL17      RXRG  PLEKHG4     KLK3  \n17784    FBXO5    PODXL     ARMC6      WIZ  CCDC121  \n17785  NDUFAB1    DDX46       RP2   CTAGE1    CHRNG  \n17786    ITGB4   PRDM14    PRDM14   SH3TC1    MAPK4  \n\n[17787 rows x 68 columns]",
      "text/html": "<div>\n<style scoped>\n    .dataframe tbody tr th:only-of-type {\n        vertical-align: middle;\n    }\n\n    .dataframe tbody tr th {\n        vertical-align: top;\n    }\n\n    .dataframe thead th {\n        text-align: right;\n    }\n</style>\n<table border=\"1\" class=\"dataframe\">\n  <thead>\n    <tr style=\"text-align: right;\">\n      <th>Gene</th>\n      <th>ABI1</th>\n      <th>ARHGEF7</th>\n      <th>BRAF</th>\n      <th>BRK1</th>\n      <th>CDH1</th>\n      <th>CDK4</th>\n      <th>CRK</th>\n      <th>CRKL</th>\n      <th>CTNNB1</th>\n      <th>DHODH</th>\n      <th>...</th>\n      <th>AHCYL1</th>\n      <th>KRAS</th>\n      <th>NCKAP1</th>\n      <th>PIK3CA</th>\n      <th>PRMT5</th>\n      <th>PTPN11</th>\n      <th>RAB6A</th>\n      <th>RIC1</th>\n      <th>SLC3A2</th>\n      <th>SNAP23</th>\n    </tr>\n  </thead>\n  <tbody>\n    <tr>\n      <th>0</th>\n      <td>ABI1</td>\n      <td>ARHGEF7</td>\n      <td>BRAF</td>\n      <td>BRK1</td>\n      <td>CDH1</td>\n      <td>CDK4</td>\n      <td>CRK</td>\n      <td>CRKL</td>\n      <td>CTNNB1</td>\n      <td>DHODH</td>\n      <td>...</td>\n      <td>AHCYL1</td>\n      <td>KRAS</td>\n      <td>NCKAP1</td>\n      <td>PIK3CA</td>\n      <td>PRMT5</td>\n      <td>PTPN11</td>\n      <td>RAB6A</td>\n      <td>RIC1</td>\n      <td>SLC3A2</td>\n      <td>SNAP23</td>\n    </tr>\n    <tr>\n      <th>1</th>\n      <td>NCKAP1</td>\n      <td>NUP62</td>\n      <td>MAPK1</td>\n      <td>NCKAP1</td>\n      <td>CTNNA1</td>\n      <td>UBQLN4</td>\n      <td>TNS3</td>\n      <td>SAMD4B</td>\n      <td>TCF7L2</td>\n      <td>UMPS</td>\n      <td>...</td>\n      <td>PPAT</td>\n      <td>RAF1</td>\n      <td>ABI1</td>\n      <td>GNA13</td>\n      <td>BUB3</td>\n      <td>GRB2</td>\n      <td>RIC1</td>\n      <td>RAB6A</td>\n      <td>SLC7A5</td>\n      <td>DHX38</td>\n    </tr>\n    <tr>\n      <th>2</th>\n      <td>HSBP1</td>\n      <td>CRY1</td>\n      <td>MAP2K1</td>\n      <td>RIPK4</td>\n      <td>TAX1BP3</td>\n      <td>FCHO1</td>\n      <td>GNB2</td>\n      <td>TRAPPC4</td>\n      <td>TUBB4B</td>\n      <td>CAD</td>\n      <td>...</td>\n      <td>PGM3</td>\n      <td>MPHOSPH10</td>\n      <td>BRK1</td>\n      <td>DYNC2LI1</td>\n      <td>WBP4</td>\n      <td>SOS1</td>\n      <td>NAA25</td>\n      <td>RGP1</td>\n      <td>FAM20C</td>\n      <td>HOXD3</td>\n    </tr>\n    <tr>\n      <th>3</th>\n      <td>WASF2</td>\n      <td>FOSL1</td>\n      <td>TLN1</td>\n      <td>IRF6</td>\n      <td>CTNND1</td>\n      <td>RNF113A</td>\n      <td>RPL24</td>\n      <td>RAPGEF1</td>\n      <td>DCTN2</td>\n      <td>MTHFD1</td>\n      <td>...</td>\n      <td>SLC7A6</td>\n      <td>AXL</td>\n      <td>ARPC2</td>\n      <td>HNRNPDL</td>\n      <td>NAA16</td>\n      <td>CCL24</td>\n      <td>RRP12</td>\n      <td>SYS1</td>\n      <td>ANKRD1</td>\n      <td>STX4</td>\n    </tr>\n    <tr>\n      <th>4</th>\n      <td>ITGB1</td>\n      <td>TLN1</td>\n      <td>LRRC32</td>\n      <td>ABI1</td>\n      <td>PARD6B</td>\n      <td>INHBE</td>\n      <td>ARCN1</td>\n      <td>KLC2</td>\n      <td>ANAPC15</td>\n      <td>TKT</td>\n      <td>...</td>\n      <td>UGP2</td>\n      <td>PKD2L1</td>\n      <td>ARPC3</td>\n      <td>CLPP</td>\n      <td>BOP1</td>\n      <td>FAM20B</td>\n      <td>ARHGDIB</td>\n      <td>JAM2</td>\n      <td>SLC15A4</td>\n      <td>EDC4</td>\n    </tr>\n    <tr>\n      <th>...</th>\n      <td>...</td>\n      <td>...</td>\n      <td>...</td>\n      <td>...</td>\n      <td>...</td>\n      <td>...</td>\n      <td>...</td>\n      <td>...</td>\n      <td>...</td>\n      <td>...</td>\n      <td>...</td>\n      <td>...</td>\n      <td>...</td>\n      <td>...</td>\n      <td>...</td>\n      <td>...</td>\n      <td>...</td>\n      <td>...</td>\n      <td>...</td>\n      <td>...</td>\n      <td>...</td>\n    </tr>\n    <tr>\n      <th>17782</th>\n      <td>RBM7</td>\n      <td>CLK3</td>\n      <td>CFL2</td>\n      <td>ARIH2</td>\n      <td>SEMA3G</td>\n      <td>EXD2</td>\n      <td>EPHA2</td>\n      <td>IVNS1ABP</td>\n      <td>SCPEP1</td>\n      <td>SSR2</td>\n      <td>...</td>\n      <td>MARK2</td>\n      <td>PUM1</td>\n      <td>RPIA</td>\n      <td>PLAGL1</td>\n      <td>ZNF43</td>\n      <td>JDP2</td>\n      <td>MRPL58</td>\n      <td>TP53AIP1</td>\n      <td>UGT2B11</td>\n      <td>CHRAC1</td>\n    </tr>\n    <tr>\n      <th>17783</th>\n      <td>N4BP2L1</td>\n      <td>COX10</td>\n      <td>IRF1</td>\n      <td>CASP2</td>\n      <td>FOSB</td>\n      <td>TOB1</td>\n      <td>DGKH</td>\n      <td>SLC35C2</td>\n      <td>THBS3</td>\n      <td>DLG5</td>\n      <td>...</td>\n      <td>ISYNA1</td>\n      <td>EDIL3</td>\n      <td>SCO2</td>\n      <td>NUTM2A</td>\n      <td>PCK2</td>\n      <td>IGFBP5</td>\n      <td>METTL17</td>\n      <td>RXRG</td>\n      <td>PLEKHG4</td>\n      <td>KLK3</td>\n    </tr>\n    <tr>\n      <th>17784</th>\n      <td>DUSP8</td>\n      <td>CDK15</td>\n      <td>CCDC86</td>\n      <td>ADSL</td>\n      <td>BTBD17</td>\n      <td>IKZF2</td>\n      <td>TIPRL</td>\n      <td>PMEPA1</td>\n      <td>TPBGL</td>\n      <td>ZNF701</td>\n      <td>...</td>\n      <td>BRIP1</td>\n      <td>DCTN3</td>\n      <td>SMARCB1</td>\n      <td>PANK3</td>\n      <td>POLR2E</td>\n      <td>FBXO5</td>\n      <td>PODXL</td>\n      <td>ARMC6</td>\n      <td>WIZ</td>\n      <td>CCDC121</td>\n    </tr>\n    <tr>\n      <th>17785</th>\n      <td>COASY</td>\n      <td>ANXA6</td>\n      <td>NUAK1</td>\n      <td>PARP9</td>\n      <td>OR51B5</td>\n      <td>KLK15</td>\n      <td>TAOK1</td>\n      <td>GMPS</td>\n      <td>GRIA1</td>\n      <td>TM9SF4</td>\n      <td>...</td>\n      <td>MYB</td>\n      <td>GNAI3</td>\n      <td>ARIH2</td>\n      <td>LRRC75B</td>\n      <td>SMU1</td>\n      <td>NDUFAB1</td>\n      <td>DDX46</td>\n      <td>RP2</td>\n      <td>CTAGE1</td>\n      <td>CHRNG</td>\n    </tr>\n    <tr>\n      <th>17786</th>\n      <td>MTARC2</td>\n      <td>RALGAPB</td>\n      <td>DHX36</td>\n      <td>DNAJC24</td>\n      <td>TMSB10</td>\n      <td>TOP1</td>\n      <td>RALGAPB</td>\n      <td>MTCL1</td>\n      <td>GSPT1</td>\n      <td>TACC3</td>\n      <td>...</td>\n      <td>MTMR2</td>\n      <td>FAM9C</td>\n      <td>METTL17</td>\n      <td>MGLL</td>\n      <td>PSMD8</td>\n      <td>ITGB4</td>\n      <td>PRDM14</td>\n      <td>PRDM14</td>\n      <td>SH3TC1</td>\n      <td>MAPK4</td>\n    </tr>\n  </tbody>\n</table>\n<p>17787 rows × 68 columns</p>\n</div>"
     },
     "execution_count": 202,
     "metadata": {},
     "output_type": "execute_result"
    }
   ],
   "source": [
    "sorted_codependencies_df = pd.DataFrame(corr_res_df.index.to_numpy()[sorted_indices_df], columns=corr_res_df.columns)\n",
    "sorted_codependencies_df = sorted_codependencies_df.iloc[::-1]\n",
    "sorted_codependencies_df.reset_index(inplace=True, drop=True)\n",
    "sorted_codependencies_df"
   ],
   "metadata": {
    "collapsed": false,
    "ExecuteTime": {
     "end_time": "2024-07-01T17:17:03.178876Z",
     "start_time": "2024-07-01T17:17:03.143068Z"
    }
   },
   "id": "a4cb1aa38faf92a6",
   "execution_count": 202
  },
  {
   "cell_type": "code",
   "outputs": [],
   "source": [
    "for gene in target_genes:\n",
    "    genes_table_df.loc[gene, 'Top co-dependency'] = sorted_codependencies_df.loc[1, gene]"
   ],
   "metadata": {
    "collapsed": false,
    "ExecuteTime": {
     "end_time": "2024-07-01T17:17:03.198628Z",
     "start_time": "2024-07-01T17:17:03.180125Z"
    }
   },
   "id": "6c876f754103e870",
   "execution_count": 203
  },
  {
   "cell_type": "markdown",
   "source": [
    "# Save the table"
   ],
   "metadata": {
    "collapsed": false
   },
   "id": "1442916ebbf08273"
  },
  {
   "cell_type": "code",
   "outputs": [
    {
     "data": {
      "text/plain": "        BTC common essential  Dependent Cell Lines  Dependent Cell Lines (%)  \\\nABI1                     NaN                   8.0                      21.0   \nARHGEF7                  Yes                  24.0                      62.0   \nBRAF                     NaN                   4.0                      10.0   \nBRK1                     NaN                  13.0                      33.0   \nCDH1                     NaN                   8.0                      21.0   \n...                      ...                   ...                       ...   \nPTPN11                   Yes                  20.0                      51.0   \nRAB6A                    Yes                  14.0                      36.0   \nRIC1                     Yes                  16.0                      41.0   \nSLC3A2                   Yes                   4.0                      10.0   \nSNAP23                   Yes                  19.0                      49.0   \n\n         Dependent Cell Lines Median Gene Effect    NormLRT  \\\nABI1                                   -0.587920  22.288772   \nARHGEF7                                -0.776864   2.910097   \nBRAF                                   -1.000673  49.846968   \nBRK1                                   -0.798767   7.568821   \nCDH1                                   -0.773961  11.860180   \n...                                          ...        ...   \nPTPN11                                 -1.231128        NaN   \nRAB6A                                  -1.170115   0.000068   \nRIC1                                   -1.373046   0.001691   \nSLC3A2                                 -1.149046   2.776041   \nSNAP23                                 -1.395622   7.756466   \n\n         High 3p13 ssGSEA[n=17] (%)  Low 3p13 ssGSEA[n=20] (%)  \\\nABI1                            NaN                        NaN   \nARHGEF7                         NaN                        NaN   \nBRAF                            NaN                        NaN   \nBRK1                            NaN                        NaN   \nCDH1                            NaN                        NaN   \n...                             ...                        ...   \nPTPN11                         29.0                       70.0   \nRAB6A                           NaN                        NaN   \nRIC1                            NaN                        NaN   \nSLC3A2                          NaN                        NaN   \nSNAP23                          NaN                        NaN   \n\n         ARID1A MT[n=5] (%)  BAP1 MT[n=2] (%)  BRAF MT[n=2] (%)  ...  \\\nABI1                    NaN               NaN             100.0  ...   \nARHGEF7                 NaN               NaN             100.0  ...   \nBRAF                    NaN               NaN             100.0  ...   \nBRK1                    NaN               NaN             100.0  ...   \nCDH1                    NaN               NaN             100.0  ...   \n...                     ...               ...               ...  ...   \nPTPN11                 60.0               NaN               NaN  ...   \nRAB6A                   NaN               NaN               NaN  ...   \nRIC1                    NaN             100.0               NaN  ...   \nSLC3A2                  NaN               NaN               NaN  ...   \nSNAP23                  NaN               NaN               NaN  ...   \n\n         P4[n=5] (%)  P5[n=13] (%)  C1[n=6] (%)  C2[n=2] (%)  C3[n=8] (%)  \\\nABI1             NaN           NaN          NaN          NaN          NaN   \nARHGEF7        100.0          69.0          NaN          NaN         50.0   \nBRAF             NaN           NaN          NaN          NaN          NaN   \nBRK1             NaN           NaN         50.0          NaN          NaN   \nCDH1             NaN           NaN          NaN          NaN          NaN   \n...              ...           ...          ...          ...          ...   \nPTPN11          80.0           NaN         50.0          NaN         50.0   \nRAB6A           60.0           NaN          NaN          NaN          NaN   \nRIC1            60.0           NaN          NaN          NaN          NaN   \nSLC3A2           NaN           NaN          NaN          NaN          NaN   \nSNAP23           NaN          69.0          NaN          NaN          NaN   \n\n         C4[n=11] (%)  C5[n=7] (%)  C6[n=5] (%)  \\\nABI1              NaN         86.0          NaN   \nARHGEF7          73.0         86.0         60.0   \nBRAF              NaN          NaN          NaN   \nBRK1              NaN         71.0          NaN   \nCDH1              NaN         71.0          NaN   \n...               ...          ...          ...   \nPTPN11           82.0          NaN         60.0   \nRAB6A             NaN         71.0         80.0   \nRIC1             55.0          NaN        100.0   \nSLC3A2            NaN          NaN          NaN   \nSNAP23            NaN         71.0         80.0   \n\n         Top Predictive Feature (ACC > 0.3)  Top co-dependency  \nABI1                             PTK6 (RNA)             NCKAP1  \nARHGEF7                        PLCXD2 (RNA)              NUP62  \nBRAF                          BRAF (MutHot)              MAPK1  \nBRK1                                    NaN             NCKAP1  \nCDH1                         C1orf116 (RNA)             CTNNA1  \n...                                     ...                ...  \nPTPN11                        KRAS (MutHot)               GRB2  \nRAB6A                         FAM124A (RNA)               RIC1  \nRIC1                                    NaN              RAB6A  \nSLC3A2                                  NaN             SLC7A5  \nSNAP23                         SNAP25 (RNA)              DHX38  \n\n[68 rows x 40 columns]",
      "text/html": "<div>\n<style scoped>\n    .dataframe tbody tr th:only-of-type {\n        vertical-align: middle;\n    }\n\n    .dataframe tbody tr th {\n        vertical-align: top;\n    }\n\n    .dataframe thead th {\n        text-align: right;\n    }\n</style>\n<table border=\"1\" class=\"dataframe\">\n  <thead>\n    <tr style=\"text-align: right;\">\n      <th></th>\n      <th>BTC common essential</th>\n      <th>Dependent Cell Lines</th>\n      <th>Dependent Cell Lines (%)</th>\n      <th>Dependent Cell Lines Median Gene Effect</th>\n      <th>NormLRT</th>\n      <th>High 3p13 ssGSEA[n=17] (%)</th>\n      <th>Low 3p13 ssGSEA[n=20] (%)</th>\n      <th>ARID1A MT[n=5] (%)</th>\n      <th>BAP1 MT[n=2] (%)</th>\n      <th>BRAF MT[n=2] (%)</th>\n      <th>...</th>\n      <th>P4[n=5] (%)</th>\n      <th>P5[n=13] (%)</th>\n      <th>C1[n=6] (%)</th>\n      <th>C2[n=2] (%)</th>\n      <th>C3[n=8] (%)</th>\n      <th>C4[n=11] (%)</th>\n      <th>C5[n=7] (%)</th>\n      <th>C6[n=5] (%)</th>\n      <th>Top Predictive Feature (ACC &gt; 0.3)</th>\n      <th>Top co-dependency</th>\n    </tr>\n  </thead>\n  <tbody>\n    <tr>\n      <th>ABI1</th>\n      <td>NaN</td>\n      <td>8.0</td>\n      <td>21.0</td>\n      <td>-0.587920</td>\n      <td>22.288772</td>\n      <td>NaN</td>\n      <td>NaN</td>\n      <td>NaN</td>\n      <td>NaN</td>\n      <td>100.0</td>\n      <td>...</td>\n      <td>NaN</td>\n      <td>NaN</td>\n      <td>NaN</td>\n      <td>NaN</td>\n      <td>NaN</td>\n      <td>NaN</td>\n      <td>86.0</td>\n      <td>NaN</td>\n      <td>PTK6 (RNA)</td>\n      <td>NCKAP1</td>\n    </tr>\n    <tr>\n      <th>ARHGEF7</th>\n      <td>Yes</td>\n      <td>24.0</td>\n      <td>62.0</td>\n      <td>-0.776864</td>\n      <td>2.910097</td>\n      <td>NaN</td>\n      <td>NaN</td>\n      <td>NaN</td>\n      <td>NaN</td>\n      <td>100.0</td>\n      <td>...</td>\n      <td>100.0</td>\n      <td>69.0</td>\n      <td>NaN</td>\n      <td>NaN</td>\n      <td>50.0</td>\n      <td>73.0</td>\n      <td>86.0</td>\n      <td>60.0</td>\n      <td>PLCXD2 (RNA)</td>\n      <td>NUP62</td>\n    </tr>\n    <tr>\n      <th>BRAF</th>\n      <td>NaN</td>\n      <td>4.0</td>\n      <td>10.0</td>\n      <td>-1.000673</td>\n      <td>49.846968</td>\n      <td>NaN</td>\n      <td>NaN</td>\n      <td>NaN</td>\n      <td>NaN</td>\n      <td>100.0</td>\n      <td>...</td>\n      <td>NaN</td>\n      <td>NaN</td>\n      <td>NaN</td>\n      <td>NaN</td>\n      <td>NaN</td>\n      <td>NaN</td>\n      <td>NaN</td>\n      <td>NaN</td>\n      <td>BRAF (MutHot)</td>\n      <td>MAPK1</td>\n    </tr>\n    <tr>\n      <th>BRK1</th>\n      <td>NaN</td>\n      <td>13.0</td>\n      <td>33.0</td>\n      <td>-0.798767</td>\n      <td>7.568821</td>\n      <td>NaN</td>\n      <td>NaN</td>\n      <td>NaN</td>\n      <td>NaN</td>\n      <td>100.0</td>\n      <td>...</td>\n      <td>NaN</td>\n      <td>NaN</td>\n      <td>50.0</td>\n      <td>NaN</td>\n      <td>NaN</td>\n      <td>NaN</td>\n      <td>71.0</td>\n      <td>NaN</td>\n      <td>NaN</td>\n      <td>NCKAP1</td>\n    </tr>\n    <tr>\n      <th>CDH1</th>\n      <td>NaN</td>\n      <td>8.0</td>\n      <td>21.0</td>\n      <td>-0.773961</td>\n      <td>11.860180</td>\n      <td>NaN</td>\n      <td>NaN</td>\n      <td>NaN</td>\n      <td>NaN</td>\n      <td>100.0</td>\n      <td>...</td>\n      <td>NaN</td>\n      <td>NaN</td>\n      <td>NaN</td>\n      <td>NaN</td>\n      <td>NaN</td>\n      <td>NaN</td>\n      <td>71.0</td>\n      <td>NaN</td>\n      <td>C1orf116 (RNA)</td>\n      <td>CTNNA1</td>\n    </tr>\n    <tr>\n      <th>...</th>\n      <td>...</td>\n      <td>...</td>\n      <td>...</td>\n      <td>...</td>\n      <td>...</td>\n      <td>...</td>\n      <td>...</td>\n      <td>...</td>\n      <td>...</td>\n      <td>...</td>\n      <td>...</td>\n      <td>...</td>\n      <td>...</td>\n      <td>...</td>\n      <td>...</td>\n      <td>...</td>\n      <td>...</td>\n      <td>...</td>\n      <td>...</td>\n      <td>...</td>\n      <td>...</td>\n    </tr>\n    <tr>\n      <th>PTPN11</th>\n      <td>Yes</td>\n      <td>20.0</td>\n      <td>51.0</td>\n      <td>-1.231128</td>\n      <td>NaN</td>\n      <td>29.0</td>\n      <td>70.0</td>\n      <td>60.0</td>\n      <td>NaN</td>\n      <td>NaN</td>\n      <td>...</td>\n      <td>80.0</td>\n      <td>NaN</td>\n      <td>50.0</td>\n      <td>NaN</td>\n      <td>50.0</td>\n      <td>82.0</td>\n      <td>NaN</td>\n      <td>60.0</td>\n      <td>KRAS (MutHot)</td>\n      <td>GRB2</td>\n    </tr>\n    <tr>\n      <th>RAB6A</th>\n      <td>Yes</td>\n      <td>14.0</td>\n      <td>36.0</td>\n      <td>-1.170115</td>\n      <td>0.000068</td>\n      <td>NaN</td>\n      <td>NaN</td>\n      <td>NaN</td>\n      <td>NaN</td>\n      <td>NaN</td>\n      <td>...</td>\n      <td>60.0</td>\n      <td>NaN</td>\n      <td>NaN</td>\n      <td>NaN</td>\n      <td>NaN</td>\n      <td>NaN</td>\n      <td>71.0</td>\n      <td>80.0</td>\n      <td>FAM124A (RNA)</td>\n      <td>RIC1</td>\n    </tr>\n    <tr>\n      <th>RIC1</th>\n      <td>Yes</td>\n      <td>16.0</td>\n      <td>41.0</td>\n      <td>-1.373046</td>\n      <td>0.001691</td>\n      <td>NaN</td>\n      <td>NaN</td>\n      <td>NaN</td>\n      <td>100.0</td>\n      <td>NaN</td>\n      <td>...</td>\n      <td>60.0</td>\n      <td>NaN</td>\n      <td>NaN</td>\n      <td>NaN</td>\n      <td>NaN</td>\n      <td>55.0</td>\n      <td>NaN</td>\n      <td>100.0</td>\n      <td>NaN</td>\n      <td>RAB6A</td>\n    </tr>\n    <tr>\n      <th>SLC3A2</th>\n      <td>Yes</td>\n      <td>4.0</td>\n      <td>10.0</td>\n      <td>-1.149046</td>\n      <td>2.776041</td>\n      <td>NaN</td>\n      <td>NaN</td>\n      <td>NaN</td>\n      <td>NaN</td>\n      <td>NaN</td>\n      <td>...</td>\n      <td>NaN</td>\n      <td>NaN</td>\n      <td>NaN</td>\n      <td>NaN</td>\n      <td>NaN</td>\n      <td>NaN</td>\n      <td>NaN</td>\n      <td>NaN</td>\n      <td>NaN</td>\n      <td>SLC7A5</td>\n    </tr>\n    <tr>\n      <th>SNAP23</th>\n      <td>Yes</td>\n      <td>19.0</td>\n      <td>49.0</td>\n      <td>-1.395622</td>\n      <td>7.756466</td>\n      <td>NaN</td>\n      <td>NaN</td>\n      <td>NaN</td>\n      <td>NaN</td>\n      <td>NaN</td>\n      <td>...</td>\n      <td>NaN</td>\n      <td>69.0</td>\n      <td>NaN</td>\n      <td>NaN</td>\n      <td>NaN</td>\n      <td>NaN</td>\n      <td>71.0</td>\n      <td>80.0</td>\n      <td>SNAP25 (RNA)</td>\n      <td>DHX38</td>\n    </tr>\n  </tbody>\n</table>\n<p>68 rows × 40 columns</p>\n</div>"
     },
     "execution_count": 204,
     "metadata": {},
     "output_type": "execute_result"
    }
   ],
   "source": [
    "genes_table_df"
   ],
   "metadata": {
    "collapsed": false,
    "ExecuteTime": {
     "end_time": "2024-07-01T17:17:03.226608Z",
     "start_time": "2024-07-01T17:17:03.199708Z"
    }
   },
   "id": "5dbd88cad905ea51",
   "execution_count": 204
  },
  {
   "cell_type": "code",
   "outputs": [],
   "source": [
    "genes_table_df.reset_index(inplace=True)\n",
    "genes_table_df =genes_table_df.rename(columns={'index': 'Gene'})"
   ],
   "metadata": {
    "collapsed": false,
    "ExecuteTime": {
     "end_time": "2024-07-01T17:17:03.246270Z",
     "start_time": "2024-07-01T17:17:03.228183Z"
    }
   },
   "id": "78cc0fb470cc3982",
   "execution_count": 205
  },
  {
   "cell_type": "code",
   "outputs": [],
   "source": [
    "with pd.ExcelWriter(os.path.join(io_library.output_dir, 'genes_dependency_table.xlsx'), engine='xlsxwriter') as writer:\n",
    "    genes_table_df.to_excel(writer, sheet_name='Sheet1', index=True)\n",
    "    workbook  = writer.book\n",
    "    worksheet = writer.sheets['Sheet1']\n",
    "\n",
    "    for column in genes_table_df.columns:\n",
    "        col_idx = genes_table_df.columns.get_loc(column) + 1  # +1 to match Excel column indexing\n",
    "        column_length = max(genes_table_df[column].astype(str).map(len).max(), len(column)) + 2  #padding\n",
    "        worksheet.set_column(col_idx, col_idx, column_length)"
   ],
   "metadata": {
    "collapsed": false,
    "ExecuteTime": {
     "end_time": "2024-07-01T17:17:03.304604Z",
     "start_time": "2024-07-01T17:17:03.249179Z"
    }
   },
   "id": "8c787320fb3435a0",
   "execution_count": 206
  },
  {
   "cell_type": "code",
   "outputs": [],
   "source": [],
   "metadata": {
    "collapsed": false,
    "ExecuteTime": {
     "end_time": "2024-07-01T17:17:03.307961Z",
     "start_time": "2024-07-01T17:17:03.305434Z"
    }
   },
   "id": "75c158ddbc3713e3",
   "execution_count": 206
  }
 ],
 "metadata": {
  "kernelspec": {
   "display_name": "Python 3",
   "language": "python",
   "name": "python3"
  },
  "language_info": {
   "codemirror_mode": {
    "name": "ipython",
    "version": 2
   },
   "file_extension": ".py",
   "mimetype": "text/x-python",
   "name": "python",
   "nbconvert_exporter": "python",
   "pygments_lexer": "ipython2",
   "version": "2.7.6"
  }
 },
 "nbformat": 4,
 "nbformat_minor": 5
}
