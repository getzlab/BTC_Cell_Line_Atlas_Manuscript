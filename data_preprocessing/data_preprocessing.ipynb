{
 "cells": [
  {
   "cell_type": "code",
   "id": "initial_id",
   "metadata": {
    "collapsed": true,
    "ExecuteTime": {
     "end_time": "2025-04-28T14:21:12.333138Z",
     "start_time": "2025-04-28T14:21:05.949471Z"
    }
   },
   "source": [
    "import numpy as np\n",
    "import pandas as pd\n",
    "import random\n",
    "import os\n",
    "working_dir = \"/Users/nkarisan/PycharmProjects/BTC_Cell_Line_Atlas_Manuscript\"\n",
    "os.chdir(working_dir)\n",
    "\n",
    "import scripts.io_library as io_library\n",
    "io_library.input_dir = 'input_data/'\n",
    "io_library.output_dir = 'data_preprocessing/output_data/'\n",
    "\n",
    "from scripts.io_library import MyLib\n",
    "from scripts.utils import Dataset"
   ],
   "outputs": [],
   "execution_count": 1
  },
  {
   "metadata": {
    "ExecuteTime": {
     "end_time": "2025-04-28T14:21:13.351370Z",
     "start_time": "2025-04-28T14:21:13.281601Z"
    }
   },
   "cell_type": "code",
   "source": [
    "import matplotlib\n",
    "seed = 2023\n",
    "random.seed(seed)\n",
    "np.random.seed(seed)\n",
    "\n",
    "matplotlib.use(\"nbagg\")\n",
    "\n",
    "\n",
    "%matplotlib inline\n",
    "%config InlineBackend.figure_format = \"retina\"\n",
    "\n",
    "\n",
    "%load_ext autoreload\n",
    "%autoreload 2"
   ],
   "id": "4e5ecaccbf6927b",
   "outputs": [],
   "execution_count": 2
  },
  {
   "metadata": {},
   "cell_type": "markdown",
   "source": "# Gene exclusion list",
   "id": "810c66cf802c4a4e"
  },
  {
   "metadata": {},
   "cell_type": "markdown",
   "source": "The output file \"all_common_genes.csv\" should be placed in \"input_data/Additional_Data/Selected_Lists\".",
   "id": "b83dd6c53ba865c7"
  },
  {
   "metadata": {
    "ExecuteTime": {
     "end_time": "2025-04-26T20:52:20.031962Z",
     "start_time": "2025-04-26T20:52:19.977530Z"
    }
   },
   "cell_type": "code",
   "source": [
    "common_essentials_df = MyLib.load_csv('Additional_Data/DepMap/AchillesCommonEssentialControls.csv')\n",
    "none_essentials_df = MyLib.load_csv('Additional_Data/DepMap/AchillesNonessentialControls.csv')\n",
    "inferred_common_essentials_df = MyLib.load_csv('Additional_Data/DepMap/CRISPRInferredCommonEssentials.csv')\n",
    "genes_exclude = sorted(set(common_essentials_df.Gene.tolist()).union(set(none_essentials_df.Gene.tolist())).union(set(inferred_common_essentials_df.Essentials.tolist())) - {'KRAS (3845)'}) # exclude KRAS\n",
    "df = pd.DataFrame(genes_exclude, columns=['Gene'])\n",
    "MyLib.save_csv(df, 'all_common_genes.csv', index=False)"
   ],
   "id": "185fe48e350da68c",
   "outputs": [
    {
     "name": "stdout",
     "output_type": "stream",
     "text": [
      "input_data/Additional_Data/DepMap/AchillesCommonEssentialControls.csv  is loaded, shape:  (1247, 1)\n",
      "\n",
      "input_data/Additional_Data/DepMap/AchillesNonessentialControls.csv  is loaded, shape:  (781, 1)\n",
      "\n",
      "input_data/Additional_Data/DepMap/CRISPRInferredCommonEssentials.csv  is loaded, shape:  (1537, 1)\n",
      "\n",
      "\n",
      "File  data_preprocessing/output_data/all_common_genes.csv saved, shape: (2577, 1)\n"
     ]
    }
   ],
   "execution_count": 40
  },
  {
   "metadata": {},
   "cell_type": "markdown",
   "source": "# Extract BTC and HCC lines from DepMap dataset",
   "id": "317d0d30cecc7b0c"
  },
  {
   "metadata": {},
   "cell_type": "markdown",
   "source": [
    "At the time of this analysis, not all RNA, mutations, and proteomics data were made publicly available on the DepMap portal. Therefore, we only extracted the publicly available datasets and used them in conjunction with our own to-be-published datasets.\n",
    "\n",
    "Note that all output files along with newly published data are available in the Main_Data/ folder on Figshare."
   ],
   "id": "177b6e1fd0c334cf"
  },
  {
   "metadata": {
    "ExecuteTime": {
     "end_time": "2025-04-28T14:21:31.821135Z",
     "start_time": "2025-04-28T14:21:18.162171Z"
    }
   },
   "cell_type": "code",
   "source": [
    "raw_datasets_dic = dict()\n",
    "dir = 'Additional_Data/DepMap/'\n",
    "raw_datasets_dic['CRISPR'] = MyLib.load_csv(os.path.join(dir, 'CRISPRGeneEffect.csv'), index_col=0)\n",
    "raw_datasets_dic['Mut_Hot'] = MyLib.load_csv(os.path.join(dir, 'OmicsSomaticMutationsMatrixHotspot.csv'), index_col=0)\n",
    "raw_datasets_dic['Mut_Dam'] = MyLib.load_csv(os.path.join(dir, 'OmicsSomaticMutationsMatrixDamaging.csv'), index_col=0)\n",
    "raw_datasets_dic['CNV'] = MyLib.load_csv(os.path.join(dir, 'OmicsCNGene.csv'), index_col=0)\n",
    "raw_datasets_dic['Fusion'] = MyLib.load_csv(os.path.join(dir, 'OmicsFusionFiltered.csv'))"
   ],
   "id": "1ecd3cd027bbd15a",
   "outputs": [
    {
     "name": "stdout",
     "output_type": "stream",
     "text": [
      "input_data/Additional_Data/DepMap/CRISPRGeneEffect.csv  is loaded, shape:  (1100, 18443)\n",
      "\n",
      "input_data/Additional_Data/DepMap/OmicsSomaticMutationsMatrixHotspot.csv  is loaded, shape:  (1111, 467)\n",
      "\n",
      "input_data/Additional_Data/DepMap/OmicsSomaticMutationsMatrixDamaging.csv  is loaded, shape:  (1111, 17390)\n",
      "\n",
      "input_data/Additional_Data/DepMap/OmicsCNGene.csv  is loaded, shape:  (1111, 25368)\n",
      "\n",
      "input_data/Additional_Data/DepMap/OmicsFusionFiltered.csv  is loaded, shape:  (33328, 17)\n",
      "\n"
     ]
    }
   ],
   "execution_count": 3
  },
  {
   "metadata": {
    "ExecuteTime": {
     "end_time": "2025-04-28T14:21:34.525589Z",
     "start_time": "2025-04-28T14:21:34.422898Z"
    }
   },
   "cell_type": "code",
   "source": [
    "# MAF file containing mutations: ['NONSENSE', 'FRAME_SHIFT_DEL', 'FRAME_SHIFT_INS', 'MISSENSE', 'SILENT', 'SPLICE_SITE', 'IN_FRAME_INS', 'NONSTOP', 'IN_FRAME_DEL']\n",
    "mut_maf_file = 'Main_Data/Mutations/all_cell_lines_mut_type.csv'\n",
    "mut_maf_df = MyLib.load_csv(mut_maf_file)"
   ],
   "id": "d598ec9c466e04ae",
   "outputs": [
    {
     "name": "stdout",
     "output_type": "stream",
     "text": [
      "input_data/Main_Data/Mutations/all_cell_lines_mut_type.csv  is loaded, shape:  (127291, 7)\n",
      "\n"
     ]
    }
   ],
   "execution_count": 4
  },
  {
   "metadata": {
    "ExecuteTime": {
     "end_time": "2025-04-28T14:21:36.797259Z",
     "start_time": "2025-04-28T14:21:36.746787Z"
    }
   },
   "cell_type": "code",
   "source": [
    "upset_file = 'cell_lines_master_upset_2025-2-24.csv' # List of cell lines\n",
    "upset_df = MyLib.load_csv(upset_file, index_col=0)"
   ],
   "id": "6784e1017094449a",
   "outputs": [
    {
     "name": "stdout",
     "output_type": "stream",
     "text": [
      "input_data/cell_lines_master_upset_2025-2-24.csv  is loaded, shape:  (87, 11)\n",
      "\n"
     ]
    }
   ],
   "execution_count": 5
  },
  {
   "metadata": {
    "ExecuteTime": {
     "end_time": "2025-04-28T14:28:49.071946Z",
     "start_time": "2025-04-28T14:21:51.362478Z"
    }
   },
   "cell_type": "code",
   "source": [
    "datasets_dic = Dataset.create_dataset(upset_df, raw_datasets_dic, mut_maf_df)\n",
    "datasets_dic.keys()"
   ],
   "id": "54dfcd2099abdf9d",
   "outputs": [
    {
     "data": {
      "text/plain": [
       "dict_keys(['CRISPR', 'Mut_Hot', 'Mut_Dam', 'CNV', 'Fusion', 'Mut_other'])"
      ]
     },
     "execution_count": 16,
     "metadata": {},
     "output_type": "execute_result"
    }
   ],
   "execution_count": 16
  },
  {
   "metadata": {
    "ExecuteTime": {
     "end_time": "2025-04-28T14:29:48.650360Z",
     "start_time": "2025-04-28T14:29:46.424870Z"
    }
   },
   "cell_type": "code",
   "source": [
    "MyLib.save_csv(datasets_dic['CRISPR'].T, 'CRISPR.csv')\n",
    "MyLib.save_csv(datasets_dic['CNV'].T, 'CNV.csv')\n",
    "MyLib.save_csv(datasets_dic['Fusion'].T, 'Fusion.csv')\n",
    "MyLib.save_csv(datasets_dic['Mut_Dam'].T, 'Mut_Dam.csv')\n",
    "MyLib.save_csv(datasets_dic['Mut_Hot'].T, 'Mut_Hot.csv')\n",
    "MyLib.save_csv(datasets_dic['Mut_other'].T, 'Mut_other.csv')"
   ],
   "id": "170fa8486a510807",
   "outputs": [
    {
     "name": "stdout",
     "output_type": "stream",
     "text": [
      "\n",
      "File  data_preprocessing/output_data/CRISPR.csv saved, shape: (18443, 60)\n",
      "\n",
      "File  data_preprocessing/output_data/CNV.csv saved, shape: (25368, 71)\n",
      "\n",
      "File  data_preprocessing/output_data/Fusion.csv saved, shape: (1231, 68)\n",
      "\n",
      "File  data_preprocessing/output_data/Mut_Dam.csv saved, shape: (17390, 71)\n",
      "\n",
      "File  data_preprocessing/output_data/Mut_Hot.csv saved, shape: (467, 71)\n",
      "\n",
      "File  data_preprocessing/output_data/Mut_other.csv saved, shape: (13578, 71)\n"
     ]
    }
   ],
   "execution_count": 20
  },
  {
   "metadata": {},
   "cell_type": "markdown",
   "source": "# CNV: genes of interest",
   "id": "b859dcee504f4cc7"
  },
  {
   "metadata": {},
   "cell_type": "markdown",
   "source": "The output file \"goi_cnv.csv\" should be placed in \"input_data/Additional_Data/Selected_Lists\".",
   "id": "853876b2bd234c4a"
  },
  {
   "metadata": {
    "ExecuteTime": {
     "end_time": "2025-04-28T01:17:44.014647Z",
     "start_time": "2025-04-28T01:17:43.778066Z"
    }
   },
   "cell_type": "code",
   "source": [
    "goi = ['FGFR2', 'KRAS', 'BRAF', 'EGFR', 'ERBB2', 'PTEN', 'PIK3CA',\n",
    "       'AKT1', 'ARID1A', 'PBRM1', 'ARID2', 'BAP1', 'KMT2A', 'KMT2D',\n",
    "       'TET2', 'IDH1', 'IDH2','SMAD4', 'TGFBR1', 'TGFBR2', 'ELF3',\n",
    "       'CTNNB1', 'APC', 'AXIN1', 'TP53', 'CDKN2A', 'MYC', 'MTAP']\n",
    "\n",
    "cnv_file = 'Main_Data/CN/CNV.csv'\n",
    "cnv_tb = MyLib.load_csv(cnv_file, index_col=0)\n",
    "cnv_tb.index = cnv_tb.index.map(lambda x:x.split(' (')[0])\n",
    "\n",
    "cnv_tb = cnv_tb.T\n",
    "\n",
    "CNV_4 = cnv_tb[goi].copy()\n",
    "CNV_4['Cell'] = CNV_4.index.values\n",
    "\n",
    "def cnv_prepare(value):\n",
    "    if value<0.25:\n",
    "        return 'Homo_loss'\n",
    "    elif value >= 0.25 and value < 0.5:\n",
    "        return \"Het_loss\"\n",
    "    elif value > 2:\n",
    "        return \"Gain\"\n",
    "    else:\n",
    "        return 'Neutral'\n",
    "\n",
    "CNV_5 = pd.melt(CNV_4, id_vars='Cell')\n",
    "CNV_5['Copy_number'] = CNV_5['value'].apply(cnv_prepare)\n",
    "\n",
    "CNV_5 = CNV_5[CNV_5['Copy_number'] != 'Neutral']\n",
    "CNV_5 = CNV_5[['Gene', 'Cell', 'Copy_number', 'value']].copy()\n",
    "CNV_5.columns = ['Gene', 'Sample_name', 'CN', 'value']\n",
    "CNV_5.sort_values(by='Gene', inplace=True)\n",
    "\n",
    "MyLib.save_csv(CNV_5, 'goi_cnv.csv', index=False)"
   ],
   "id": "8c17a822236e86c4",
   "outputs": [
    {
     "name": "stdout",
     "output_type": "stream",
     "text": [
      "input_data/Main_Data/CN/CNV.csv  is loaded, shape:  (25368, 71)\n",
      "\n",
      "\n",
      "File  data_preprocessing/output_data/goi_cnv.csv saved, shape: (74, 4)\n"
     ]
    }
   ],
   "execution_count": 5
  }
 ],
 "metadata": {
  "kernelspec": {
   "display_name": "Python 3",
   "language": "python",
   "name": "python3"
  },
  "language_info": {
   "codemirror_mode": {
    "name": "ipython",
    "version": 2
   },
   "file_extension": ".py",
   "mimetype": "text/x-python",
   "name": "python",
   "nbconvert_exporter": "python",
   "pygments_lexer": "ipython2",
   "version": "2.7.6"
  }
 },
 "nbformat": 4,
 "nbformat_minor": 5
}
