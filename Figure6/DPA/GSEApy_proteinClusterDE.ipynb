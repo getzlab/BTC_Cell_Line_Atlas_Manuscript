{
 "cells": [
  {
   "cell_type": "code",
   "execution_count": null,
   "metadata": {},
   "outputs": [],
   "source": [
    "##################################\n",
    "# By: Robert Morris\n",
    "##################################\n",
    "\n",
    "import numpy as np\n",
    "import pandas as pd\n",
    "import os\n",
    "import glob\n",
    "import gseapy\n",
    "\n",
    "def oDir(d):\n",
    "    isExist = os.path.exists(d)\n",
    "    if not isExist:\n",
    "        os.makedirs(d)\n",
    "        return(d)\n",
    "    else:\n",
    "        return(d)\n",
    "\n",
    "topDir = oDir(d=\"/output/to/GSEApy_proteinClusterDE1\")\n",
    "outDir = oDir(d=topDir + '/' + 'result')\n",
    "resDir = \"/input/from/differentialExpression/result/directory\";"
   ]
  },
  {
   "cell_type": "code",
   "execution_count": null,
   "metadata": {
    "scrolled": true
   },
   "outputs": [],
   "source": [
    "#read files of DE results\n",
    "de_files = glob.glob(resDir + \"/*_comparison.txt\")\n",
    "gsea_dbids1 = [\"/MSigDB/HumanSigDB/c2.cp.v2023.1.Hs.symbols.gmt\",\n",
    "\"/MSigDB/HumanSigDB/c5.go.bp.v2023.1.Hs.symbols.gmt\",\n",
    "\"/MSigDB/HumanSigDB/h.all.v2023.1.Hs.symbols.gmt\"]\n",
    "gsea_dbids2 = [\"/Enrichr/PPI_Hub_Poteins.gmt\"]\n",
    "\n",
    "import re\n",
    "def GetAllMatches(l1, pattern):\n",
    "    rs=[]\n",
    "    cnt = 0\n",
    "    for m in l1:\n",
    "        res = re.search(pattern, m)\n",
    "        rs.append(res.groups())\n",
    "    r_df = pd.DataFrame(rs)\n",
    "    r_df['String']=l1\n",
    "    #print(r_df.shape)\n",
    "    #print(r_df)\n",
    "    return(r_df)\n",
    "\n",
    "#get differential expression results\n",
    "de_strm = GetAllMatches(l1=de_files, pattern=r'.*/result/(.*)_ProteinL2omMAD_comparison.txt')\n",
    "#get the signature collection files\n",
    "db_strm1 = GetAllMatches(l1=gsea_dbids1, pattern=r'.*/HumanSigDB/(.*).Hs.symbols.gmt')\n",
    "db_strm2 = GetAllMatches(l1=gsea_dbids2, pattern=r'.*/Enrichr/(.*).gmt')\n",
    "db_strm = db_strm1 + db_strm2\n"
   ]
  },
  {
   "cell_type": "code",
   "execution_count": null,
   "metadata": {},
   "outputs": [],
   "source": [
    "backgrd_genes=pd.read_csv('QuantifiedProteinsGeneNames.txt', sep='\\t', header=None)\n",
    "backgrd_genes = backgrd_genes[0].squeeze().str.strip().to_list()\n"
   ]
  },
  {
   "cell_type": "code",
   "execution_count": null,
   "metadata": {},
   "outputs": [],
   "source": [
    "\n",
    "for de_ind in de_strm.index:\n",
    "    #print(file)\n",
    "    de1 = pd.read_csv(de_strm['String'][de_ind], sep='\\t')\n",
    "    print('flag1')\n",
    "    #print(de1.info())\n",
    "    de1f = de1[(de1['adj.P.Val'] < 0.1) & (de1['logFC'] > 0)]\n",
    "    de1f.to_csv(outDir + \"/\" + de_strm[0][de_ind] + \"_FDR\"+str(0.1)+\"_upReg_diffExpr_table.tsv\", sep='\\t')\n",
    "    #print(de1f.info())\n",
    "    #print(nrow(de1f))\n",
    "    de_up1 = de1f['GeneName'].squeeze().str.strip().to_list()\n",
    "    print(len(de_up1))\n",
    "    for db_ind in db_strm.index:\n",
    "        enr1 = gseapy.enrich(gene_list=de_up1, gene_sets=db_strm['String'][db_ind], outdir=None, background=backgrd_genes, verbose=True)\n",
    "        enr1_res = enr1.results\n",
    "        print(type(enr1_res))\n",
    "        enr1_res.to_csv(outDir + \"/\" + de_strm[0][de_ind] + \"_FDR\"+str(0.1)+\"_upReg\"+\"__\" + db_strm[0][db_ind] + \"gseapy_results.tsv\", sep='\\t')\n",
    "    #loop for downregulate proteins\n",
    "    de2f = de1[(de1['adj.P.Val'] < 0.1) & (de1['logFC'] < 0)]\n",
    "    de2f.to_csv(outDir + \"/\" + de_strm[0][de_ind] + \"_FDR\"+str(0.1)+\"_dwnReg_diffExpr_table.tsv\", sep='\\t')\n",
    "    #print(de1f.info())\n",
    "    #print(nrow(de1f))\n",
    "    de_dwn1 = de2f['GeneName'].squeeze().str.strip().to_list()\n",
    "    print(len(de_dwn1))\n",
    "    for db_ind in db_strm.index:\n",
    "        enr1 = gseapy.enrich(gene_list=de_dwn1, gene_sets=db_strm['String'][db_ind], outdir=None, background=backgrd_genes, verbose=True)\n",
    "        enr1_res = enr1.results\n",
    "        print(type(enr1_res))\n",
    "        enr1_res.to_csv(outDir + \"/\" + de_strm[0][de_ind] + \"_FDR\"+str(0.1)+\"_dwnReg\"+\"__\" + db_strm[0][db_ind] + \"gseapy_results.tsv\", sep='\\t')\n",
    "\n",
    "    \n",
    "    \n",
    "    \n",
    "    "
   ]
  }
 ],
 "metadata": {
  "kernelspec": {
   "display_name": "Python 3 (ipykernel)",
   "language": "python",
   "name": "python3"
  },
  "language_info": {
   "codemirror_mode": {
    "name": "ipython",
    "version": 3
   },
   "file_extension": ".py",
   "mimetype": "text/x-python",
   "name": "python",
   "nbconvert_exporter": "python",
   "pygments_lexer": "ipython3",
   "version": "3.9.12"
  }
 },
 "nbformat": 4,
 "nbformat_minor": 4
}
