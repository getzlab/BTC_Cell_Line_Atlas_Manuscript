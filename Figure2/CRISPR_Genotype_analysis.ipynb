{
 "cells": [
  {
   "cell_type": "code",
   "metadata": {
    "collapsed": true,
    "jupyter": {
     "outputs_hidden": true
    },
    "ExecuteTime": {
     "end_time": "2024-08-06T21:46:52.644639Z",
     "start_time": "2024-08-06T21:46:50.975849Z"
    }
   },
   "source": [
    "import numpy as np\n",
    "import pandas as pd\n",
    "import random\n",
    "import os\n",
    "working_dir = \"/Users/nkarisan/PycharmProjects/BTC_Cell_Line_Atlas_Manuscript\"\n",
    "os.chdir(working_dir)\n",
    "\n",
    "import BTC_Cell_Line_Atlas_Manuscript.scripts.io_library as io_library\n",
    "io_library.input_dir = 'input_data/'\n",
    "io_library.output_dir = 'Figure2/output_fig2/'\n",
    "from BTC_Cell_Line_Atlas_Manuscript.scripts.io_library import MyLib\n",
    "from BTC_Cell_Line_Atlas_Manuscript.scripts.utils import Utils\n",
    "from BTC_Cell_Line_Atlas_Manuscript.scripts.visualization import MyVisualization"
   ],
   "outputs": [],
   "execution_count": 1
  },
  {
   "cell_type": "code",
   "metadata": {
    "collapsed": false,
    "ExecuteTime": {
     "end_time": "2024-08-06T21:46:52.672448Z",
     "start_time": "2024-08-06T21:46:52.645885Z"
    }
   },
   "source": [
    "import matplotlib\n",
    "seed = 2023\n",
    "random.seed(seed)\n",
    "np.random.seed(seed)\n",
    "\n",
    "matplotlib.use(\"nbagg\")\n",
    "\n",
    "\n",
    "%matplotlib inline\n",
    "%config InlineBackend.figure_format = \"retina\"\n",
    "\n",
    "\n",
    "%load_ext autoreload\n",
    "%autoreload 2"
   ],
   "outputs": [],
   "execution_count": 2
  },
  {
   "cell_type": "markdown",
   "source": [
    "# Prepare data"
   ],
   "metadata": {
    "collapsed": false
   }
  },
  {
   "cell_type": "code",
   "metadata": {
    "collapsed": false,
    "ExecuteTime": {
     "end_time": "2024-08-06T21:46:57.676552Z",
     "start_time": "2024-08-06T21:46:52.673538Z"
    }
   },
   "source": [
    "gene_effect_file = 'Main_Data/CRISPR/CRISPR.csv'\n",
    "gene_effect_df = MyLib.load_csv(gene_effect_file, index_col=0)\n",
    "gene_effect_df = gene_effect_df.T\n",
    "gene_effect_df = gene_effect_df.dropna(axis=1)\n",
    "\n",
    "upset_file = 'cell_lines_master_upset_2024-4-13.csv'\n",
    "raw_upset_df = MyLib.load_csv(upset_file, index_col=0)\n",
    "# raw_upset_df.set_index('Cell_line', inplace=True, drop=True)\n",
    "upset_df = raw_upset_df[(raw_upset_df['CRISPR']==1) & (raw_upset_df['Subtype'] != 'HCC')]\n",
    "upset_df = upset_df[[\"Subtype\", 'DepMap_ID', 'RNA']]\n",
    "print('upset shape:', upset_df.shape)\n",
    "gene_effect_df = gene_effect_df.loc[upset_df.index,:]\n",
    "\n",
    "ccle_cripsr_file = 'Additional_Data/DepMap/CRISPRGeneEffect_internal-23q2-1e49_v97_filtered_by_public_ids.csv'\n",
    "ccle_cripsr_df = MyLib.load_csv(ccle_cripsr_file, index_col=0)\n",
    "other_ccle_crispr_df = ccle_cripsr_df[~ccle_cripsr_df.index.isin(upset_df['DepMap_ID'])] # might contain samples with no mutation data\n",
    "other_ccle_crispr_df.shape"
   ],
   "outputs": [
    {
     "name": "stdout",
     "output_type": "stream",
     "text": [
      "input_data/Main_Data/CRISPR/CRISPR.csv  is loaded, shape:  (18443, 60)\n",
      "\n",
      "input_data/cell_lines_master_upset_2024-4-13.csv  is loaded, shape:  (87, 10)\n",
      "\n",
      "upset shape: (39, 3)\n",
      "input_data/Additional_Data/DepMap/CRISPRGeneEffect_internal-23q2-1e49_v97_filtered_by_public_ids.csv  is loaded, shape:  (1100, 18443)\n",
      "\n"
     ]
    },
    {
     "data": {
      "text/plain": [
       "(1061, 18443)"
      ]
     },
     "execution_count": 3,
     "metadata": {},
     "output_type": "execute_result"
    }
   ],
   "execution_count": 3
  },
  {
   "cell_type": "code",
   "source": [
    "mut_dir = 'Main_Data/Mutations/subset/'\n",
    "hotspot_df = MyLib.load_csv(os.path.join(mut_dir, 'Mut_Hot.csv'), index_col=0).T.astype('int64')\n",
    "dam_df = MyLib.load_csv(os.path.join(mut_dir, 'Mut_Dam.csv'), index_col=0).T.astype('int64')\n",
    "hotspot_df[hotspot_df > 1] = 1\n",
    "dam_df[dam_df > 1] = 1\n",
    "genes = [ 'ERBB2 (2064)', 'BRAF (673)', 'IDH1 (3417)', 'KRAS (3845)', 'AKT1 (207)', 'PIK3CA (5290)', 'CTNNB1 (1499)']\n",
    "for gene in genes:\n",
    "    upset_df = Utils.get_cell_lines_by_hotspot_dam_mutation(gene, hotspot_df, dam_df, upset_df)\n",
    "fusion_df = MyLib.load_csv('main_data/Fusion/Fusion.csv')\n",
    "cell_lines = Utils.get_cell_lines_by_fusion(fusion_df, upset_df, 'FGFR2')\n",
    "upset_df.loc[cell_lines, 'FGFR2 (2263)'] = 1\n",
    "upset_df['FGFR2 (2263)'] = upset_df['FGFR2 (2263)'].fillna(0)\n",
    "cnv_file = 'Additional_Data/Selected_Lists/goi_cnv.csv'\n",
    "cnv_df = MyLib.load_csv(cnv_file)\n",
    "cell_lines_dic = Utils.get_cell_lines_by_cnv(cnv_df, upset_df, 'ERBB2')\n",
    "for k in cell_lines_dic:\n",
    "    print(f'CNV: {k}, cell: {cell_lines_dic[k]}')\n",
    "    upset_df.loc[cell_lines_dic[k], 'ERBB2 (2064)'] = 1\n",
    "MyLib.save_csv(upset_df, 'upset_mutations_df.csv')"
   ],
   "metadata": {
    "collapsed": false,
    "ExecuteTime": {
     "end_time": "2024-08-06T21:46:57.853044Z",
     "start_time": "2024-08-06T21:46:57.677861Z"
    }
   },
   "outputs": [
    {
     "name": "stdout",
     "output_type": "stream",
     "text": [
      "input_data/Main_Data/Mutations/subset/Mut_Hot.csv  is loaded, shape:  (467, 71)\n",
      "\n",
      "input_data/Main_Data/Mutations/subset/Mut_Dam.csv  is loaded, shape:  (17390, 71)\n",
      "\n",
      "input_data/main_data/Fusion/Fusion.csv  is loaded, shape:  (1231, 69)\n",
      "\n",
      "input_data/Additional_Data/Selected_Lists/goi_cnv.csv  is loaded, shape:  (74, 4)\n",
      "\n",
      "CNV: Gain, cell: ['TGBC18TKB', 'TKKK']\n",
      "\n",
      "File  Figure2/output_fig2/upset_mutations_df.csv saved, shape: (39, 11)\n"
     ]
    }
   ],
   "execution_count": 4
  },
  {
   "cell_type": "code",
   "source": [
    "upset_df"
   ],
   "metadata": {
    "collapsed": false,
    "ExecuteTime": {
     "end_time": "2024-08-06T21:46:57.876920Z",
     "start_time": "2024-08-06T21:46:57.855505Z"
    }
   },
   "outputs": [
    {
     "data": {
      "text/plain": [
       "          Subtype   DepMap_ID  RNA  ERBB2 (2064)  BRAF (673)  IDH1 (3417)  \\\n",
       "Cell_line                                                                   \n",
       "SNU869         AC  ACH-000182  1.0             0           0            0   \n",
       "SNU478         AC  ACH-000377  1.0             0           0            0   \n",
       "TGBC52TKB      AC  ACH-001862  1.0             0           0            0   \n",
       "AOVC1          AC  ACH-001997  1.0             0           0            0   \n",
       "TGBC18TKB      AC  ACH-002023  NaN             1           0            0   \n",
       "SNU1196       ECC  ACH-000461  1.0             0           0            0   \n",
       "EGI1          ECC  ACH-001494  1.0             0           0            0   \n",
       "KKU100        ECC  ACH-001536  1.0             0           0            0   \n",
       "TFK1          ECC  ACH-001673  1.0             0           0            0   \n",
       "ECC3          ECC  ACH-001841  1.0             0           0            0   \n",
       "ECC4          ECC  ACH-001843  1.0             0           0            0   \n",
       "CCC5          ECC  ACH-002647  NaN             0           0            0   \n",
       "SNU308        GBC  ACH-000141  1.0             0           0            0   \n",
       "NOZ           GBC  ACH-001607  1.0             0           0            0   \n",
       "OCUG1         GBC  ACH-001619  1.0             0           0            0   \n",
       "G415          GBC  ACH-001850  1.0             0           0            0   \n",
       "TGBC1TKB      GBC  ACH-001861  1.0             0           0            0   \n",
       "GB2           GBC  ACH-001961  1.0             0           0            0   \n",
       "SNU1079       ICC  ACH-000209  1.0             0           0            1   \n",
       "HUCCT1        ICC  ACH-000976  1.0             0           0            0   \n",
       "KKU213        ICC  ACH-001538  1.0             0           0            0   \n",
       "ICC10         ICC  ACH-001834  1.0             0           0            0   \n",
       "ICC10-6       ICC  ACH-001835  1.0             0           0            0   \n",
       "ICC10-8       ICC  ACH-001836  1.0             0           0            0   \n",
       "ICC12         ICC  ACH-001838  1.0             0           1            0   \n",
       "ICC13-7       ICC  ACH-001839  1.0             0           0            0   \n",
       "ICC2          ICC  ACH-001842  1.0             0           0            0   \n",
       "ICC4          ICC  ACH-001844  1.0             0           0            0   \n",
       "ICC8          ICC  ACH-001848  1.0             0           1            0   \n",
       "ICC9          ICC  ACH-001849  1.0             0           0            0   \n",
       "HKGZCC        ICC  ACH-001852  1.0             0           0            0   \n",
       "KMCH1         ICC  ACH-001853  1.0             0           0            0   \n",
       "RBE           ICC  ACH-001856  1.0             0           0            1   \n",
       "SG231         ICC  ACH-001857  1.0             0           0            0   \n",
       "SSP25         ICC  ACH-001858  1.0             0           0            0   \n",
       "TKKK          ICC  ACH-001863  1.0             1           0            0   \n",
       "YSCCC         ICC  ACH-001864  1.0             0           0            0   \n",
       "CCLP1         ICC  ACH-001959  1.0             0           0            0   \n",
       "CCSW1         ICC  ACH-001960  1.0             0           0            0   \n",
       "\n",
       "           KRAS (3845)  AKT1 (207)  PIK3CA (5290)  CTNNB1 (1499)  FGFR2 (2263)  \n",
       "Cell_line                                                                       \n",
       "SNU869               1           0              1              1           0.0  \n",
       "SNU478               0           0              0              0           0.0  \n",
       "TGBC52TKB            1           0              0              0           0.0  \n",
       "AOVC1                0           0              0              0           0.0  \n",
       "TGBC18TKB            0           0              0              1           0.0  \n",
       "SNU1196              0           0              0              0           0.0  \n",
       "EGI1                 1           0              0              0           0.0  \n",
       "KKU100               1           0              0              0           0.0  \n",
       "TFK1                 0           0              0              0           0.0  \n",
       "ECC3                 0           0              0              0           0.0  \n",
       "ECC4                 1           0              0              1           0.0  \n",
       "CCC5                 1           0              0              0           0.0  \n",
       "SNU308               0           0              0              0           0.0  \n",
       "NOZ                  1           0              0              0           0.0  \n",
       "OCUG1                0           0              0              0           0.0  \n",
       "G415                 1           0              0              0           0.0  \n",
       "TGBC1TKB             0           0              0              0           0.0  \n",
       "GB2                  0           0              0              0           0.0  \n",
       "SNU1079              0           0              0              0           0.0  \n",
       "HUCCT1               1           0              0              0           0.0  \n",
       "KKU213               1           0              0              0           0.0  \n",
       "ICC10                0           0              0              0           1.0  \n",
       "ICC10-6              0           0              0              0           1.0  \n",
       "ICC10-8              0           0              0              0           1.0  \n",
       "ICC12                0           0              0              0           0.0  \n",
       "ICC13-7              0           0              0              0           1.0  \n",
       "ICC2                 0           1              0              0           0.0  \n",
       "ICC4                 0           0              0              0           0.0  \n",
       "ICC8                 0           1              0              0           0.0  \n",
       "ICC9                 1           0              0              0           0.0  \n",
       "HKGZCC               1           0              0              0           0.0  \n",
       "KMCH1                0           0              0              0           0.0  \n",
       "RBE                  1           0              0              0           0.0  \n",
       "SG231                0           0              0              0           0.0  \n",
       "SSP25                0           0              0              0           0.0  \n",
       "TKKK                 0           0              0              0           0.0  \n",
       "YSCCC                0           1              1              0           0.0  \n",
       "CCLP1                0           0              0              1           0.0  \n",
       "CCSW1                0           0              0              0           0.0  "
      ],
      "text/html": [
       "<div>\n",
       "<style scoped>\n",
       "    .dataframe tbody tr th:only-of-type {\n",
       "        vertical-align: middle;\n",
       "    }\n",
       "\n",
       "    .dataframe tbody tr th {\n",
       "        vertical-align: top;\n",
       "    }\n",
       "\n",
       "    .dataframe thead th {\n",
       "        text-align: right;\n",
       "    }\n",
       "</style>\n",
       "<table border=\"1\" class=\"dataframe\">\n",
       "  <thead>\n",
       "    <tr style=\"text-align: right;\">\n",
       "      <th></th>\n",
       "      <th>Subtype</th>\n",
       "      <th>DepMap_ID</th>\n",
       "      <th>RNA</th>\n",
       "      <th>ERBB2 (2064)</th>\n",
       "      <th>BRAF (673)</th>\n",
       "      <th>IDH1 (3417)</th>\n",
       "      <th>KRAS (3845)</th>\n",
       "      <th>AKT1 (207)</th>\n",
       "      <th>PIK3CA (5290)</th>\n",
       "      <th>CTNNB1 (1499)</th>\n",
       "      <th>FGFR2 (2263)</th>\n",
       "    </tr>\n",
       "    <tr>\n",
       "      <th>Cell_line</th>\n",
       "      <th></th>\n",
       "      <th></th>\n",
       "      <th></th>\n",
       "      <th></th>\n",
       "      <th></th>\n",
       "      <th></th>\n",
       "      <th></th>\n",
       "      <th></th>\n",
       "      <th></th>\n",
       "      <th></th>\n",
       "      <th></th>\n",
       "    </tr>\n",
       "  </thead>\n",
       "  <tbody>\n",
       "    <tr>\n",
       "      <th>SNU869</th>\n",
       "      <td>AC</td>\n",
       "      <td>ACH-000182</td>\n",
       "      <td>1.0</td>\n",
       "      <td>0</td>\n",
       "      <td>0</td>\n",
       "      <td>0</td>\n",
       "      <td>1</td>\n",
       "      <td>0</td>\n",
       "      <td>1</td>\n",
       "      <td>1</td>\n",
       "      <td>0.0</td>\n",
       "    </tr>\n",
       "    <tr>\n",
       "      <th>SNU478</th>\n",
       "      <td>AC</td>\n",
       "      <td>ACH-000377</td>\n",
       "      <td>1.0</td>\n",
       "      <td>0</td>\n",
       "      <td>0</td>\n",
       "      <td>0</td>\n",
       "      <td>0</td>\n",
       "      <td>0</td>\n",
       "      <td>0</td>\n",
       "      <td>0</td>\n",
       "      <td>0.0</td>\n",
       "    </tr>\n",
       "    <tr>\n",
       "      <th>TGBC52TKB</th>\n",
       "      <td>AC</td>\n",
       "      <td>ACH-001862</td>\n",
       "      <td>1.0</td>\n",
       "      <td>0</td>\n",
       "      <td>0</td>\n",
       "      <td>0</td>\n",
       "      <td>1</td>\n",
       "      <td>0</td>\n",
       "      <td>0</td>\n",
       "      <td>0</td>\n",
       "      <td>0.0</td>\n",
       "    </tr>\n",
       "    <tr>\n",
       "      <th>AOVC1</th>\n",
       "      <td>AC</td>\n",
       "      <td>ACH-001997</td>\n",
       "      <td>1.0</td>\n",
       "      <td>0</td>\n",
       "      <td>0</td>\n",
       "      <td>0</td>\n",
       "      <td>0</td>\n",
       "      <td>0</td>\n",
       "      <td>0</td>\n",
       "      <td>0</td>\n",
       "      <td>0.0</td>\n",
       "    </tr>\n",
       "    <tr>\n",
       "      <th>TGBC18TKB</th>\n",
       "      <td>AC</td>\n",
       "      <td>ACH-002023</td>\n",
       "      <td>NaN</td>\n",
       "      <td>1</td>\n",
       "      <td>0</td>\n",
       "      <td>0</td>\n",
       "      <td>0</td>\n",
       "      <td>0</td>\n",
       "      <td>0</td>\n",
       "      <td>1</td>\n",
       "      <td>0.0</td>\n",
       "    </tr>\n",
       "    <tr>\n",
       "      <th>SNU1196</th>\n",
       "      <td>ECC</td>\n",
       "      <td>ACH-000461</td>\n",
       "      <td>1.0</td>\n",
       "      <td>0</td>\n",
       "      <td>0</td>\n",
       "      <td>0</td>\n",
       "      <td>0</td>\n",
       "      <td>0</td>\n",
       "      <td>0</td>\n",
       "      <td>0</td>\n",
       "      <td>0.0</td>\n",
       "    </tr>\n",
       "    <tr>\n",
       "      <th>EGI1</th>\n",
       "      <td>ECC</td>\n",
       "      <td>ACH-001494</td>\n",
       "      <td>1.0</td>\n",
       "      <td>0</td>\n",
       "      <td>0</td>\n",
       "      <td>0</td>\n",
       "      <td>1</td>\n",
       "      <td>0</td>\n",
       "      <td>0</td>\n",
       "      <td>0</td>\n",
       "      <td>0.0</td>\n",
       "    </tr>\n",
       "    <tr>\n",
       "      <th>KKU100</th>\n",
       "      <td>ECC</td>\n",
       "      <td>ACH-001536</td>\n",
       "      <td>1.0</td>\n",
       "      <td>0</td>\n",
       "      <td>0</td>\n",
       "      <td>0</td>\n",
       "      <td>1</td>\n",
       "      <td>0</td>\n",
       "      <td>0</td>\n",
       "      <td>0</td>\n",
       "      <td>0.0</td>\n",
       "    </tr>\n",
       "    <tr>\n",
       "      <th>TFK1</th>\n",
       "      <td>ECC</td>\n",
       "      <td>ACH-001673</td>\n",
       "      <td>1.0</td>\n",
       "      <td>0</td>\n",
       "      <td>0</td>\n",
       "      <td>0</td>\n",
       "      <td>0</td>\n",
       "      <td>0</td>\n",
       "      <td>0</td>\n",
       "      <td>0</td>\n",
       "      <td>0.0</td>\n",
       "    </tr>\n",
       "    <tr>\n",
       "      <th>ECC3</th>\n",
       "      <td>ECC</td>\n",
       "      <td>ACH-001841</td>\n",
       "      <td>1.0</td>\n",
       "      <td>0</td>\n",
       "      <td>0</td>\n",
       "      <td>0</td>\n",
       "      <td>0</td>\n",
       "      <td>0</td>\n",
       "      <td>0</td>\n",
       "      <td>0</td>\n",
       "      <td>0.0</td>\n",
       "    </tr>\n",
       "    <tr>\n",
       "      <th>ECC4</th>\n",
       "      <td>ECC</td>\n",
       "      <td>ACH-001843</td>\n",
       "      <td>1.0</td>\n",
       "      <td>0</td>\n",
       "      <td>0</td>\n",
       "      <td>0</td>\n",
       "      <td>1</td>\n",
       "      <td>0</td>\n",
       "      <td>0</td>\n",
       "      <td>1</td>\n",
       "      <td>0.0</td>\n",
       "    </tr>\n",
       "    <tr>\n",
       "      <th>CCC5</th>\n",
       "      <td>ECC</td>\n",
       "      <td>ACH-002647</td>\n",
       "      <td>NaN</td>\n",
       "      <td>0</td>\n",
       "      <td>0</td>\n",
       "      <td>0</td>\n",
       "      <td>1</td>\n",
       "      <td>0</td>\n",
       "      <td>0</td>\n",
       "      <td>0</td>\n",
       "      <td>0.0</td>\n",
       "    </tr>\n",
       "    <tr>\n",
       "      <th>SNU308</th>\n",
       "      <td>GBC</td>\n",
       "      <td>ACH-000141</td>\n",
       "      <td>1.0</td>\n",
       "      <td>0</td>\n",
       "      <td>0</td>\n",
       "      <td>0</td>\n",
       "      <td>0</td>\n",
       "      <td>0</td>\n",
       "      <td>0</td>\n",
       "      <td>0</td>\n",
       "      <td>0.0</td>\n",
       "    </tr>\n",
       "    <tr>\n",
       "      <th>NOZ</th>\n",
       "      <td>GBC</td>\n",
       "      <td>ACH-001607</td>\n",
       "      <td>1.0</td>\n",
       "      <td>0</td>\n",
       "      <td>0</td>\n",
       "      <td>0</td>\n",
       "      <td>1</td>\n",
       "      <td>0</td>\n",
       "      <td>0</td>\n",
       "      <td>0</td>\n",
       "      <td>0.0</td>\n",
       "    </tr>\n",
       "    <tr>\n",
       "      <th>OCUG1</th>\n",
       "      <td>GBC</td>\n",
       "      <td>ACH-001619</td>\n",
       "      <td>1.0</td>\n",
       "      <td>0</td>\n",
       "      <td>0</td>\n",
       "      <td>0</td>\n",
       "      <td>0</td>\n",
       "      <td>0</td>\n",
       "      <td>0</td>\n",
       "      <td>0</td>\n",
       "      <td>0.0</td>\n",
       "    </tr>\n",
       "    <tr>\n",
       "      <th>G415</th>\n",
       "      <td>GBC</td>\n",
       "      <td>ACH-001850</td>\n",
       "      <td>1.0</td>\n",
       "      <td>0</td>\n",
       "      <td>0</td>\n",
       "      <td>0</td>\n",
       "      <td>1</td>\n",
       "      <td>0</td>\n",
       "      <td>0</td>\n",
       "      <td>0</td>\n",
       "      <td>0.0</td>\n",
       "    </tr>\n",
       "    <tr>\n",
       "      <th>TGBC1TKB</th>\n",
       "      <td>GBC</td>\n",
       "      <td>ACH-001861</td>\n",
       "      <td>1.0</td>\n",
       "      <td>0</td>\n",
       "      <td>0</td>\n",
       "      <td>0</td>\n",
       "      <td>0</td>\n",
       "      <td>0</td>\n",
       "      <td>0</td>\n",
       "      <td>0</td>\n",
       "      <td>0.0</td>\n",
       "    </tr>\n",
       "    <tr>\n",
       "      <th>GB2</th>\n",
       "      <td>GBC</td>\n",
       "      <td>ACH-001961</td>\n",
       "      <td>1.0</td>\n",
       "      <td>0</td>\n",
       "      <td>0</td>\n",
       "      <td>0</td>\n",
       "      <td>0</td>\n",
       "      <td>0</td>\n",
       "      <td>0</td>\n",
       "      <td>0</td>\n",
       "      <td>0.0</td>\n",
       "    </tr>\n",
       "    <tr>\n",
       "      <th>SNU1079</th>\n",
       "      <td>ICC</td>\n",
       "      <td>ACH-000209</td>\n",
       "      <td>1.0</td>\n",
       "      <td>0</td>\n",
       "      <td>0</td>\n",
       "      <td>1</td>\n",
       "      <td>0</td>\n",
       "      <td>0</td>\n",
       "      <td>0</td>\n",
       "      <td>0</td>\n",
       "      <td>0.0</td>\n",
       "    </tr>\n",
       "    <tr>\n",
       "      <th>HUCCT1</th>\n",
       "      <td>ICC</td>\n",
       "      <td>ACH-000976</td>\n",
       "      <td>1.0</td>\n",
       "      <td>0</td>\n",
       "      <td>0</td>\n",
       "      <td>0</td>\n",
       "      <td>1</td>\n",
       "      <td>0</td>\n",
       "      <td>0</td>\n",
       "      <td>0</td>\n",
       "      <td>0.0</td>\n",
       "    </tr>\n",
       "    <tr>\n",
       "      <th>KKU213</th>\n",
       "      <td>ICC</td>\n",
       "      <td>ACH-001538</td>\n",
       "      <td>1.0</td>\n",
       "      <td>0</td>\n",
       "      <td>0</td>\n",
       "      <td>0</td>\n",
       "      <td>1</td>\n",
       "      <td>0</td>\n",
       "      <td>0</td>\n",
       "      <td>0</td>\n",
       "      <td>0.0</td>\n",
       "    </tr>\n",
       "    <tr>\n",
       "      <th>ICC10</th>\n",
       "      <td>ICC</td>\n",
       "      <td>ACH-001834</td>\n",
       "      <td>1.0</td>\n",
       "      <td>0</td>\n",
       "      <td>0</td>\n",
       "      <td>0</td>\n",
       "      <td>0</td>\n",
       "      <td>0</td>\n",
       "      <td>0</td>\n",
       "      <td>0</td>\n",
       "      <td>1.0</td>\n",
       "    </tr>\n",
       "    <tr>\n",
       "      <th>ICC10-6</th>\n",
       "      <td>ICC</td>\n",
       "      <td>ACH-001835</td>\n",
       "      <td>1.0</td>\n",
       "      <td>0</td>\n",
       "      <td>0</td>\n",
       "      <td>0</td>\n",
       "      <td>0</td>\n",
       "      <td>0</td>\n",
       "      <td>0</td>\n",
       "      <td>0</td>\n",
       "      <td>1.0</td>\n",
       "    </tr>\n",
       "    <tr>\n",
       "      <th>ICC10-8</th>\n",
       "      <td>ICC</td>\n",
       "      <td>ACH-001836</td>\n",
       "      <td>1.0</td>\n",
       "      <td>0</td>\n",
       "      <td>0</td>\n",
       "      <td>0</td>\n",
       "      <td>0</td>\n",
       "      <td>0</td>\n",
       "      <td>0</td>\n",
       "      <td>0</td>\n",
       "      <td>1.0</td>\n",
       "    </tr>\n",
       "    <tr>\n",
       "      <th>ICC12</th>\n",
       "      <td>ICC</td>\n",
       "      <td>ACH-001838</td>\n",
       "      <td>1.0</td>\n",
       "      <td>0</td>\n",
       "      <td>1</td>\n",
       "      <td>0</td>\n",
       "      <td>0</td>\n",
       "      <td>0</td>\n",
       "      <td>0</td>\n",
       "      <td>0</td>\n",
       "      <td>0.0</td>\n",
       "    </tr>\n",
       "    <tr>\n",
       "      <th>ICC13-7</th>\n",
       "      <td>ICC</td>\n",
       "      <td>ACH-001839</td>\n",
       "      <td>1.0</td>\n",
       "      <td>0</td>\n",
       "      <td>0</td>\n",
       "      <td>0</td>\n",
       "      <td>0</td>\n",
       "      <td>0</td>\n",
       "      <td>0</td>\n",
       "      <td>0</td>\n",
       "      <td>1.0</td>\n",
       "    </tr>\n",
       "    <tr>\n",
       "      <th>ICC2</th>\n",
       "      <td>ICC</td>\n",
       "      <td>ACH-001842</td>\n",
       "      <td>1.0</td>\n",
       "      <td>0</td>\n",
       "      <td>0</td>\n",
       "      <td>0</td>\n",
       "      <td>0</td>\n",
       "      <td>1</td>\n",
       "      <td>0</td>\n",
       "      <td>0</td>\n",
       "      <td>0.0</td>\n",
       "    </tr>\n",
       "    <tr>\n",
       "      <th>ICC4</th>\n",
       "      <td>ICC</td>\n",
       "      <td>ACH-001844</td>\n",
       "      <td>1.0</td>\n",
       "      <td>0</td>\n",
       "      <td>0</td>\n",
       "      <td>0</td>\n",
       "      <td>0</td>\n",
       "      <td>0</td>\n",
       "      <td>0</td>\n",
       "      <td>0</td>\n",
       "      <td>0.0</td>\n",
       "    </tr>\n",
       "    <tr>\n",
       "      <th>ICC8</th>\n",
       "      <td>ICC</td>\n",
       "      <td>ACH-001848</td>\n",
       "      <td>1.0</td>\n",
       "      <td>0</td>\n",
       "      <td>1</td>\n",
       "      <td>0</td>\n",
       "      <td>0</td>\n",
       "      <td>1</td>\n",
       "      <td>0</td>\n",
       "      <td>0</td>\n",
       "      <td>0.0</td>\n",
       "    </tr>\n",
       "    <tr>\n",
       "      <th>ICC9</th>\n",
       "      <td>ICC</td>\n",
       "      <td>ACH-001849</td>\n",
       "      <td>1.0</td>\n",
       "      <td>0</td>\n",
       "      <td>0</td>\n",
       "      <td>0</td>\n",
       "      <td>1</td>\n",
       "      <td>0</td>\n",
       "      <td>0</td>\n",
       "      <td>0</td>\n",
       "      <td>0.0</td>\n",
       "    </tr>\n",
       "    <tr>\n",
       "      <th>HKGZCC</th>\n",
       "      <td>ICC</td>\n",
       "      <td>ACH-001852</td>\n",
       "      <td>1.0</td>\n",
       "      <td>0</td>\n",
       "      <td>0</td>\n",
       "      <td>0</td>\n",
       "      <td>1</td>\n",
       "      <td>0</td>\n",
       "      <td>0</td>\n",
       "      <td>0</td>\n",
       "      <td>0.0</td>\n",
       "    </tr>\n",
       "    <tr>\n",
       "      <th>KMCH1</th>\n",
       "      <td>ICC</td>\n",
       "      <td>ACH-001853</td>\n",
       "      <td>1.0</td>\n",
       "      <td>0</td>\n",
       "      <td>0</td>\n",
       "      <td>0</td>\n",
       "      <td>0</td>\n",
       "      <td>0</td>\n",
       "      <td>0</td>\n",
       "      <td>0</td>\n",
       "      <td>0.0</td>\n",
       "    </tr>\n",
       "    <tr>\n",
       "      <th>RBE</th>\n",
       "      <td>ICC</td>\n",
       "      <td>ACH-001856</td>\n",
       "      <td>1.0</td>\n",
       "      <td>0</td>\n",
       "      <td>0</td>\n",
       "      <td>1</td>\n",
       "      <td>1</td>\n",
       "      <td>0</td>\n",
       "      <td>0</td>\n",
       "      <td>0</td>\n",
       "      <td>0.0</td>\n",
       "    </tr>\n",
       "    <tr>\n",
       "      <th>SG231</th>\n",
       "      <td>ICC</td>\n",
       "      <td>ACH-001857</td>\n",
       "      <td>1.0</td>\n",
       "      <td>0</td>\n",
       "      <td>0</td>\n",
       "      <td>0</td>\n",
       "      <td>0</td>\n",
       "      <td>0</td>\n",
       "      <td>0</td>\n",
       "      <td>0</td>\n",
       "      <td>0.0</td>\n",
       "    </tr>\n",
       "    <tr>\n",
       "      <th>SSP25</th>\n",
       "      <td>ICC</td>\n",
       "      <td>ACH-001858</td>\n",
       "      <td>1.0</td>\n",
       "      <td>0</td>\n",
       "      <td>0</td>\n",
       "      <td>0</td>\n",
       "      <td>0</td>\n",
       "      <td>0</td>\n",
       "      <td>0</td>\n",
       "      <td>0</td>\n",
       "      <td>0.0</td>\n",
       "    </tr>\n",
       "    <tr>\n",
       "      <th>TKKK</th>\n",
       "      <td>ICC</td>\n",
       "      <td>ACH-001863</td>\n",
       "      <td>1.0</td>\n",
       "      <td>1</td>\n",
       "      <td>0</td>\n",
       "      <td>0</td>\n",
       "      <td>0</td>\n",
       "      <td>0</td>\n",
       "      <td>0</td>\n",
       "      <td>0</td>\n",
       "      <td>0.0</td>\n",
       "    </tr>\n",
       "    <tr>\n",
       "      <th>YSCCC</th>\n",
       "      <td>ICC</td>\n",
       "      <td>ACH-001864</td>\n",
       "      <td>1.0</td>\n",
       "      <td>0</td>\n",
       "      <td>0</td>\n",
       "      <td>0</td>\n",
       "      <td>0</td>\n",
       "      <td>1</td>\n",
       "      <td>1</td>\n",
       "      <td>0</td>\n",
       "      <td>0.0</td>\n",
       "    </tr>\n",
       "    <tr>\n",
       "      <th>CCLP1</th>\n",
       "      <td>ICC</td>\n",
       "      <td>ACH-001959</td>\n",
       "      <td>1.0</td>\n",
       "      <td>0</td>\n",
       "      <td>0</td>\n",
       "      <td>0</td>\n",
       "      <td>0</td>\n",
       "      <td>0</td>\n",
       "      <td>0</td>\n",
       "      <td>1</td>\n",
       "      <td>0.0</td>\n",
       "    </tr>\n",
       "    <tr>\n",
       "      <th>CCSW1</th>\n",
       "      <td>ICC</td>\n",
       "      <td>ACH-001960</td>\n",
       "      <td>1.0</td>\n",
       "      <td>0</td>\n",
       "      <td>0</td>\n",
       "      <td>0</td>\n",
       "      <td>0</td>\n",
       "      <td>0</td>\n",
       "      <td>0</td>\n",
       "      <td>0</td>\n",
       "      <td>0.0</td>\n",
       "    </tr>\n",
       "  </tbody>\n",
       "</table>\n",
       "</div>"
      ]
     },
     "execution_count": 5,
     "metadata": {},
     "output_type": "execute_result"
    }
   ],
   "execution_count": 5
  },
  {
   "metadata": {},
   "cell_type": "markdown",
   "source": ""
  },
  {
   "cell_type": "markdown",
   "source": "## DepMap mutation data",
   "metadata": {
    "collapsed": false
   }
  },
  {
   "cell_type": "markdown",
   "source": [
    "We match the mutation and the CRISPR dataset."
   ],
   "metadata": {
    "collapsed": false
   }
  },
  {
   "cell_type": "code",
   "source": [
    "ccle_hotsop_file = 'Additional_Data/DepMap/OmicsSomaticMutationsMatrixHotspot_internal-23q2-1e49_v97_filtered_by_public_ids.csv'\n",
    "ccle_mut_hot_df = MyLib.load_csv(ccle_hotsop_file, index_col=0)\n",
    "\n",
    "ccle_dam_file = 'Additional_Data/DepMap/OmicsSomaticMutationsMatrixDamaging_internal-23q2-1e49_v97_filtered_by_public_ids.csv'\n",
    "ccle_mut_dam_df = MyLib.load_csv(ccle_dam_file, index_col=0)\n",
    "\n",
    "ids = sorted(set(ccle_mut_dam_df.index).intersection(ccle_mut_hot_df.index).intersection(ccle_cripsr_df.index).difference(upset_df['DepMap_ID']))\n",
    "ccle_mut_hot_df = ccle_mut_hot_df.loc[ids,:].astype(int).replace(2,1)\n",
    "ccle_mut_dam_df = ccle_mut_dam_df.loc[ids,:].astype(int).replace(2,1)\n",
    "ccle_cripsr_filtered_df = ccle_cripsr_df.loc[ids, :]\n",
    "ccle_cripsr_filtered_df.shape"
   ],
   "metadata": {
    "collapsed": false,
    "ExecuteTime": {
     "end_time": "2024-08-06T21:47:04.313799Z",
     "start_time": "2024-08-06T21:46:57.877851Z"
    }
   },
   "outputs": [
    {
     "name": "stdout",
     "output_type": "stream",
     "text": [
      "input_data/Additional_Data/DepMap/OmicsSomaticMutationsMatrixHotspot_internal-23q2-1e49_v97_filtered_by_public_ids.csv  is loaded, shape:  (2015, 467)\n",
      "\n",
      "input_data/Additional_Data/DepMap/OmicsSomaticMutationsMatrixDamaging_internal-23q2-1e49_v97_filtered_by_public_ids.csv  is loaded, shape:  (2015, 17390)\n",
      "\n"
     ]
    },
    {
     "data": {
      "text/plain": [
       "(1061, 18443)"
      ]
     },
     "execution_count": 6,
     "metadata": {},
     "output_type": "execute_result"
    }
   ],
   "execution_count": 6
  },
  {
   "metadata": {},
   "cell_type": "markdown",
   "source": "# Cancer types"
  },
  {
   "metadata": {
    "ExecuteTime": {
     "end_time": "2024-08-06T21:47:04.342346Z",
     "start_time": "2024-08-06T21:47:04.314726Z"
    }
   },
   "cell_type": "code",
   "source": [
    "model_file = 'Additional_Data/DepMap/Model_filtered_by_rna_ids.csv'\n",
    "raw_model_df = MyLib.load_csv(model_file, index_col=0)\n",
    "raw_model_df = raw_model_df[raw_model_df['OncotreePrimaryDisease']!='Non-Cancerous']\n",
    "other_ccle_model_df = raw_model_df[~raw_model_df.index.isin(upset_df['DepMap_ID'])]\n",
    "other_ccle_crispr_model_df = other_ccle_model_df[other_ccle_model_df.index.isin(other_ccle_crispr_df.index)]\n",
    "\n",
    "other_ccle_crispr_model_df['OncotreePrimaryDisease'] = other_ccle_crispr_model_df['OncotreePrimaryDisease'].apply(lambda x: x.strip())\n",
    "gp = other_ccle_crispr_model_df.groupby('OncotreePrimaryDisease')\n",
    "print('Number of primary disease types:', len(gp))\n",
    "\n",
    "other_ccle_crispr_model_df['OncotreeCode'] = other_ccle_crispr_model_df['OncotreeCode'].apply(lambda x: x.strip())\n",
    "gp = other_ccle_crispr_model_df.groupby('OncotreeCode')\n",
    "print('Number of cancer types:', len(gp))\n",
    "\n",
    "other_ccle_crispr_model_df['OncotreeLineage'] = other_ccle_crispr_model_df['OncotreeLineage'].apply(lambda x: x.strip())\n",
    "gp = other_ccle_crispr_model_df.groupby('OncotreeLineage')\n",
    "print('Number of tissue types:', len(gp))"
   ],
   "outputs": [
    {
     "name": "stdout",
     "output_type": "stream",
     "text": [
      "input_data/Additional_Data/DepMap/Model_filtered_by_rna_ids.csv  is loaded, shape:  (1299, 29)\n",
      "\n",
      "Number of primary disease types: 60\n",
      "Number of cancer types: 124\n",
      "Number of tissue types: 25\n"
     ]
    }
   ],
   "execution_count": 7
  },
  {
   "cell_type": "markdown",
   "source": [
    "# BRAF"
   ],
   "metadata": {
    "collapsed": false
   }
  },
  {
   "cell_type": "code",
   "source": [
    "color_dic = {'Other DepMap':{ 'WT Other DepMap': '#CEDEE0','MT Other DepMap': '#006666'}, 'BTC':{'WT BTC': '#CED5E0','MT BTC': '#2C4E78'}}\n",
    "color_rug_dic = color_dic\n",
    "gene = 'BRAF (673)'\n",
    "\n",
    "btc_upset= upset_df[upset_df[gene]==1]\n",
    "df1, p_val1 = Utils.prepare_data_for_hue_plots(gene_effect_df[[gene]], btc_upset, label1='MT BTC', label2='WT BTC', id_vars='Cell_line')\n",
    "df1['level']='BTC'\n",
    "\n",
    "ccle_mut_df= ccle_mut_dam_df.loc[:, [gene]] | ccle_mut_hot_df.loc[:, [gene]]\n",
    "ccle_other_mt = ccle_mut_df[ccle_mut_df[gene]==1]\n",
    "df2, p_val2 = Utils.prepare_data_for_hue_plots(ccle_cripsr_filtered_df[[gene]], ccle_other_mt, label1='MT Other DepMap', label2='WT Other DepMap')\n",
    "df2 = df2.rename(columns={'index':'Cell_line', 'variable':'Gene'})\n",
    "df2['level']='Other DepMap'\n",
    "\n",
    "df = pd.concat([df1, df2], axis=0)\n",
    "df = df.rename(columns={'value': 'Gene Effect'})\n",
    "\n",
    "df['mutation'] = df['Group'].apply(lambda x:'MT' if 'MT' in x else 'WT')\n",
    "fisher_pval = list(Utils.fisher_test(df, x_col='level', y_col='mutation').values())[0]\n",
    "\n",
    "MyVisualization.ridge_plot(df, color_dic, color_rug_dic, col_hue='Group', col_level='level', col_score='Gene Effect', xlim_right=0.7, xlim_left=-4.5, aspect=3, title='BRAF', p_value=fisher_pval,  p_value_l=[p_val1, p_val2], vline_offset=0.3, border=False, rug_plot_height=.5, xtick_step=1, file_name=gene)"
   ],
   "metadata": {
    "collapsed": false,
    "ExecuteTime": {
     "end_time": "2024-08-06T21:47:04.875Z",
     "start_time": "2024-08-06T21:47:04.343174Z"
    }
   },
   "outputs": [
    {
     "name": "stdout",
     "output_type": "stream",
     "text": [
      "mutation      MT   WT\n",
      "level                \n",
      "BTC            2   37\n",
      "Other DepMap  76  985\n",
      "Odds Ratio: 0.7005689900426743\n",
      "P-value: 1.0\n",
      "There is no significant association between BTC and Other DepMap\n",
      "===============================\n",
      "Figure2/output_fig2/BRAF (673)_ridge_plot.pdf\n"
     ]
    },
    {
     "data": {
      "text/plain": [
       "<Figure size 216x144 with 0 Axes>"
      ]
     },
     "metadata": {},
     "output_type": "display_data"
    },
    {
     "data": {
      "text/plain": [
       "<Figure size 216x144 with 2 Axes>"
      ],
      "image/png": "[encoded data removed]"
     },
     "metadata": {
      "image/png": {
       "width": 308,
       "height": 165
      }
     },
     "output_type": "display_data"
    }
   ],
   "execution_count": 8
  },
  {
   "cell_type": "markdown",
   "source": [
    "# BRAF Mutants"
   ],
   "metadata": {
    "collapsed": false
   }
  },
  {
   "cell_type": "code",
   "source": [
    "color_dic = {'Other MT':{'Other MT': '#CED5E0'},'Hotspot MT': {'Hotspot MT':'#2C4E78'}}\n",
    "color_rug_dic = color_dic\n",
    "gene = 'BRAF (673)'\n",
    "btc_upset= upset_df[upset_df[gene]==1]\n",
    "btc_upset"
   ],
   "metadata": {
    "collapsed": false,
    "ExecuteTime": {
     "end_time": "2024-08-06T21:47:04.892571Z",
     "start_time": "2024-08-06T21:47:04.875982Z"
    }
   },
   "outputs": [
    {
     "data": {
      "text/plain": [
       "          Subtype   DepMap_ID  RNA  ERBB2 (2064)  BRAF (673)  IDH1 (3417)  \\\n",
       "Cell_line                                                                   \n",
       "ICC12         ICC  ACH-001838  1.0             0           1            0   \n",
       "ICC8          ICC  ACH-001848  1.0             0           1            0   \n",
       "\n",
       "           KRAS (3845)  AKT1 (207)  PIK3CA (5290)  CTNNB1 (1499)  FGFR2 (2263)  \n",
       "Cell_line                                                                       \n",
       "ICC12                0           0              0              0           0.0  \n",
       "ICC8                 0           1              0              0           0.0  "
      ],
      "text/html": [
       "<div>\n",
       "<style scoped>\n",
       "    .dataframe tbody tr th:only-of-type {\n",
       "        vertical-align: middle;\n",
       "    }\n",
       "\n",
       "    .dataframe tbody tr th {\n",
       "        vertical-align: top;\n",
       "    }\n",
       "\n",
       "    .dataframe thead th {\n",
       "        text-align: right;\n",
       "    }\n",
       "</style>\n",
       "<table border=\"1\" class=\"dataframe\">\n",
       "  <thead>\n",
       "    <tr style=\"text-align: right;\">\n",
       "      <th></th>\n",
       "      <th>Subtype</th>\n",
       "      <th>DepMap_ID</th>\n",
       "      <th>RNA</th>\n",
       "      <th>ERBB2 (2064)</th>\n",
       "      <th>BRAF (673)</th>\n",
       "      <th>IDH1 (3417)</th>\n",
       "      <th>KRAS (3845)</th>\n",
       "      <th>AKT1 (207)</th>\n",
       "      <th>PIK3CA (5290)</th>\n",
       "      <th>CTNNB1 (1499)</th>\n",
       "      <th>FGFR2 (2263)</th>\n",
       "    </tr>\n",
       "    <tr>\n",
       "      <th>Cell_line</th>\n",
       "      <th></th>\n",
       "      <th></th>\n",
       "      <th></th>\n",
       "      <th></th>\n",
       "      <th></th>\n",
       "      <th></th>\n",
       "      <th></th>\n",
       "      <th></th>\n",
       "      <th></th>\n",
       "      <th></th>\n",
       "      <th></th>\n",
       "    </tr>\n",
       "  </thead>\n",
       "  <tbody>\n",
       "    <tr>\n",
       "      <th>ICC12</th>\n",
       "      <td>ICC</td>\n",
       "      <td>ACH-001838</td>\n",
       "      <td>1.0</td>\n",
       "      <td>0</td>\n",
       "      <td>1</td>\n",
       "      <td>0</td>\n",
       "      <td>0</td>\n",
       "      <td>0</td>\n",
       "      <td>0</td>\n",
       "      <td>0</td>\n",
       "      <td>0.0</td>\n",
       "    </tr>\n",
       "    <tr>\n",
       "      <th>ICC8</th>\n",
       "      <td>ICC</td>\n",
       "      <td>ACH-001848</td>\n",
       "      <td>1.0</td>\n",
       "      <td>0</td>\n",
       "      <td>1</td>\n",
       "      <td>0</td>\n",
       "      <td>0</td>\n",
       "      <td>1</td>\n",
       "      <td>0</td>\n",
       "      <td>0</td>\n",
       "      <td>0.0</td>\n",
       "    </tr>\n",
       "  </tbody>\n",
       "</table>\n",
       "</div>"
      ]
     },
     "execution_count": 9,
     "metadata": {},
     "output_type": "execute_result"
    }
   ],
   "execution_count": 9
  },
  {
   "cell_type": "code",
   "source": [
    "maf_file = 'Main_Data/Mutations/all_cell_lines_mut_type.csv'\n",
    "maf_df = MyLib.load_csv(maf_file)\n",
    "braf_mutants_df = maf_df[(maf_df['HugoSymbol'] == 'BRAF') & (maf_df['ModelID'].isin(upset_df.index))]\n",
    "braf_mutants_df"
   ],
   "metadata": {
    "collapsed": false,
    "ExecuteTime": {
     "end_time": "2024-08-06T21:47:04.985135Z",
     "start_time": "2024-08-06T21:47:04.893439Z"
    }
   },
   "outputs": [
    {
     "name": "stdout",
     "output_type": "stream",
     "text": [
      "input_data/Main_Data/Mutations/all_cell_lines_mut_type.csv  is loaded, shape:  (127291, 7)\n",
      "\n"
     ]
    },
    {
     "data": {
      "text/plain": [
       "      HugoSymbol  VariantInfo    ModelID EntrezGeneID ProteinChange  \\\n",
       "7153        BRAF     MISSENSE  TGBC18TKB        673.0       p.I582L   \n",
       "7154        BRAF  SPLICE_SITE  TGBC18TKB        673.0       p.N581T   \n",
       "11788       BRAF     MISSENSE      CCSW1        673.0       p.I755F   \n",
       "19281       BRAF     MISSENSE       ICC8        673.0       p.V600E   \n",
       "24612       BRAF     MISSENSE      KMCH1        673.0       p.L485W   \n",
       "34187       BRAF     MISSENSE      ICC12        673.0       p.V600E   \n",
       "\n",
       "       CCLEDeleterious  CosmicHotspot  \n",
       "7153               0.0            0.0  \n",
       "7154               0.0            1.0  \n",
       "11788              0.0            0.0  \n",
       "19281              0.0            1.0  \n",
       "24612              0.0            0.0  \n",
       "34187              0.0            1.0  "
      ],
      "text/html": [
       "<div>\n",
       "<style scoped>\n",
       "    .dataframe tbody tr th:only-of-type {\n",
       "        vertical-align: middle;\n",
       "    }\n",
       "\n",
       "    .dataframe tbody tr th {\n",
       "        vertical-align: top;\n",
       "    }\n",
       "\n",
       "    .dataframe thead th {\n",
       "        text-align: right;\n",
       "    }\n",
       "</style>\n",
       "<table border=\"1\" class=\"dataframe\">\n",
       "  <thead>\n",
       "    <tr style=\"text-align: right;\">\n",
       "      <th></th>\n",
       "      <th>HugoSymbol</th>\n",
       "      <th>VariantInfo</th>\n",
       "      <th>ModelID</th>\n",
       "      <th>EntrezGeneID</th>\n",
       "      <th>ProteinChange</th>\n",
       "      <th>CCLEDeleterious</th>\n",
       "      <th>CosmicHotspot</th>\n",
       "    </tr>\n",
       "  </thead>\n",
       "  <tbody>\n",
       "    <tr>\n",
       "      <th>7153</th>\n",
       "      <td>BRAF</td>\n",
       "      <td>MISSENSE</td>\n",
       "      <td>TGBC18TKB</td>\n",
       "      <td>673.0</td>\n",
       "      <td>p.I582L</td>\n",
       "      <td>0.0</td>\n",
       "      <td>0.0</td>\n",
       "    </tr>\n",
       "    <tr>\n",
       "      <th>7154</th>\n",
       "      <td>BRAF</td>\n",
       "      <td>SPLICE_SITE</td>\n",
       "      <td>TGBC18TKB</td>\n",
       "      <td>673.0</td>\n",
       "      <td>p.N581T</td>\n",
       "      <td>0.0</td>\n",
       "      <td>1.0</td>\n",
       "    </tr>\n",
       "    <tr>\n",
       "      <th>11788</th>\n",
       "      <td>BRAF</td>\n",
       "      <td>MISSENSE</td>\n",
       "      <td>CCSW1</td>\n",
       "      <td>673.0</td>\n",
       "      <td>p.I755F</td>\n",
       "      <td>0.0</td>\n",
       "      <td>0.0</td>\n",
       "    </tr>\n",
       "    <tr>\n",
       "      <th>19281</th>\n",
       "      <td>BRAF</td>\n",
       "      <td>MISSENSE</td>\n",
       "      <td>ICC8</td>\n",
       "      <td>673.0</td>\n",
       "      <td>p.V600E</td>\n",
       "      <td>0.0</td>\n",
       "      <td>1.0</td>\n",
       "    </tr>\n",
       "    <tr>\n",
       "      <th>24612</th>\n",
       "      <td>BRAF</td>\n",
       "      <td>MISSENSE</td>\n",
       "      <td>KMCH1</td>\n",
       "      <td>673.0</td>\n",
       "      <td>p.L485W</td>\n",
       "      <td>0.0</td>\n",
       "      <td>0.0</td>\n",
       "    </tr>\n",
       "    <tr>\n",
       "      <th>34187</th>\n",
       "      <td>BRAF</td>\n",
       "      <td>MISSENSE</td>\n",
       "      <td>ICC12</td>\n",
       "      <td>673.0</td>\n",
       "      <td>p.V600E</td>\n",
       "      <td>0.0</td>\n",
       "      <td>1.0</td>\n",
       "    </tr>\n",
       "  </tbody>\n",
       "</table>\n",
       "</div>"
      ]
     },
     "execution_count": 10,
     "metadata": {},
     "output_type": "execute_result"
    }
   ],
   "execution_count": 10
  },
  {
   "cell_type": "code",
   "source": [
    "other_braf_mts = sorted(set(braf_mutants_df['ModelID'].unique()).difference(set(btc_upset.index)))\n",
    "braf_gene_effect_df = gene_effect_df.loc[braf_mutants_df['ModelID'].unique(), [gene]]\n",
    "braf_gene_effect_df"
   ],
   "metadata": {
    "collapsed": false,
    "ExecuteTime": {
     "end_time": "2024-08-06T21:47:05.003401Z",
     "start_time": "2024-08-06T21:47:04.986140Z"
    }
   },
   "outputs": [
    {
     "data": {
      "text/plain": [
       "Gene       BRAF (673)\n",
       "Cell_line            \n",
       "TGBC18TKB   -0.295059\n",
       "CCSW1       -0.056798\n",
       "ICC8        -1.368768\n",
       "KMCH1       -0.159549\n",
       "ICC12       -1.920641"
      ],
      "text/html": [
       "<div>\n",
       "<style scoped>\n",
       "    .dataframe tbody tr th:only-of-type {\n",
       "        vertical-align: middle;\n",
       "    }\n",
       "\n",
       "    .dataframe tbody tr th {\n",
       "        vertical-align: top;\n",
       "    }\n",
       "\n",
       "    .dataframe thead th {\n",
       "        text-align: right;\n",
       "    }\n",
       "</style>\n",
       "<table border=\"1\" class=\"dataframe\">\n",
       "  <thead>\n",
       "    <tr style=\"text-align: right;\">\n",
       "      <th>Gene</th>\n",
       "      <th>BRAF (673)</th>\n",
       "    </tr>\n",
       "    <tr>\n",
       "      <th>Cell_line</th>\n",
       "      <th></th>\n",
       "    </tr>\n",
       "  </thead>\n",
       "  <tbody>\n",
       "    <tr>\n",
       "      <th>TGBC18TKB</th>\n",
       "      <td>-0.295059</td>\n",
       "    </tr>\n",
       "    <tr>\n",
       "      <th>CCSW1</th>\n",
       "      <td>-0.056798</td>\n",
       "    </tr>\n",
       "    <tr>\n",
       "      <th>ICC8</th>\n",
       "      <td>-1.368768</td>\n",
       "    </tr>\n",
       "    <tr>\n",
       "      <th>KMCH1</th>\n",
       "      <td>-0.159549</td>\n",
       "    </tr>\n",
       "    <tr>\n",
       "      <th>ICC12</th>\n",
       "      <td>-1.920641</td>\n",
       "    </tr>\n",
       "  </tbody>\n",
       "</table>\n",
       "</div>"
      ]
     },
     "execution_count": 11,
     "metadata": {},
     "output_type": "execute_result"
    }
   ],
   "execution_count": 11
  },
  {
   "cell_type": "code",
   "source": [
    "df, p_value = Utils.prepare_data_for_hue_plots(braf_gene_effect_df, btc_upset, label1='Hotspot MT', label2='Other MT', id_vars='Cell_line')\n",
    "\n",
    "df = df.rename(columns={'value': 'Gene Effect'})\n",
    "MyVisualization.ridge_plot(df, color_dic, color_rug_dic, col_hue='Group', col_level='Group', col_score='Gene Effect', title='BRAF', p_value_l=[p_value], vline_offset=0.18, rug_plot_height=0.5, xlim_right=.5, xlim_left=-3.5, file_name=gene+'_MUT')"
   ],
   "metadata": {
    "collapsed": false,
    "ExecuteTime": {
     "end_time": "2024-08-06T21:47:05.322629Z",
     "start_time": "2024-08-06T21:47:05.004412Z"
    }
   },
   "outputs": [
    {
     "name": "stdout",
     "output_type": "stream",
     "text": [
      "Figure2/output_fig2/BRAF (673)_MUT_ridge_plot.pdf\n"
     ]
    },
    {
     "data": {
      "text/plain": [
       "<Figure size 216x144 with 0 Axes>"
      ]
     },
     "metadata": {},
     "output_type": "display_data"
    },
    {
     "data": {
      "text/plain": [
       "<Figure size 216x144 with 2 Axes>"
      ],
      "image/png": "[encoded data removed]"
     },
     "metadata": {
      "image/png": {
       "width": 273,
       "height": 146
      }
     },
     "output_type": "display_data"
    }
   ],
   "execution_count": 12
  },
  {
   "cell_type": "markdown",
   "source": [
    "# IDH1"
   ],
   "metadata": {
    "collapsed": false
   }
  },
  {
   "cell_type": "code",
   "source": [
    "color_dic = {'Other DepMap':{'WT Other DepMap': '#CEDEE0', 'MT Other DepMap': '#006666'}, 'BTC':{ 'WT BTC': '#CED5E0', 'MT BTC': '#2C4E78'}}\n",
    "color_rug_dic = color_dic\n",
    "gene = 'IDH1 (3417)'\n",
    "\n",
    "btc_upset= upset_df[upset_df[gene]==1]\n",
    "df1, p_val1 = Utils.prepare_data_for_hue_plots(gene_effect_df[[gene]], btc_upset, label1='MT BTC', label2='WT BTC', id_vars='Cell_line')\n",
    "df1['level']='BTC'\n",
    "\n",
    "ccle_mut_df= ccle_mut_dam_df.loc[:, [gene]] | ccle_mut_hot_df.loc[:, [gene]]\n",
    "ccle_other_mt = ccle_mut_df[ccle_mut_df[gene]==1]\n",
    "df2, p_val2 = Utils.prepare_data_for_hue_plots(ccle_cripsr_filtered_df[[gene]], ccle_other_mt, label1='MT Other DepMap', label2='WT Other DepMap')\n",
    "df2 = df2.rename(columns={'index':'Cell_line', 'variable':'Gene'})\n",
    "df2['level']='Other DepMap'\n",
    "\n",
    "df = pd.concat([df1, df2], axis=0)\n",
    "df = df.rename(columns={'value': 'Gene Effect'})\n",
    "\n",
    "df['mutation'] = df['Group'].apply(lambda x:'MT' if 'MT' in x else 'WT')\n",
    "fisher_pval = list(Utils.fisher_test(df, x_col='level', y_col='mutation').values())[0]\n",
    "\n",
    "MyVisualization.ridge_plot(df, color_dic, color_rug_dic, col_hue='Group', col_level='level', col_score='Gene Effect', xlim_right=0.8, xlim_left=-1.5,  title='IDH1',x_pval=.17, p_value=fisher_pval, p_value_l=[p_val1, p_val2], vline_offset=0.26, dist_alpha=1, rug_plot_height=0.7, xtick_step=.5, file_name=gene)"
   ],
   "metadata": {
    "collapsed": false,
    "ExecuteTime": {
     "end_time": "2024-08-06T21:47:05.764774Z",
     "start_time": "2024-08-06T21:47:05.324552Z"
    }
   },
   "outputs": [
    {
     "name": "stdout",
     "output_type": "stream",
     "text": [
      "mutation      MT    WT\n",
      "level                 \n",
      "BTC            2    37\n",
      "Other DepMap   8  1053\n",
      "Odds Ratio: 7.114864864864865\n",
      "P-value: 0.046063221573701955\n",
      "There is a significant association between BTC and Other DepMap\n",
      "===============================\n",
      "Figure2/output_fig2/IDH1 (3417)_ridge_plot.pdf\n"
     ]
    },
    {
     "data": {
      "text/plain": [
       "<Figure size 216x144 with 0 Axes>"
      ]
     },
     "metadata": {},
     "output_type": "display_data"
    },
    {
     "data": {
      "text/plain": [
       "<Figure size 216x144 with 2 Axes>"
      ],
      "image/png": "[encoded data removed]"
     },
     "metadata": {
      "image/png": {
       "width": 315,
       "height": 165
      }
     },
     "output_type": "display_data"
    }
   ],
   "execution_count": 13
  },
  {
   "cell_type": "markdown",
   "source": [
    "# KRAS"
   ],
   "metadata": {
    "collapsed": false
   }
  },
  {
   "cell_type": "code",
   "source": [
    "color_dic = {'Other DepMap':{ 'WT Other DepMap': '#CEDEE0','MT Other DepMap': '#006666'}, 'BTC':{'WT BTC': '#CED5E0','MT BTC': '#2C4E78'}}\n",
    "color_rug_dic = color_dic\n",
    "gene = 'KRAS (3845)'\n",
    "\n",
    "btc_upset= upset_df[upset_df[gene]==1]\n",
    "df1, p_val1 = Utils.prepare_data_for_hue_plots(gene_effect_df[[gene]], btc_upset, label1='MT BTC', label2='WT BTC', id_vars='Cell_line')\n",
    "df1['level']='BTC'\n",
    "\n",
    "ccle_mut_df= ccle_mut_dam_df.loc[:, [gene]] | ccle_mut_hot_df.loc[:, [gene]]\n",
    "ccle_other_mt = ccle_mut_df[ccle_mut_df[gene]==1]\n",
    "df2, p_val2 = Utils.prepare_data_for_hue_plots(ccle_cripsr_filtered_df[[gene]], ccle_other_mt, label1='MT Other DepMap', label2='WT Other DepMap')\n",
    "df2 = df2.rename(columns={'index':'Cell_line', 'variable':'Gene'})\n",
    "df2['level']='Other DepMap'\n",
    "\n",
    "df = pd.concat([df1, df2], axis=0)\n",
    "df = df.rename(columns={'value': 'Gene Effect'})\n",
    "\n",
    "df['mutation'] = df['Group'].apply(lambda x:'MT' if 'MT' in x else 'WT')\n",
    "fisher_pval = list(Utils.fisher_test(df, x_col='level', y_col='mutation').values())[0]\n",
    "\n",
    "MyVisualization.ridge_plot(df, color_dic, color_rug_dic, col_hue='Group', col_level='level', col_score='Gene Effect', rug_plot_height=0.3,  xlim_left=-6, xlim_right=0.7, xtick_step=1.5, title='KRAS', x_pval=.17, p_value=fisher_pval, p_value_l=[p_val1, p_val2], vline_offset=0.26, file_name=gene, aspect=3.5)"
   ],
   "metadata": {
    "collapsed": false,
    "ExecuteTime": {
     "end_time": "2024-08-06T21:47:06.188217Z",
     "start_time": "2024-08-06T21:47:05.767708Z"
    }
   },
   "outputs": [
    {
     "name": "stdout",
     "output_type": "stream",
     "text": [
      "mutation       MT   WT\n",
      "level                 \n",
      "BTC            13   26\n",
      "Other DepMap  150  911\n",
      "Odds Ratio: 3.0366666666666666\n",
      "P-value: 0.004216352743185979\n",
      "There is a significant association between BTC and Other DepMap\n",
      "===============================\n",
      "Figure2/output_fig2/KRAS (3845)_ridge_plot.pdf\n"
     ]
    },
    {
     "data": {
      "text/plain": [
       "<Figure size 216x144 with 0 Axes>"
      ]
     },
     "metadata": {},
     "output_type": "display_data"
    },
    {
     "data": {
      "text/plain": [
       "<Figure size 216x144 with 2 Axes>"
      ],
      "image/png": "[encoded data removed]"
     },
     "metadata": {
      "image/png": {
       "width": 320,
       "height": 165
      }
     },
     "output_type": "display_data"
    }
   ],
   "execution_count": 14
  },
  {
   "metadata": {
    "ExecuteTime": {
     "end_time": "2024-08-06T21:47:06.207082Z",
     "start_time": "2024-08-06T21:47:06.189312Z"
    }
   },
   "cell_type": "code",
   "source": "btc_upset",
   "outputs": [
    {
     "data": {
      "text/plain": [
       "          Subtype   DepMap_ID  RNA  ERBB2 (2064)  BRAF (673)  IDH1 (3417)  \\\n",
       "Cell_line                                                                   \n",
       "SNU869         AC  ACH-000182  1.0             0           0            0   \n",
       "TGBC52TKB      AC  ACH-001862  1.0             0           0            0   \n",
       "EGI1          ECC  ACH-001494  1.0             0           0            0   \n",
       "KKU100        ECC  ACH-001536  1.0             0           0            0   \n",
       "ECC4          ECC  ACH-001843  1.0             0           0            0   \n",
       "CCC5          ECC  ACH-002647  NaN             0           0            0   \n",
       "NOZ           GBC  ACH-001607  1.0             0           0            0   \n",
       "G415          GBC  ACH-001850  1.0             0           0            0   \n",
       "HUCCT1        ICC  ACH-000976  1.0             0           0            0   \n",
       "KKU213        ICC  ACH-001538  1.0             0           0            0   \n",
       "ICC9          ICC  ACH-001849  1.0             0           0            0   \n",
       "HKGZCC        ICC  ACH-001852  1.0             0           0            0   \n",
       "RBE           ICC  ACH-001856  1.0             0           0            1   \n",
       "\n",
       "           KRAS (3845)  AKT1 (207)  PIK3CA (5290)  CTNNB1 (1499)  FGFR2 (2263)  \n",
       "Cell_line                                                                       \n",
       "SNU869               1           0              1              1           0.0  \n",
       "TGBC52TKB            1           0              0              0           0.0  \n",
       "EGI1                 1           0              0              0           0.0  \n",
       "KKU100               1           0              0              0           0.0  \n",
       "ECC4                 1           0              0              1           0.0  \n",
       "CCC5                 1           0              0              0           0.0  \n",
       "NOZ                  1           0              0              0           0.0  \n",
       "G415                 1           0              0              0           0.0  \n",
       "HUCCT1               1           0              0              0           0.0  \n",
       "KKU213               1           0              0              0           0.0  \n",
       "ICC9                 1           0              0              0           0.0  \n",
       "HKGZCC               1           0              0              0           0.0  \n",
       "RBE                  1           0              0              0           0.0  "
      ],
      "text/html": [
       "<div>\n",
       "<style scoped>\n",
       "    .dataframe tbody tr th:only-of-type {\n",
       "        vertical-align: middle;\n",
       "    }\n",
       "\n",
       "    .dataframe tbody tr th {\n",
       "        vertical-align: top;\n",
       "    }\n",
       "\n",
       "    .dataframe thead th {\n",
       "        text-align: right;\n",
       "    }\n",
       "</style>\n",
       "<table border=\"1\" class=\"dataframe\">\n",
       "  <thead>\n",
       "    <tr style=\"text-align: right;\">\n",
       "      <th></th>\n",
       "      <th>Subtype</th>\n",
       "      <th>DepMap_ID</th>\n",
       "      <th>RNA</th>\n",
       "      <th>ERBB2 (2064)</th>\n",
       "      <th>BRAF (673)</th>\n",
       "      <th>IDH1 (3417)</th>\n",
       "      <th>KRAS (3845)</th>\n",
       "      <th>AKT1 (207)</th>\n",
       "      <th>PIK3CA (5290)</th>\n",
       "      <th>CTNNB1 (1499)</th>\n",
       "      <th>FGFR2 (2263)</th>\n",
       "    </tr>\n",
       "    <tr>\n",
       "      <th>Cell_line</th>\n",
       "      <th></th>\n",
       "      <th></th>\n",
       "      <th></th>\n",
       "      <th></th>\n",
       "      <th></th>\n",
       "      <th></th>\n",
       "      <th></th>\n",
       "      <th></th>\n",
       "      <th></th>\n",
       "      <th></th>\n",
       "      <th></th>\n",
       "    </tr>\n",
       "  </thead>\n",
       "  <tbody>\n",
       "    <tr>\n",
       "      <th>SNU869</th>\n",
       "      <td>AC</td>\n",
       "      <td>ACH-000182</td>\n",
       "      <td>1.0</td>\n",
       "      <td>0</td>\n",
       "      <td>0</td>\n",
       "      <td>0</td>\n",
       "      <td>1</td>\n",
       "      <td>0</td>\n",
       "      <td>1</td>\n",
       "      <td>1</td>\n",
       "      <td>0.0</td>\n",
       "    </tr>\n",
       "    <tr>\n",
       "      <th>TGBC52TKB</th>\n",
       "      <td>AC</td>\n",
       "      <td>ACH-001862</td>\n",
       "      <td>1.0</td>\n",
       "      <td>0</td>\n",
       "      <td>0</td>\n",
       "      <td>0</td>\n",
       "      <td>1</td>\n",
       "      <td>0</td>\n",
       "      <td>0</td>\n",
       "      <td>0</td>\n",
       "      <td>0.0</td>\n",
       "    </tr>\n",
       "    <tr>\n",
       "      <th>EGI1</th>\n",
       "      <td>ECC</td>\n",
       "      <td>ACH-001494</td>\n",
       "      <td>1.0</td>\n",
       "      <td>0</td>\n",
       "      <td>0</td>\n",
       "      <td>0</td>\n",
       "      <td>1</td>\n",
       "      <td>0</td>\n",
       "      <td>0</td>\n",
       "      <td>0</td>\n",
       "      <td>0.0</td>\n",
       "    </tr>\n",
       "    <tr>\n",
       "      <th>KKU100</th>\n",
       "      <td>ECC</td>\n",
       "      <td>ACH-001536</td>\n",
       "      <td>1.0</td>\n",
       "      <td>0</td>\n",
       "      <td>0</td>\n",
       "      <td>0</td>\n",
       "      <td>1</td>\n",
       "      <td>0</td>\n",
       "      <td>0</td>\n",
       "      <td>0</td>\n",
       "      <td>0.0</td>\n",
       "    </tr>\n",
       "    <tr>\n",
       "      <th>ECC4</th>\n",
       "      <td>ECC</td>\n",
       "      <td>ACH-001843</td>\n",
       "      <td>1.0</td>\n",
       "      <td>0</td>\n",
       "      <td>0</td>\n",
       "      <td>0</td>\n",
       "      <td>1</td>\n",
       "      <td>0</td>\n",
       "      <td>0</td>\n",
       "      <td>1</td>\n",
       "      <td>0.0</td>\n",
       "    </tr>\n",
       "    <tr>\n",
       "      <th>CCC5</th>\n",
       "      <td>ECC</td>\n",
       "      <td>ACH-002647</td>\n",
       "      <td>NaN</td>\n",
       "      <td>0</td>\n",
       "      <td>0</td>\n",
       "      <td>0</td>\n",
       "      <td>1</td>\n",
       "      <td>0</td>\n",
       "      <td>0</td>\n",
       "      <td>0</td>\n",
       "      <td>0.0</td>\n",
       "    </tr>\n",
       "    <tr>\n",
       "      <th>NOZ</th>\n",
       "      <td>GBC</td>\n",
       "      <td>ACH-001607</td>\n",
       "      <td>1.0</td>\n",
       "      <td>0</td>\n",
       "      <td>0</td>\n",
       "      <td>0</td>\n",
       "      <td>1</td>\n",
       "      <td>0</td>\n",
       "      <td>0</td>\n",
       "      <td>0</td>\n",
       "      <td>0.0</td>\n",
       "    </tr>\n",
       "    <tr>\n",
       "      <th>G415</th>\n",
       "      <td>GBC</td>\n",
       "      <td>ACH-001850</td>\n",
       "      <td>1.0</td>\n",
       "      <td>0</td>\n",
       "      <td>0</td>\n",
       "      <td>0</td>\n",
       "      <td>1</td>\n",
       "      <td>0</td>\n",
       "      <td>0</td>\n",
       "      <td>0</td>\n",
       "      <td>0.0</td>\n",
       "    </tr>\n",
       "    <tr>\n",
       "      <th>HUCCT1</th>\n",
       "      <td>ICC</td>\n",
       "      <td>ACH-000976</td>\n",
       "      <td>1.0</td>\n",
       "      <td>0</td>\n",
       "      <td>0</td>\n",
       "      <td>0</td>\n",
       "      <td>1</td>\n",
       "      <td>0</td>\n",
       "      <td>0</td>\n",
       "      <td>0</td>\n",
       "      <td>0.0</td>\n",
       "    </tr>\n",
       "    <tr>\n",
       "      <th>KKU213</th>\n",
       "      <td>ICC</td>\n",
       "      <td>ACH-001538</td>\n",
       "      <td>1.0</td>\n",
       "      <td>0</td>\n",
       "      <td>0</td>\n",
       "      <td>0</td>\n",
       "      <td>1</td>\n",
       "      <td>0</td>\n",
       "      <td>0</td>\n",
       "      <td>0</td>\n",
       "      <td>0.0</td>\n",
       "    </tr>\n",
       "    <tr>\n",
       "      <th>ICC9</th>\n",
       "      <td>ICC</td>\n",
       "      <td>ACH-001849</td>\n",
       "      <td>1.0</td>\n",
       "      <td>0</td>\n",
       "      <td>0</td>\n",
       "      <td>0</td>\n",
       "      <td>1</td>\n",
       "      <td>0</td>\n",
       "      <td>0</td>\n",
       "      <td>0</td>\n",
       "      <td>0.0</td>\n",
       "    </tr>\n",
       "    <tr>\n",
       "      <th>HKGZCC</th>\n",
       "      <td>ICC</td>\n",
       "      <td>ACH-001852</td>\n",
       "      <td>1.0</td>\n",
       "      <td>0</td>\n",
       "      <td>0</td>\n",
       "      <td>0</td>\n",
       "      <td>1</td>\n",
       "      <td>0</td>\n",
       "      <td>0</td>\n",
       "      <td>0</td>\n",
       "      <td>0.0</td>\n",
       "    </tr>\n",
       "    <tr>\n",
       "      <th>RBE</th>\n",
       "      <td>ICC</td>\n",
       "      <td>ACH-001856</td>\n",
       "      <td>1.0</td>\n",
       "      <td>0</td>\n",
       "      <td>0</td>\n",
       "      <td>1</td>\n",
       "      <td>1</td>\n",
       "      <td>0</td>\n",
       "      <td>0</td>\n",
       "      <td>0</td>\n",
       "      <td>0.0</td>\n",
       "    </tr>\n",
       "  </tbody>\n",
       "</table>\n",
       "</div>"
      ]
     },
     "execution_count": 15,
     "metadata": {},
     "output_type": "execute_result"
    }
   ],
   "execution_count": 15
  },
  {
   "cell_type": "markdown",
   "source": [
    "# PIK3CA"
   ],
   "metadata": {
    "collapsed": false
   }
  },
  {
   "cell_type": "code",
   "source": [
    "color_dic = {'Other DepMap':{ 'WT Other DepMap': '#CEDEE0','MT Other DepMap': '#006666'}, 'BTC':{'WT BTC': '#CED5E0','MT BTC': '#2C4E78'}}\n",
    "color_rug_dic = color_dic\n",
    "gene = 'PIK3CA (5290)'\n",
    "\n",
    "btc_upset= upset_df[upset_df[gene]==1]\n",
    "df1, p_val1 = Utils.prepare_data_for_hue_plots(gene_effect_df[[gene]], btc_upset, label1='MT BTC', label2='WT BTC', id_vars='Cell_line')\n",
    "df1['level']='BTC'\n",
    "\n",
    "ccle_mut_df = ccle_mut_dam_df.loc[:, [gene]] | ccle_mut_hot_df.loc[:, [gene]]\n",
    "ccle_other_mt = ccle_mut_df[ccle_mut_df[gene]==1]\n",
    "df2, p_val2 = Utils.prepare_data_for_hue_plots(ccle_cripsr_filtered_df[[gene]], ccle_other_mt, label1='MT Other DepMap', label2='WT Other DepMap')\n",
    "df2 = df2.rename(columns={'index':'Cell_line', 'variable':'Gene'})\n",
    "df2['level']='Other DepMap'\n",
    "\n",
    "df = pd.concat([df1, df2], axis=0)\n",
    "df = df.rename(columns={'value': 'Gene Effect'})\n",
    "\n",
    "df['mutation'] = df['Group'].apply(lambda x:'MT' if 'MT' in x else 'WT')\n",
    "fisher_pval = list(Utils.fisher_test(df, x_col='level', y_col='mutation').values())[0]\n",
    "\n",
    "MyVisualization.ridge_plot(df, color_dic, color_rug_dic, col_hue='Group', col_level='level', col_score='Gene Effect', rug_plot_height=0.3,  xlim_left=-4.9, xlim_right=0.5, aspect=4, title='PIK3CA',x_pval=.11, p_value=fisher_pval, p_value_l=[p_val1, p_val2], vline_offset=0.28, xtick_step=1, file_name=gene)"
   ],
   "metadata": {
    "collapsed": false,
    "ExecuteTime": {
     "end_time": "2024-08-06T21:47:06.629662Z",
     "start_time": "2024-08-06T21:47:06.207991Z"
    }
   },
   "outputs": [
    {
     "name": "stdout",
     "output_type": "stream",
     "text": [
      "mutation       MT   WT\n",
      "level                 \n",
      "BTC             2   37\n",
      "Other DepMap  108  953\n",
      "Odds Ratio: 0.476976976976977\n",
      "P-value: 0.41956193246671614\n",
      "There is no significant association between BTC and Other DepMap\n",
      "===============================\n",
      "Figure2/output_fig2/PIK3CA (5290)_ridge_plot.pdf\n"
     ]
    },
    {
     "data": {
      "text/plain": [
       "<Figure size 216x144 with 0 Axes>"
      ]
     },
     "metadata": {},
     "output_type": "display_data"
    },
    {
     "data": {
      "text/plain": [
       "<Figure size 216x144 with 2 Axes>"
      ],
      "image/png": "[encoded data removed]"
     },
     "metadata": {
      "image/png": {
       "width": 317,
       "height": 165
      }
     },
     "output_type": "display_data"
    }
   ],
   "execution_count": 16
  },
  {
   "cell_type": "markdown",
   "source": [
    "# CTNNB1"
   ],
   "metadata": {
    "collapsed": false
   }
  },
  {
   "cell_type": "code",
   "source": [
    "color_dic = {'Other DepMap':{ 'WT Other DepMap': '#CEDEE0','MT Other DepMap': '#006666'}, 'BTC':{'WT BTC': '#CED5E0','MT BTC': '#2C4E78'}}\n",
    "color_rug_dic = color_dic\n",
    "gene = 'CTNNB1 (1499)'\n",
    "\n",
    "btc_upset= upset_df[upset_df[gene]==1]\n",
    "df1, p_val1 = Utils.prepare_data_for_hue_plots(gene_effect_df[[gene]], btc_upset, label1='MT BTC', label2='WT BTC', id_vars='Cell_line')\n",
    "df1['level']='BTC'\n",
    "\n",
    "ccle_mut_df = ccle_mut_dam_df.loc[:, [gene]] | ccle_mut_hot_df.loc[:, [gene]]\n",
    "ccle_other_mt = ccle_mut_df[ccle_mut_df[gene]==1]\n",
    "df2, p_val2 = Utils.prepare_data_for_hue_plots(ccle_cripsr_filtered_df[[gene]], ccle_other_mt, label1='MT Other DepMap', label2='WT Other DepMap')\n",
    "df2 = df2.rename(columns={'index':'Cell_line', 'variable':'Gene'})\n",
    "df2['level']='Other DepMap'\n",
    "\n",
    "df = pd.concat([df1, df2], axis=0)\n",
    "df = df.rename(columns={'value': 'Gene Effect'})\n",
    "\n",
    "df['mutation'] = df['Group'].apply(lambda x:'MT' if 'MT' in x else 'WT')\n",
    "fisher_pval = list(Utils.fisher_test(df, x_col='level', y_col='mutation').values())[0]\n",
    "\n",
    "MyVisualization.ridge_plot(df, color_dic, color_rug_dic, col_hue='Group', col_level='level', col_score='Gene Effect', rug_plot_height=0.4,  xlim_left=-4.4, xlim_right=0.5, aspect=4, title='CTNNB1', x_pval=.16, p_value=fisher_pval, p_value_l=[p_val1, p_val2], vline_offset=0.28, xtick_step=1, file_name=gene)"
   ],
   "metadata": {
    "collapsed": false,
    "ExecuteTime": {
     "end_time": "2024-08-06T21:47:07.002383Z",
     "start_time": "2024-08-06T21:47:06.630517Z"
    }
   },
   "outputs": [
    {
     "name": "stdout",
     "output_type": "stream",
     "text": [
      "mutation      MT    WT\n",
      "level                 \n",
      "BTC            4    35\n",
      "Other DepMap  20  1041\n",
      "Odds Ratio: 5.948571428571428\n",
      "P-value: 0.008601783090213491\n",
      "There is a significant association between BTC and Other DepMap\n",
      "===============================\n",
      "Figure2/output_fig2/CTNNB1 (1499)_ridge_plot.pdf\n"
     ]
    },
    {
     "data": {
      "text/plain": [
       "<Figure size 216x144 with 0 Axes>"
      ]
     },
     "metadata": {},
     "output_type": "display_data"
    },
    {
     "data": {
      "text/plain": [
       "<Figure size 216x144 with 2 Axes>"
      ],
      "image/png": "[encoded data removed]"
     },
     "metadata": {
      "image/png": {
       "width": 317,
       "height": 165
      }
     },
     "output_type": "display_data"
    }
   ],
   "execution_count": 17
  },
  {
   "cell_type": "markdown",
   "source": [
    "# ERBB2"
   ],
   "metadata": {
    "collapsed": false
   }
  },
  {
   "cell_type": "markdown",
   "source": [
    "For ERBB2 we consider both the mutation and the copy number amplification values. There are two cell lines:\n",
    "TGBC18TKB:   -1.937256 (Hot MT and Gain)\n",
    "TKKK:        -1.131098 (Gain)"
   ],
   "metadata": {
    "collapsed": false
   }
  },
  {
   "cell_type": "code",
   "source": [
    "color_dic = {'Other':{'Other': '#CED5E0'},'Gain': {'Gain':'#2C4E78'}}\n",
    "color_rug_dic = color_dic\n",
    "gene = 'ERBB2 (2064)'\n",
    "\n",
    "btc_upset= upset_df[upset_df[gene]==1]\n",
    "df, p_value = Utils.prepare_data_for_hue_plots(gene_effect_df[[gene]], btc_upset, label1='Gain', label2='Other', id_vars='Cell_line')\n",
    "df = df.rename(columns={'value': 'Gene Effect'})\n",
    "MyVisualization.ridge_plot(df, color_dic, color_rug_dic, col_hue='Group', col_level='Group', col_score='Gene Effect', aspect=4, title='ERBB2', p_value_l=[p_value], vline_offset=0.2, rug_plot_height=0.3, xlim_right=.5, xlim_left=-3.5, xtick_step=1, levels_fontsize=7, label_fontsize=9, tick_fontsize=8,  file_name=gene)"
   ],
   "metadata": {
    "collapsed": false,
    "ExecuteTime": {
     "end_time": "2024-08-06T21:47:07.284684Z",
     "start_time": "2024-08-06T21:47:07.003475Z"
    }
   },
   "outputs": [
    {
     "name": "stdout",
     "output_type": "stream",
     "text": [
      "Figure2/output_fig2/ERBB2 (2064)_ridge_plot.pdf\n"
     ]
    },
    {
     "data": {
      "text/plain": [
       "<Figure size 216x144 with 0 Axes>"
      ]
     },
     "metadata": {},
     "output_type": "display_data"
    },
    {
     "data": {
      "text/plain": [
       "<Figure size 216x144 with 2 Axes>"
      ],
      "image/png": "[encoded data removed]"
     },
     "metadata": {
      "image/png": {
       "width": 252,
       "height": 148
      }
     },
     "output_type": "display_data"
    }
   ],
   "execution_count": 18
  },
  {
   "cell_type": "markdown",
   "source": [
    "# FGFR2"
   ],
   "metadata": {
    "collapsed": false
   }
  },
  {
   "cell_type": "code",
   "source": [
    "ccle_cripsr_filtered_df = ccle_cripsr_df[~ccle_cripsr_df.index.isin(upset_df['DepMap_ID'])]\n",
    "ccle_fusion_file = 'Additional_Data/DepMap/OmicsFusionFiltered_internal-23q2-1e49_v97_filtered_by_public_ids.csv'\n",
    "ccle_fusion_df = MyLib.load_csv(ccle_fusion_file)\n",
    "ccle_fusion_filtered_df = ccle_fusion_df[ccle_fusion_df['ModelID'].isin(ccle_cripsr_df.index)]\n",
    "ccle_fusion_filtered_df = ccle_fusion_filtered_df[~ccle_fusion_filtered_df['ModelID'].isin(upset_df['DepMap_ID'])]"
   ],
   "metadata": {
    "collapsed": false,
    "ExecuteTime": {
     "end_time": "2024-08-06T21:47:07.493196Z",
     "start_time": "2024-08-06T21:47:07.285589Z"
    }
   },
   "outputs": [
    {
     "name": "stdout",
     "output_type": "stream",
     "text": [
      "input_data/Additional_Data/DepMap/OmicsFusionFiltered_internal-23q2-1e49_v97_filtered_by_public_ids.csv  is loaded, shape:  (51267, 17)\n",
      "\n"
     ]
    }
   ],
   "execution_count": 19
  },
  {
   "cell_type": "code",
   "source": [
    "ccle_fusion_filtered_df[['left', 'right']] = ccle_fusion_filtered_df['FusionName'].str.split('--', expand=True)\n",
    "ccle_fusion_filtered_df = ccle_fusion_filtered_df[['ModelID', 'FusionName', 'left', 'right']]\n",
    "ccle_fusion_filtered_df = ccle_fusion_filtered_df[(ccle_fusion_filtered_df['left'] == 'FGFR2')|(ccle_fusion_filtered_df['right'] == 'FGFR2')].copy()\n",
    "ccle_fusion_filtered_df.set_index('ModelID', drop=True, inplace=True)\n",
    "ccle_fusion_filtered_df = ccle_fusion_filtered_df[~ccle_fusion_filtered_df.index.duplicated(keep='first')]\n",
    "ccle_fusion_filtered_df.shape"
   ],
   "metadata": {
    "collapsed": false,
    "ExecuteTime": {
     "end_time": "2024-08-06T21:47:07.621277Z",
     "start_time": "2024-08-06T21:47:07.495398Z"
    }
   },
   "outputs": [
    {
     "data": {
      "text/plain": [
       "(9, 3)"
      ]
     },
     "execution_count": 20,
     "metadata": {},
     "output_type": "execute_result"
    }
   ],
   "execution_count": 20
  },
  {
   "cell_type": "markdown",
   "source": [
    "There are 9 Mutant non-btc ccle cell lines"
   ],
   "metadata": {
    "collapsed": false
   }
  },
  {
   "cell_type": "code",
   "source": [
    "color_dic = {'Other DepMap':{ 'WT Other DepMap': '#CEDEE0','MT Other DepMap': '#006666'}, 'BTC':{'WT BTC': '#CED5E0','MT BTC': '#2C4E78'}}\n",
    "color_rug_dic = color_dic\n",
    "gene = 'FGFR2 (2263)'\n",
    "\n",
    "btc_upset= upset_df[upset_df[gene]==1]\n",
    "df1, p_val1 = Utils.prepare_data_for_hue_plots(gene_effect_df[[gene]], btc_upset, label1='MT BTC', label2='WT BTC', id_vars='Cell_line')\n",
    "df1['level']='BTC'\n",
    "\n",
    "df2, p_val2 = Utils.prepare_data_for_hue_plots(ccle_cripsr_filtered_df[[gene]], ccle_fusion_filtered_df, label1='MT Other DepMap', label2='WT Other DepMap')\n",
    "df2 = df2.rename(columns={'index':'Cell_line', 'variable':'Gene'})\n",
    "df2['level']='Other DepMap'\n",
    "\n",
    "df = pd.concat([df1, df2], axis=0)\n",
    "df = df.rename(columns={'value': 'Gene Effect'})\n",
    "\n",
    "df['mutation'] = df['Group'].apply(lambda x:'MT' if 'MT' in x else 'WT')\n",
    "fisher_pval = list(Utils.fisher_test(df, x_col='level', y_col='mutation').values())[0]\n",
    "\n",
    "MyVisualization.ridge_plot(df, color_dic, color_rug_dic, col_hue='Group', col_level='level', col_score='Gene Effect', rug_plot_height=0.6,  xlim_left=-4, xlim_right=.9, aspect=4, title='FGFR2', x_pval=.16, p_value=fisher_pval, p_value_l=[p_val1, p_val2], vline_offset=0.28, xtick_step=1, file_name=gene)\n"
   ],
   "metadata": {
    "collapsed": false,
    "ExecuteTime": {
     "end_time": "2024-08-06T21:47:08.004765Z",
     "start_time": "2024-08-06T21:47:07.624212Z"
    }
   },
   "outputs": [
    {
     "name": "stdout",
     "output_type": "stream",
     "text": [
      "mutation      MT    WT\n",
      "level                 \n",
      "BTC            4    35\n",
      "Other DepMap   9  1052\n",
      "Odds Ratio: 13.35873015873016\n",
      "P-value: 0.0007681609333390968\n",
      "There is a significant association between BTC and Other DepMap\n",
      "===============================\n",
      "Figure2/output_fig2/FGFR2 (2263)_ridge_plot.pdf\n"
     ]
    },
    {
     "data": {
      "text/plain": [
       "<Figure size 216x144 with 0 Axes>"
      ]
     },
     "metadata": {},
     "output_type": "display_data"
    },
    {
     "data": {
      "text/plain": [
       "<Figure size 216x144 with 2 Axes>"
      ],
      "image/png": "[encoded data removed]"
     },
     "metadata": {
      "image/png": {
       "width": 315,
       "height": 165
      }
     },
     "output_type": "display_data"
    }
   ],
   "execution_count": 21
  },
  {
   "cell_type": "markdown",
   "source": [
    "# PTPN11"
   ],
   "metadata": {
    "collapsed": false
   }
  },
  {
   "cell_type": "code",
   "source": [
    "color_dic = {'FGFR2-WT BTC': {'FGFR2-WT BTC': '#CED5E0'}, 'FGFR2-Fusion BTC':{'FGFR2-Fusion BTC': '#2C4E78'}}\n",
    "color_rug_dic = color_dic\n",
    "mut_gene = 'FGFR2 (2263)'\n",
    "dep_gene = 'PTPN11 (5781)'\n",
    "btc_upset= upset_df[upset_df[mut_gene]==1]\n",
    "df, p_value = Utils.prepare_data_for_hue_plots(gene_effect_df[[dep_gene]], btc_upset, label1='FGFR2-Fusion BTC', label2='FGFR2-WT BTC', id_vars='Cell_line')\n",
    "df = df.rename(columns={'value': 'Gene Effect'})\n",
    "\n",
    "MyVisualization.ridge_plot(df, color_dic, color_rug_dic, col_hue='Group', col_level='Group', col_score='Gene Effect',  xlim_left=-4.8, xlim_right=.3, aspect=4, title='PTPN11',  p_value_l=[p_value], vline_offset=0.19, rug_plot_height=0.2, xtick_step=1,levels_fontsize=7, label_fontsize=9, tick_fontsize=8, file_name='PTPN11_btc')"
   ],
   "metadata": {
    "collapsed": false,
    "ExecuteTime": {
     "end_time": "2024-08-06T21:47:08.339954Z",
     "start_time": "2024-08-06T21:47:08.005632Z"
    }
   },
   "outputs": [
    {
     "name": "stdout",
     "output_type": "stream",
     "text": [
      "Figure2/output_fig2/PTPN11_btc_ridge_plot.pdf\n"
     ]
    },
    {
     "data": {
      "text/plain": [
       "<Figure size 216x144 with 0 Axes>"
      ]
     },
     "metadata": {},
     "output_type": "display_data"
    },
    {
     "data": {
      "text/plain": [
       "<Figure size 216x144 with 2 Axes>"
      ],
      "image/png": "[encoded data removed]"
     },
     "metadata": {
      "image/png": {
       "width": 323,
       "height": 148
      }
     },
     "output_type": "display_data"
    }
   ],
   "execution_count": 22
  },
  {
   "cell_type": "code",
   "source": [
    "color_dic = {'FGFR2-WT Other DepMap': {'FGFR2-WT Other DepMap': '#CEDEE0'}, 'FGFR2-Fusion BTC':{'FGFR2-Fusion BTC': '#2C4E78'}}\n",
    "color_rug_dic = color_dic\n",
    "mut_gene = 'FGFR2 (2263)'\n",
    "dep_gene = 'PTPN11 (5781)'\n",
    "btc_upset= upset_df[upset_df[mut_gene]==1]\n",
    "other_ccle_wt = ccle_cripsr_filtered_df[[dep_gene]][~ccle_cripsr_filtered_df[[dep_gene]].index.isin(ccle_fusion_filtered_df.index)]\n",
    "btc_mt = gene_effect_df[[dep_gene]][gene_effect_df[[dep_gene]].index.isin(btc_upset.index)]\n",
    "temp_df = pd.concat([other_ccle_wt, btc_mt], axis=0)\n",
    "df, p_value = Utils.prepare_data_for_hue_plots(temp_df, btc_upset, label1='FGFR2-Fusion BTC', label2='FGFR2-WT Other DepMap')\n",
    "df = df.rename(columns={'value': 'Gene Effect'})\n",
    "\n",
    "MyVisualization.ridge_plot(df, color_dic, color_rug_dic, col_hue='Group', col_level='Group', col_score='Gene Effect',  xlim_left=-4.99, xlim_right=.3, aspect=4, title='PTPN11',  p_value_l=[p_value], vline_offset=0.19, rug_plot_height=0.2, xtick_step=1,levels_fontsize=7, label_fontsize=9, tick_fontsize=8, file_name='PTPN11_other_ccle')"
   ],
   "metadata": {
    "collapsed": false,
    "ExecuteTime": {
     "end_time": "2024-08-06T21:47:08.698072Z",
     "start_time": "2024-08-06T21:47:08.340915Z"
    }
   },
   "outputs": [
    {
     "name": "stdout",
     "output_type": "stream",
     "text": [
      "Figure2/output_fig2/PTPN11_other_ccle_ridge_plot.pdf\n"
     ]
    },
    {
     "data": {
      "text/plain": [
       "<Figure size 216x144 with 0 Axes>"
      ]
     },
     "metadata": {},
     "output_type": "display_data"
    },
    {
     "data": {
      "text/plain": [
       "<Figure size 216x144 with 2 Axes>"
      ],
      "image/png": "[encoded data removed]"
     },
     "metadata": {
      "image/png": {
       "width": 357,
       "height": 148
      }
     },
     "output_type": "display_data"
    }
   ],
   "execution_count": 23
  },
  {
   "cell_type": "markdown",
   "source": [
    "# PRMT5"
   ],
   "metadata": {
    "collapsed": false
   }
  },
  {
   "cell_type": "code",
   "source": [
    "cnv_file = 'Additional_Data/Selected_Lists/goi_cnv.csv'\n",
    "cnv_df = MyLib.load_csv(cnv_file)\n",
    "cell_lines_dic = Utils.get_cell_lines_by_cnv(cnv_df, upset_df, 'MTAP')\n",
    "for k in cell_lines_dic:\n",
    "    if k=='Homo_loss':\n",
    "        print(f'CNV: {k}, cell: {cell_lines_dic[k]}')\n",
    "        upset_df.loc[cell_lines_dic[k], 'MTAP (4507)'] = 1"
   ],
   "metadata": {
    "collapsed": false,
    "ExecuteTime": {
     "end_time": "2024-08-06T21:47:08.716265Z",
     "start_time": "2024-08-06T21:47:08.699254Z"
    }
   },
   "outputs": [
    {
     "name": "stdout",
     "output_type": "stream",
     "text": [
      "input_data/Additional_Data/Selected_Lists/goi_cnv.csv  is loaded, shape:  (74, 4)\n",
      "\n",
      "CNV: Homo_loss, cell: ['CCC5', 'EGI1', 'GB2', 'ICC8', 'KKU100', 'RBE', 'TFK1', 'YSCCC']\n"
     ]
    }
   ],
   "execution_count": 24
  },
  {
   "cell_type": "code",
   "source": [
    "color_dic = {'Other': {'Other': '#CED5E0'}, 'MTAP Loss':{'MTAP Loss': '#2C4E78'}}\n",
    "color_rug_dic = color_dic\n",
    "mut_gene = 'MTAP (4507)'\n",
    "dep_gene = 'PRMT5 (10419)'\n",
    "btc_upset= upset_df[upset_df[mut_gene]==1]\n",
    "df, p_value = Utils.prepare_data_for_hue_plots(gene_effect_df[[dep_gene]], btc_upset, label1='MTAP Loss', label2='Other', id_vars='Cell_line')\n",
    "df = df.rename(columns={'value': 'Gene Effect'})\n",
    "\n",
    "\n",
    "MyVisualization.ridge_plot(df, color_dic, color_rug_dic, col_hue='Group', col_level='Group', col_score='Gene Effect',  xlim_left=-2.6, xlim_right=-.23, aspect=4, title='PRMT5',  p_value_l=[p_value], vline_offset=0.19, rug_plot_height=0.4, xtick_step=0.5, levels_fontsize=7, label_fontsize=9, tick_fontsize=8, file_name='PRMT5')"
   ],
   "metadata": {
    "collapsed": false,
    "ExecuteTime": {
     "end_time": "2024-08-06T21:47:09.012884Z",
     "start_time": "2024-08-06T21:47:08.717159Z"
    }
   },
   "outputs": [
    {
     "name": "stdout",
     "output_type": "stream",
     "text": [
      "Figure2/output_fig2/PRMT5_ridge_plot.pdf\n"
     ]
    },
    {
     "data": {
      "text/plain": [
       "<Figure size 216x144 with 0 Axes>"
      ]
     },
     "metadata": {},
     "output_type": "display_data"
    },
    {
     "data": {
      "text/plain": [
       "<Figure size 216x144 with 2 Axes>"
      ],
      "image/png": "[encoded data removed]"
     },
     "metadata": {
      "image/png": {
       "width": 282,
       "height": 148
      }
     },
     "output_type": "display_data"
    }
   ],
   "execution_count": 25
  },
  {
   "cell_type": "code",
   "source": [],
   "metadata": {
    "collapsed": false,
    "ExecuteTime": {
     "end_time": "2024-08-06T21:47:09.015641Z",
     "start_time": "2024-08-06T21:47:09.013799Z"
    }
   },
   "outputs": [],
   "execution_count": 25
  }
 ],
 "metadata": {
  "kernelspec": {
   "display_name": "Python 3 (ipykernel)",
   "language": "python",
   "name": "python3"
  },
  "language_info": {
   "codemirror_mode": {
    "name": "ipython",
    "version": 3
   },
   "file_extension": ".py",
   "mimetype": "text/x-python",
   "name": "python",
   "nbconvert_exporter": "python",
   "pygments_lexer": "ipython3",
   "version": "3.10.6"
  }
 },
 "nbformat": 4,
 "nbformat_minor": 4
}
