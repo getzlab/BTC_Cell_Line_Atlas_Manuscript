{
 "cells": [
  {
   "cell_type": "code",
   "outputs": [],
   "source": [
    "# NOTE: GISTIC was run on the GenePattern portal. This notebook was downloaded from there as well, in order to demonstrate the parameters\n",
    "# https://notebook.genepattern.org/"
   ],
   "metadata": {
    "collapsed": false
   },
   "id": "f3390426e5a9b11f",
   "execution_count": null
  },
  {
   "cell_type": "code",
   "execution_count": 2,
   "id": "crude-cause",
   "metadata": {
    "genepattern": {
     "name": "Login",
     "server": "https://cloud.genepattern.org/gp",
     "type": "auth"
    }
   },
   "outputs": [
    {
     "data": {
      "application/vnd.jupyter.widget-view+json": {
       "model_id": "598015726e2b4ca4ac2d29135c071e9a",
       "version_major": 2,
       "version_minor": 0
      },
      "text/plain": [
       "GPAuthWidget()"
      ]
     },
     "metadata": {},
     "output_type": "display_data"
    }
   ],
   "source": [
    "# Requires GenePattern Notebook: pip install genepattern-notebook\n",
    "import gp\n",
    "import genepattern\n",
    "\n",
    "# Username and password removed for security reasons.\n",
    "genepattern.display(genepattern.session.register(\"https://cloud.genepattern.org/gp\", \"\", \"\"))"
   ]
  },
  {
   "cell_type": "markdown",
   "id": "marked-strand",
   "metadata": {},
   "source": [
    "BTC"
   ]
  },
  {
   "cell_type": "code",
   "execution_count": 3,
   "id": "turkish-trademark",
   "metadata": {
    "genepattern": {
     "description": "Genomic Identification of Significant Targets in Cancer (version 2.0.23)",
     "name": "GISTIC_2.0",
     "param_values": {
      "amplifications.threshold": "0.1",
      "arm.peel": "1",
      "array.list.file": null,
      "cap.val": "1.5",
      "cnv.file": null,
      "confidence.level": "0.99",
      "deletions.threshold": "0.1",
      "focal.length.cutoff": "0.7",
      "gene.collapse.method": null,
      "gene.gistic": null,
      "job.cpuCount": null,
      "job.memory": null,
      "job.walltime": null,
      "join.segment.size": null,
      "logdat": null,
      "markers.file": null,
      "max.sample.segs": "2000",
      "maxspace": null,
      "output.prefix": null,
      "q-value.threshold": "0.1",
      "refgene.file": [
       "https://datasets.genepattern.org/gpftp/module_support_files/GISTIC/refgene/Human_Hg38.UCSC.add_miR.160920.refgene.mat"
      ],
      "remove.X": "0",
      "run.broad.analysis": null,
      "sample.center": null,
      "seg.file": [
       "https://cloud.genepattern.org/gp/users/nkari/tmp/run7759342049338740336.tmp/BTC_omicscnsegmentsprofile_internal-23q2_v97_GISTIC_input.txt"
      ]
     },
     "type": "task"
    }
   },
   "outputs": [
    {
     "data": {
      "application/vnd.jupyter.widget-view+json": {
       "model_id": "2b534c61206943239f47be744d465974",
       "version_major": 2,
       "version_minor": 0
      },
      "text/plain": [
       "GPTaskWidget(lsid='urn:lsid:broad.mit.edu:cancer.software.genepattern.module.analysis:00125')"
      ]
     },
     "metadata": {},
     "output_type": "display_data"
    }
   ],
   "source": [
    "gistic_2_0_task = gp.GPTask(genepattern.session.get(0), 'urn:lsid:broad.mit.edu:cancer.software.genepattern.module.analysis:00125')\n",
    "gistic_2_0_job_spec = gistic_2_0_task.make_job_spec()\n",
    "gistic_2_0_job_spec.set_parameter(\"refgene.file\", \"https://datasets.genepattern.org/gpftp/module_support_files/GISTIC/refgene/Human_Hg38.UCSC.add_miR.160920.refgene.mat\")\n",
    "gistic_2_0_job_spec.set_parameter(\"seg.file\", \"https://cloud.genepattern.org/gp/users/nkari/tmp/run7759342049338740336.tmp/BTC_omicscnsegmentsprofile_internal-23q2_v97_GISTIC_input.txt\")\n",
    "gistic_2_0_job_spec.set_parameter(\"markers.file\", \"\")\n",
    "gistic_2_0_job_spec.set_parameter(\"maxspace\", \"\")\n",
    "gistic_2_0_job_spec.set_parameter(\"array.list.file\", \"\")\n",
    "gistic_2_0_job_spec.set_parameter(\"cnv.file\", \"\")\n",
    "gistic_2_0_job_spec.set_parameter(\"gene.gistic\", \"1\")\n",
    "gistic_2_0_job_spec.set_parameter(\"amplifications.threshold\", \"0.1\")\n",
    "gistic_2_0_job_spec.set_parameter(\"deletions.threshold\", \"0.1\")\n",
    "gistic_2_0_job_spec.set_parameter(\"join.segment.size\", \"\")\n",
    "gistic_2_0_job_spec.set_parameter(\"q-value.threshold\", \"0.1\")\n",
    "gistic_2_0_job_spec.set_parameter(\"remove.X\", \"0\")\n",
    "gistic_2_0_job_spec.set_parameter(\"cap.val\", \"1.5\")\n",
    "gistic_2_0_job_spec.set_parameter(\"confidence.level\", \"0.99\")\n",
    "gistic_2_0_job_spec.set_parameter(\"run.broad.analysis\", \"0\")\n",
    "gistic_2_0_job_spec.set_parameter(\"focal.length.cutoff\", \"0.7\")\n",
    "gistic_2_0_job_spec.set_parameter(\"max.sample.segs\", \"2000\")\n",
    "gistic_2_0_job_spec.set_parameter(\"arm.peel\", \"1\")\n",
    "gistic_2_0_job_spec.set_parameter(\"sample.center\", \"\")\n",
    "gistic_2_0_job_spec.set_parameter(\"gene.collapse.method\", \"extreme\")\n",
    "gistic_2_0_job_spec.set_parameter(\"output.prefix\", \"\")\n",
    "gistic_2_0_job_spec.set_parameter(\"logdat\", \"\")\n",
    "gistic_2_0_job_spec.set_parameter(\"job.memory\", \"4 Gb\")\n",
    "gistic_2_0_job_spec.set_parameter(\"job.walltime\", \"02:00:00\")\n",
    "gistic_2_0_job_spec.set_parameter(\"job.cpuCount\", \"1\")\n",
    "genepattern.display(gistic_2_0_task)\n",
    "\n",
    "\n",
    "job589364 = gp.GPJob(genepattern.session.get(0), 589364)\n",
    "genepattern.display(job589364)"
   ]
  },
  {
   "cell_type": "markdown",
   "id": "capital-vietnamese",
   "metadata": {},
   "source": [
    "TCGA"
   ]
  },
  {
   "cell_type": "code",
   "execution_count": 4,
   "id": "tracked-turkish",
   "metadata": {
    "genepattern": {
     "description": "Genomic Identification of Significant Targets in Cancer (version 2.0.23)",
     "name": "GISTIC_2.0",
     "param_values": {
      "amplifications.threshold": "0.1",
      "arm.peel": "1",
      "array.list.file": null,
      "cap.val": "1.5",
      "cnv.file": null,
      "confidence.level": "0.99",
      "deletions.threshold": "0.1",
      "focal.length.cutoff": "0.7",
      "gene.collapse.method": null,
      "gene.gistic": null,
      "job.cpuCount": null,
      "job.memory": null,
      "job.walltime": null,
      "join.segment.size": null,
      "logdat": null,
      "markers.file": null,
      "max.sample.segs": "2000",
      "maxspace": null,
      "output.prefix": null,
      "q-value.threshold": "0.1",
      "refgene.file": [
       "https://datasets.genepattern.org/gpftp/module_support_files/GISTIC/refgene/Human_Hg19.mat"
      ],
      "remove.X": "0",
      "run.broad.analysis": null,
      "sample.center": null,
      "seg.file": [
       "https://cloud.genepattern.org/gp/users/nkari/tmp/run7215892470169479217.tmp/CHOL.snp__genome_wide_snp_6__broad_mit_edu__Level_3__segmented_scna_minus_germline_cnv_hg19__seg.seg.txt"
      ]
     },
     "type": "task"
    }
   },
   "outputs": [
    {
     "data": {
      "application/vnd.jupyter.widget-view+json": {
       "model_id": "0547e39a8b79499e91ffc280d0682ad2",
       "version_major": 2,
       "version_minor": 0
      },
      "text/plain": [
       "GPTaskWidget(lsid='urn:lsid:broad.mit.edu:cancer.software.genepattern.module.analysis:00125')"
      ]
     },
     "metadata": {},
     "output_type": "display_data"
    }
   ],
   "source": [
    "gistic_2_0_task = gp.GPTask(genepattern.session.get(0), 'urn:lsid:broad.mit.edu:cancer.software.genepattern.module.analysis:00125')\n",
    "gistic_2_0_job_spec = gistic_2_0_task.make_job_spec()\n",
    "gistic_2_0_job_spec.set_parameter(\"refgene.file\", \"https://datasets.genepattern.org/gpftp/module_support_files/GISTIC/refgene/Human_Hg19.mat\")\n",
    "gistic_2_0_job_spec.set_parameter(\"seg.file\", \"https://cloud.genepattern.org/gp/users/nkari/tmp/run7215892470169479217.tmp/CHOL.snp__genome_wide_snp_6__broad_mit_edu__Level_3__segmented_scna_minus_germline_cnv_hg19__seg.seg.txt\")\n",
    "gistic_2_0_job_spec.set_parameter(\"markers.file\", \"\")\n",
    "gistic_2_0_job_spec.set_parameter(\"maxspace\", \"\")\n",
    "gistic_2_0_job_spec.set_parameter(\"array.list.file\", \"\")\n",
    "gistic_2_0_job_spec.set_parameter(\"cnv.file\", \"\")\n",
    "gistic_2_0_job_spec.set_parameter(\"gene.gistic\", \"1\")\n",
    "gistic_2_0_job_spec.set_parameter(\"amplifications.threshold\", \"0.1\")\n",
    "gistic_2_0_job_spec.set_parameter(\"deletions.threshold\", \"0.1\")\n",
    "gistic_2_0_job_spec.set_parameter(\"join.segment.size\", \"\")\n",
    "gistic_2_0_job_spec.set_parameter(\"q-value.threshold\", \"0.1\")\n",
    "gistic_2_0_job_spec.set_parameter(\"remove.X\", \"0\")\n",
    "gistic_2_0_job_spec.set_parameter(\"cap.val\", \"1.5\")\n",
    "gistic_2_0_job_spec.set_parameter(\"confidence.level\", \"0.99\")\n",
    "gistic_2_0_job_spec.set_parameter(\"run.broad.analysis\", \"0\")\n",
    "gistic_2_0_job_spec.set_parameter(\"focal.length.cutoff\", \"0.7\")\n",
    "gistic_2_0_job_spec.set_parameter(\"max.sample.segs\", \"2000\")\n",
    "gistic_2_0_job_spec.set_parameter(\"arm.peel\", \"1\")\n",
    "gistic_2_0_job_spec.set_parameter(\"sample.center\", \"\")\n",
    "gistic_2_0_job_spec.set_parameter(\"gene.collapse.method\", \"extreme\")\n",
    "gistic_2_0_job_spec.set_parameter(\"output.prefix\", \"\")\n",
    "gistic_2_0_job_spec.set_parameter(\"logdat\", \"\")\n",
    "gistic_2_0_job_spec.set_parameter(\"job.memory\", \"4 Gb\")\n",
    "gistic_2_0_job_spec.set_parameter(\"job.walltime\", \"02:00:00\")\n",
    "gistic_2_0_job_spec.set_parameter(\"job.cpuCount\", \"1\")\n",
    "genepattern.display(gistic_2_0_task)\n",
    "\n",
    "\n",
    "job589366 = gp.GPJob(genepattern.session.get(0), 589366)\n",
    "genepattern.display(job589366)"
   ]
  }
 ],
 "metadata": {
  "kernelspec": {
   "display_name": "Python 3.8",
   "language": "python",
   "name": "python3.8"
  },
  "language_info": {
   "codemirror_mode": {
    "name": "ipython",
    "version": 3
   },
   "file_extension": ".py",
   "mimetype": "text/x-python",
   "name": "python",
   "nbconvert_exporter": "python",
   "pygments_lexer": "ipython3",
   "version": "3.8.8"
  },
  "toc": {
   "base_numbering": 1,
   "nav_menu": {},
   "number_sections": false,
   "sideBar": true,
   "skip_h1_title": false,
   "title_cell": "Table of Contents",
   "title_sidebar": "Contents",
   "toc_cell": false,
   "toc_position": {},
   "toc_section_display": true,
   "toc_window_display": true
  }
 },
 "nbformat": 4,
 "nbformat_minor": 5
}
